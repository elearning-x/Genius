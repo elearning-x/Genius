{
 "cells": [
  {
   "attachments": {
    "Coeff_binomiaux_text.png": {
     "image/png": "[encoded data removed]"
    }
   },
   "cell_type": "markdown",
   "id": "blocked-polyester",
   "metadata": {},
   "source": [
    "# Exercice 1 : Coefficients binomiaux\n",
    "\n",
    "## Objectif\n",
    "L’objectif de cette exercice est de représenter graphiquement des coefficients binomiaux disposés de la manière suivante :\n",
    "![Coeff_binomiaux_text.png](attachment:Coeff_binomiaux_text.png)\n",
    "\n"
   ]
  },
  {
   "attachments": {
    "binom_coul_1.png": {
     "image/png": "[encoded data removed]"
    }
   },
   "cell_type": "markdown",
   "id": "incorrect-summit",
   "metadata": {},
   "source": [
    "en remplaçant chaque coefficient binomial par un carré de couleur associé à sa valeur. La figure obtenue étant sur un fond d’une couleur donnée. \n",
    "\n",
    "On peut par exemple choisir le code couleur suivant : si la valeur du coefficient est supérieure ou égale à deux, la case est verte, sinon la case est jaune. La couleur du fond est noire. Voici la figure obtenue :\n",
    "\n",
    "![binom_coul_1.png](attachment:binom_coul_1.png)"
   ]
  },
  {
   "attachments": {
    "coeff_bin_2.png": {
     "image/png": "[encoded data removed]"
    }
   },
   "cell_type": "markdown",
   "id": "sacred-brown",
   "metadata": {},
   "source": [
    "Posons N la plus grande valeur de n telle que l’on calcule k parmi n pour tout k entre 0 et n. La figure ci-dessus représente le cas N=2. Avec la même règle de représentation, nous obtenons la figure suivante pour N = 8 :\n",
    "\n",
    "\n",
    "![coeff_bin_2.png](attachment:coeff_bin_2.png)"
   ]
  },
  {
   "cell_type": "markdown",
   "id": "photographic-lodge",
   "metadata": {},
   "source": [
    "\n",
    "#### L’objectif de cet exercice sera de faire des représentations graphiques des coefficients binomiaux pour de grandes valeurs de N et pour différents coloriages.\n",
    "\n",
    "\n",
    "## Méthode\n",
    "Pour ce faire, nous allons de nouveau utiliser Python. Il y a deux grandes étapes :\n",
    "\n",
    " 1- Le calcul des coefficients binomiaux\n",
    " \n",
    " 2- L'affichage"
   ]
  },
  {
   "cell_type": "markdown",
   "id": "suspended-bloom",
   "metadata": {},
   "source": [
    "## 1- Calcul des coefficients binomiaux         \n",
    "                                                  \n",
    "Nous souhaitons calculer tous les coefficients binomiaux coeff(n, k) pour tout couple(n, k) tel que 0<=k<=n<=N.\n",
    "\n",
    "Nous allons donc créer une matrice matCoefs qui contient tous ces coefficients binomiaux. \n",
    "L'indice en ligne est n et l'indice en colonne est k. Si un coefficient n'est pas encore calculé ou n'existe pas, son emplacement dans la matrice est rempli par -1.\n",
    "\n",
    "Voici un exemple de matCoefs pour N = 2 :    "
   ]
  },
  {
   "cell_type": "raw",
   "id": "terminal-reviewer",
   "metadata": {},
   "source": [
    "    \n",
    " <--------------------k------------------->          \n",
    "^[[ coeff(0, 0),     -1     ,       -1    ], \n",
    "|                                            \n",
    "n [ coeff(1, 0), coeff(1, 1),       -1    ], \n",
    "|                                            \n",
    "v [ coeff(2, 0), coeff(2, 1), coeff(2, 2) ]] \n",
    "                                                  "
   ]
  },
  {
   "cell_type": "markdown",
   "id": "existing-terrace",
   "metadata": {},
   "source": [
    "### Définition des paramètres"
   ]
  },
  {
   "cell_type": "code",
   "execution_count": null,
   "id": "seventh-computer",
   "metadata": {},
   "outputs": [],
   "source": [
    "def cree_matCoefs(N):\n",
    "    \"\"\"\n",
    "    Prérequis : N>= 0\n",
    "    Renvoie une matrice de taille (N+1) * (N+1) dont tous les coefficients valent -1\n",
    "    \"\"\"\n",
    "    matCoefs = [[-1] * (N+1).copy()] * (N+1)\n",
    "    # Pour l'instant matCoefs contient N+1 fois la même variable ligne : donc si l'une \n",
    "    # des lignes de la matrice est modifiée, toutes les autres le sont également puisqu'il\n",
    "    # ne s'agit en réalité que d'une seule et même ligne. On parle d'aliasing.\n",
    "    # Ce n'est pas ici le propos, nous allons donc simplement remplacer les N premières\n",
    "    # lignes par des lignes qui ont la même valeur mais ne sont pas la même variable.\n",
    "    for i in range(N) :\n",
    "        matCoefs[i] = [-1] * (N+1)\n",
    "    return(matCoefs)"
   ]
  },
  {
   "cell_type": "code",
   "execution_count": null,
   "id": "imperial-sarah",
   "metadata": {},
   "outputs": [],
   "source": [
    "# N est la valeur maximale de n pour laquelle on calculera les coeff(n, k)\n",
    "N = 5                           \n",
    "matCoefs = cree_matCoefs(N)"
   ]
  },
  {
   "cell_type": "markdown",
   "id": "waiting-constitution",
   "metadata": {},
   "source": [
    "### Calcul d'un unique coefficient binomial\n",
    "Pour commencer, remplissez la fonction coeff qui renvoie un seul coefficient binomial. Elle permettra de remplir matCoefs. \n",
    "\n",
    "#### N'oubliez pas de lire les prérequis de la fonction ainsi que les conseils dispensés en commentaires. "
   ]
  },
  {
   "cell_type": "code",
   "execution_count": null,
   "id": "adverse-jason",
   "metadata": {},
   "outputs": [],
   "source": [
    "def coeff(n, k) :\n",
    "    \"\"\"\n",
    "    Prérequis : k et n sont des entiers naturels et 0<=k<=n\n",
    "    \n",
    "    Range le coefficient binomial coeff(n, k) dans la matrice matCoefs.\n",
    "    Ne renvoi rien.\"\"\"\n",
    "    \n",
    "    ##############################################################################\n",
    "    #                                  Conseils                                  #\n",
    "    # Pensez à optimiser le calcul des coefficients binomiaux, pour cela, il est #\n",
    "    # judicieux de se renseigner sur les relations entre les différents          #\n",
    "    # coefficients binomiaux. Découper le problème en sous-problème s'appelle    #\n",
    "    # \"programmation dynamique\" ici, cela permet de stocker et d'utiliser les    #\n",
    "    # valeurs précédemment calculées plutôt que d'appliquer une formule générale #\n",
    "    # coûteuse en temps de calcul.                                               #\n",
    "    # Il peut être utile de rendre la fonction récursive.                        #\n",
    "    # On veillera à ce que tous les cas de figure prévus par les spécifications  #\n",
    "    # soient pris en compte.                                                     #\n",
    "    ##############################################################################\n",
    "    # On s'assure que n>=k>=0\n",
    "    assert(n >= k)\n",
    "    assert(k >= 0)\n",
    "    \n",
    "    # Remplir ici\n",
    "    \n",
    "    "
   ]
  },
  {
   "cell_type": "markdown",
   "id": "spread-ensemble",
   "metadata": {},
   "source": [
    "Testez la fonction codée et comparez les résultats obtenus avec des coefficients calculés à la main. \n",
    "\n",
    "Un bon test prend en compte différents cas de figure dont les cas limites comme k=n=0, k=n etc."
   ]
  },
  {
   "cell_type": "code",
   "execution_count": null,
   "id": "increased-glucose",
   "metadata": {},
   "outputs": [],
   "source": [
    "coeff(..., ...)\n",
    "coeff(..., ...)\n",
    "coeff(..., ...)\n",
    "coeff(..., ...)\n",
    "coeff(..., ...)\n",
    "print(matCoefs)"
   ]
  },
  {
   "cell_type": "markdown",
   "id": "neither-bidder",
   "metadata": {},
   "source": [
    "Testez votre fonction pour N = 20. Le temps de calcul est-il satisfaisant ? Si ce n'est pas le cas, il vous faut coder cette fonction de manière plus efficace. Pour cela suivez les conseils en commentaires."
   ]
  },
  {
   "cell_type": "code",
   "execution_count": null,
   "id": "celtic-highway",
   "metadata": {},
   "outputs": [],
   "source": [
    "N = 5                           \n",
    "matCoefs = cree_matCoefs(N)\n",
    "coeff(N, N)"
   ]
  },
  {
   "cell_type": "markdown",
   "id": "verbal-assessment",
   "metadata": {},
   "source": [
    "### Remplissage de la matrice matCoefs\n",
    "Il est maintenant temps de remplir la matrice matCoefs. Pour cela, complétez la fonction rempli_matCoefs.\n",
    "\n",
    "#### N'oubliez pas de lire les prérequis de la fonction ainsi que les conseils dispensés en commentaires."
   ]
  },
  {
   "cell_type": "code",
   "execution_count": null,
   "id": "blank-attempt",
   "metadata": {},
   "outputs": [],
   "source": [
    "def rempli_matCoefs(N) :\n",
    "    \"\"\"\n",
    "    Prérequis : \n",
    "    N est un entier naturel.\n",
    "    matCoefs est une matrice de taille (N+1)*(N+1).\n",
    "    Revoie une matrice d'entier naturels contenant en position (n, k) coeff(n, k) \n",
    "    si ce nombre existe et -1 sinon.\n",
    "    \"\"\"\n",
    "    ##############################################################################\n",
    "    #                                  Conseils                                  #\n",
    "    # Faites appel à la fonction coeff et réfléchissez à l'ordre de remplissage  #\n",
    "    # pour permettre de faciliter le calcul de coeff(n, k)                       #\n",
    "    ##############################################################################\n",
    "    \n",
    "    # Remplir ici\n",
    "    "
   ]
  },
  {
   "cell_type": "markdown",
   "id": "committed-discovery",
   "metadata": {},
   "source": [
    "Testez votre fonction en utilisant une petite valeur de N."
   ]
  },
  {
   "cell_type": "code",
   "execution_count": null,
   "id": "experienced-belief",
   "metadata": {},
   "outputs": [],
   "source": [
    "N = ...\n",
    "matCoefs = cree_matCoefs(N)\n",
    "rempli_matCoefs(N)\n",
    "print(matCoefs)"
   ]
  },
  {
   "cell_type": "markdown",
   "id": "dietary-kitchen",
   "metadata": {},
   "source": [
    "## 2- Affichage\n",
    "L'affichage se fait en trois temps :\n",
    "\n",
    "1- Associer une couleur à chaque coefficient binomial\n",
    "\n",
    "2- Associer une position et une taille sur l'image à chaque coefficient binomial\n",
    "\n",
    "3- Créer l'image\n",
    "\n",
    "Les détailles techniques de chaque étape seront détaillés au fur et à mesure."
   ]
  },
  {
   "cell_type": "markdown",
   "id": "fewer-verification",
   "metadata": {},
   "source": [
    "## 2-1- La couleur\n",
    "Commençons d'abord par définir quelques paramètres importants."
   ]
  },
  {
   "cell_type": "code",
   "execution_count": null,
   "id": "scenic-rochester",
   "metadata": {},
   "outputs": [],
   "source": [
    "# nombre de bits utilisé pour chaque composante R, G\n",
    "# et B de l'affichage\n",
    "nb_bits_couleurs = 8\n",
    "# nombre de valeur pouvant être prise par ces bits\n",
    "nb_niveaux_gris = 2**nb_bits_couleurs\n",
    "# valeur associée à la couleur noire\n",
    "NOIR = 0\n",
    "# valeur associée à la couleur blanche\n",
    "BLANC = nb_niveaux_gris - 1"
   ]
  },
  {
   "cell_type": "markdown",
   "id": "polish-trouble",
   "metadata": {},
   "source": [
    "La couleur d'un pixel est remprésentée par un triplet d'entiers compris entre NOIR et BLANC. Il définit le niveau de luminosité de chaque composante RGB de la couleur.\n",
    "\n",
    "Voici quelques exemples :"
   ]
  },
  {
   "cell_type": "raw",
   "id": "continuous-colorado",
   "metadata": {},
   "source": [
    "Rouge   : [BLANC, NOIR , NOIR ]\n",
    "Vert    : [NOIR , BLANC, NOIR ]\n",
    "Bleu    : [NOIR , NOIR , BLANC] \n",
    "Jaune   : [BLANC, BLANC, NOIR ]\n",
    "Magenta : [BLANC, NOIR , BLANC]\n",
    "Blanc   : [BLANC, BLANC, BLANC]\n",
    "Noir    : [NOIR , NOIR , NOIR ]\n",
    "Cyan    : [NOIR , BLANC, BLANC]"
   ]
  },
  {
   "cell_type": "markdown",
   "id": "vocal-booth",
   "metadata": {},
   "source": [
    "Remplissez la fonction trouve_couleur qui associe une couleur à chaque valeur de coefficient binomial.\n",
    "Vous pouvez choisir le coloriage qui vous convient."
   ]
  },
  {
   "cell_type": "code",
   "execution_count": null,
   "id": "capital-poison",
   "metadata": {},
   "outputs": [],
   "source": [
    "def trouve_couleur(valeur, NOIR, BLANC) :\n",
    "    \"\"\"\n",
    "    Prérequis :\n",
    "    Valeur, NOIR et BLANC sont des entiers, BLANC > NOIR >= 0.\n",
    "    \n",
    "    Renvoie un tableau à trois éléments. Ces éléments sont des entiers compris entre \n",
    "    NOIR et BLANC inclus.\n",
    "    Ce tableau représente la couleur associée à une valeur de coefficient binomial\n",
    "    valeur dans la convention RGB décrite ci-dessus.\n",
    "    \"\"\"\n",
    "    \n",
    "    # Nous commençons la fonction par des tests afin de s'assurer que les prérequis\n",
    "    # concernant NOIR et BLANC sont respecté. Il est laissé au programmeur la possibilité\n",
    "    # d'ajouter des tests supplémentaires. \n",
    "    \n",
    "    assert(NOIR >= 0)\n",
    "    assert(BLANC > NOIR)\n",
    "    \n",
    "    # Remplissez la fin de la fonction\n",
    "    "
   ]
  },
  {
   "cell_type": "markdown",
   "id": "efficient-person",
   "metadata": {},
   "source": [
    "### 2-2- La position et la taille\n",
    "Il nous faut maintenant associer à chaque coefficient binomial sa taille et sa position dans l'image.\n",
    "\n",
    "Commençons par sa taille, :"
   ]
  },
  {
   "cell_type": "code",
   "execution_count": null,
   "id": "systematic-consultation",
   "metadata": {},
   "outputs": [],
   "source": [
    "# Longueur du côté des cases représentant les coefficients\n",
    "taille_case = ... # en nombre de pixels"
   ]
  },
  {
   "cell_type": "markdown",
   "id": "general-agriculture",
   "metadata": {},
   "source": [
    "Nous définissons maintenant la fonction zone_case qui, pour un coefficent coeff(n, k), renvoie deux tableaux indiquant quels pixels représentent coeff(n,k). Il s'agit ici uniquement de savoir où ces pixels seront et non pas de quelle couleur ils seront."
   ]
  },
  {
   "cell_type": "code",
   "execution_count": null,
   "id": "greek-toner",
   "metadata": {},
   "outputs": [],
   "source": [
    "def zone_case(N, n, k, taille_case):\n",
    "    \"\"\" \n",
    "    Prérequis :\n",
    "    N, n et k sont des entiers naturels, N est non nul et k<=n.\n",
    "    \n",
    "    Renvoie un couple de tableaux d'entiers (intervalle_i, intervalle_j). Ces tableaux sont\n",
    "    tels que dans une représentation pyramidale des coefficients binomiaux, le coefficient \n",
    "    coeff(n, k) est représenté par une case dont les pixels ont des coordonnées (i, j) \n",
    "    avec i dans intervalle_i et j dans intervalle_j.\n",
    "    \"\"\"\n",
    "    intervalle_i = range(n * taille_case, (n+1) *  taille_case)\n",
    "    intervalle_j = range((2 * k + (N - n))* taille_case, (2 * k + (N - n) + 1)* taille_case )\n",
    "    return intervalle_i, intervalle_j"
   ]
  },
  {
   "cell_type": "markdown",
   "id": "realistic-penetration",
   "metadata": {},
   "source": [
    "### 2-3- Création de l'image\n",
    "Pour afficher l'image, il nous faut tout d'abord définir la couleur du fond."
   ]
  },
  {
   "cell_type": "code",
   "execution_count": null,
   "id": "opposed-midwest",
   "metadata": {},
   "outputs": [],
   "source": [
    "# Représentation de la couleur du fond au format RGB\n",
    "couleur_fond = ... "
   ]
  },
  {
   "cell_type": "markdown",
   "id": "going-tyler",
   "metadata": {},
   "source": [
    "Importons la librairie nécessaire au tracé."
   ]
  },
  {
   "cell_type": "code",
   "execution_count": null,
   "id": "trained-redhead",
   "metadata": {},
   "outputs": [],
   "source": [
    "import matplotlib.pyplot as plt"
   ]
  },
  {
   "cell_type": "markdown",
   "id": "friendly-paintball",
   "metadata": {},
   "source": [
    "Définissons maintenant la fonction affiche_coefs qui affiche la représentation des coefficients binomiaux."
   ]
  },
  {
   "cell_type": "code",
   "execution_count": null,
   "id": "empirical-dover",
   "metadata": {},
   "outputs": [],
   "source": [
    "def affiche_coefs(N, matCoefs, couleur_fond, taille_case, trouve_couleur):\n",
    "    \"\"\"\n",
    "    Affiche une image représentant les coefficients de matCoefs selon le code \n",
    "    couleur prévus dans la fonction trouve_couleur.\n",
    "    \n",
    "    Prérequis :\n",
    "    N est un entier positif.\n",
    "    matCoefs est une matrice d'entiers positifs de taille (N+1)*(N+1).\n",
    "    Couleur_fond est un entier compris entre NOIR et BLANC.\n",
    "    trouve_couleur est une fonction répondant aux spécifications suivantes :\n",
    "    ---------------------------------------------------------------------------------- \n",
    "    def trouve_couleur(valeur, NOIR, BLANC) :  \n",
    "        Prérequis :\n",
    "        Valeur, NOIR et BLANC sont des entiers, BLANC > NOIR >= 0.\n",
    "    \n",
    "        Renvoie un tableau à trois éléments. Ces éléments sont des entiers compris entre \n",
    "        NOIR et BLANC inclus.\n",
    "        Ce tableau représente la couleur associée à une valeur de coefficient binomial\n",
    "        valeur dans la convention RGB décrite ci-dessus.\n",
    "    ----------------------------------------------------------------------------------\n",
    "    \"\"\"\n",
    "    #    # matImage est la matrice contenant les couleurs de tous les pixels, tels qu'ils\n",
    "    # seront positionnés dans l'image (l'élément en position [i][j] dans la matrice \n",
    "    # représente le pixel sur la i-ème ligne et la j-ème colonne).\n",
    "    # Ses dimensions sont donc les dimensions de l'image :\n",
    "    #   largeur : (2 * N + 1) * taille_case pour N + 1 coefficients et N cases vides\n",
    "    #    sur la dernière ligne\n",
    "    #   hauteur : (N + 1) * taille_case pour N + 1 lignes\n",
    "    # On notera qu'initialement matImage représente une image uniforme de la couleur\n",
    "    # du fond.\n",
    "    \n",
    "    # Ne pas modifier la création de matImage\n",
    "    matImage = [[couleur_fond]* (2 * N + 1) * taille_case] * (N + 1) * taille_case\n",
    "    for i in range((N+1) * taille_case) :\n",
    "        matImage[i] =[couleur_fond]* (2 * N + 1) * taille_case\n",
    "   \n",
    "    # Complétez matImage\n",
    "    \n",
    "    \n",
    "    # Affichage\n",
    "    plt.imshow(matImage)"
   ]
  },
  {
   "cell_type": "markdown",
   "id": "animated-alabama",
   "metadata": {},
   "source": [
    "Testez la fonction obtenue."
   ]
  },
  {
   "cell_type": "code",
   "execution_count": null,
   "id": "western-economics",
   "metadata": {},
   "outputs": [],
   "source": [
    "N = ...\n",
    "matCoefs = cree_matCoefs(N)\n",
    "rempli_matCoefs(N)\n",
    "affiche_coefs(N, matCoefs, couleur_fond, taille_case, trouve_couleur)"
   ]
  },
  {
   "cell_type": "markdown",
   "id": "alive-microphone",
   "metadata": {},
   "source": [
    "## 3- Et les fractales alors ?\n",
    "Nous n'en avons toujours pas vu... \n",
    "\n",
    "## 3-1- Parité\n",
    "Remplissez la fonction trouve_couleur_parite de manière à ce quelle colorie en une couleur A les coefficients pairs, en une couleur B les coefficients impairs et en une couleur C le fond de la figure avec A, B et C des couleurs bien distinctes."
   ]
  },
  {
   "cell_type": "code",
   "execution_count": null,
   "id": "loved-denial",
   "metadata": {},
   "outputs": [],
   "source": [
    "def trouve_couleur_parite(valeur, NOIR, BLANC) :\n",
    "    \"\"\"\n",
    "    Prérequis :\n",
    "    Valeur, NOIR et BLANC sont des entiers, BLANC > NOIR >= 0.\n",
    "    \n",
    "    Renvoie un tableau à trois éléments. Ces éléments sont des entiers compris entre \n",
    "    NOIR et BLANC inclus.\n",
    "    Ce tableau représente la couleur associée à une valeur de coefficient binomial\n",
    "    valeur dans la convention RGB décrite ci-dessus.\n",
    "    \"\"\"\n",
    "    \n",
    "    # Nous commençons la fonction par des tests afin de s'assurer que les prérequis\n",
    "    # concernant NOIR et BLANC sont respecté. Il est laissé au programmeur la possibilité\n",
    "    # d'ajouter des tests supplémentaires. \n",
    "    \n",
    "    assert(NOIR >= 0)\n",
    "    assert(BLANC > NOIR)\n",
    "    \n",
    "    # Remplissez la fin de la fonction\n",
    "    "
   ]
  },
  {
   "cell_type": "markdown",
   "id": "ordered-event",
   "metadata": {},
   "source": [
    "Testez cette nouvelle façon de colorier avec une valeur de N suffisamment grande (au moins 50)"
   ]
  },
  {
   "cell_type": "markdown",
   "id": "billion-traveler",
   "metadata": {},
   "source": [
    "N = ...\n",
    "matCoefs = cree_matCoefs(N)\n",
    "rempli_matCoefs(N)\n",
    "affiche_coefs(N, matCoefs, couleur_fond, taille_case, trouve_couleur_parite)"
   ]
  },
  {
   "cell_type": "markdown",
   "id": "veterinary-azerbaijan",
   "metadata": {},
   "source": [
    "#### Reconnaissez-vous une figure connue ? Ou plus précisément une fractale connue ?\n",
    "\n",
    "## 3-2- Quid des autres multiples ?\n",
    "Faites de même pour les multiples de 3 et 5"
   ]
  },
  {
   "cell_type": "code",
   "execution_count": null,
   "id": "union-federation",
   "metadata": {},
   "outputs": [],
   "source": [
    "def trouve_couleur_3(valeur, NOIR, BLANC) :\n",
    "    \"\"\"\n",
    "    Prérequis :\n",
    "    Valeur, NOIR et BLANC sont des entiers, BLANC > NOIR >= 0.\n",
    "    \n",
    "    Renvoie un tableau à trois éléments. Ces éléments sont des entiers compris entre \n",
    "    NOIR et BLANC inclus.\n",
    "    Ce tableau représente la couleur associée à une valeur de coefficient binomial\n",
    "    valeur dans la convention RGB décrite ci-dessus.\n",
    "    \"\"\"\n",
    "    \n",
    "    # Nous commençons la fonction par des tests afin de s'assurer que les prérequis\n",
    "    # concernant NOIR et BLANC sont respecté. Il est laissé au programmeur la possibilité\n",
    "    # d'ajouter des tests supplémentaires. \n",
    "    \n",
    "    assert(NOIR >= 0)\n",
    "    assert(BLANC > NOIR)\n",
    "    \n",
    "    # Remplissez la fin de la fonction\n",
    "    "
   ]
  },
  {
   "cell_type": "code",
   "execution_count": null,
   "id": "interpreted-needle",
   "metadata": {},
   "outputs": [],
   "source": [
    "affiche_coefs(N, matCoefs, couleur_fond, taille_case, trouve_couleur_3)"
   ]
  },
  {
   "cell_type": "code",
   "execution_count": null,
   "id": "sporting-dominant",
   "metadata": {},
   "outputs": [],
   "source": [
    "def trouve_couleur_5(valeur, NOIR, BLANC) :\n",
    "    \"\"\"\n",
    "    Prérequis :\n",
    "    Valeur, NOIR et BLANC sont des entiers, BLANC > NOIR >= 0.\n",
    "    \n",
    "    Renvoie un tableau à trois éléments. Ces éléments sont des entiers compris entre \n",
    "    NOIR et BLANC inclus.\n",
    "    Ce tableau représente la couleur associée à une valeur de coefficient binomial\n",
    "    valeur dans la convention RGB décrite ci-dessus.\n",
    "    \"\"\"\n",
    "    \n",
    "    # Nous commençons la fonction par des tests afin de s'assurer que les prérequis\n",
    "    # concernant NOIR et BLANC sont respecté. Il est laissé au programmeur la possibilité\n",
    "    # d'ajouter des tests supplémentaires. \n",
    "    \n",
    "    assert(NOIR >= 0)\n",
    "    assert(BLANC > NOIR)\n",
    "    \n",
    "    # Remplissez la fin de la fonction\n",
    "    "
   ]
  },
  {
   "cell_type": "code",
   "execution_count": null,
   "id": "rental-bridal",
   "metadata": {},
   "outputs": [],
   "source": [
    "affiche_coefs(N, matCoefs, couleur_fond, taille_case, trouve_couleur_5)"
   ]
  },
  {
   "cell_type": "markdown",
   "id": "correct-klein",
   "metadata": {},
   "source": [
    "### Ces trois critères d'affichage font apparaître des triangles de Sierpinski. Cet exercice est un exemple classique de l'émergence des fractales."
   ]
  }
 ],
 "metadata": {
  "kernelspec": {
   "display_name": "Python 3",
   "language": "python",
   "name": "python3"
  },
  "language_info": {
   "codemirror_mode": {
    "name": "ipython",
    "version": 3
   },
   "file_extension": ".py",
   "mimetype": "text/x-python",
   "name": "python",
   "nbconvert_exporter": "python",
   "pygments_lexer": "ipython3",
   "version": "3.8.5"
  }
 },
 "nbformat": 4,
 "nbformat_minor": 5
}
