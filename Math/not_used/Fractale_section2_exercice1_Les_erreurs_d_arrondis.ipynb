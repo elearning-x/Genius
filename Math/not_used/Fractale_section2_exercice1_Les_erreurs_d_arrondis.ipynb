{
 "cells": [
  {
   "cell_type": "markdown",
   "id": "animated-hunger",
   "metadata": {},
   "source": [
    "# Exercice 1 : Les erreurs d’arrondi \n",
    "\n",
    " \n",
    "\n",
    "Le but de cet exercice est d'évaluer l'importance des erreurs d'arrondi.\n",
    "\n",
    " \n",
    "\n",
    "#### 1- a- Calculer à la main l’écriture binaire des nombres suivants  : 0.5, 0.25 et 0.1\n",
    "\n",
    "Comment faire ? Pour un entier c’est chose facile : $3 = 2¹ + 2⁰$  donc son écriture binaire est 11. Pour un nombre à virgule, on procède de la même manière : $0.625 = 2⁻¹ + 2⁻³$ donc son écriture binaire est 0.101.\n",
    "\n",
    "####   b- Quelle est la particularité de 0.1 par rapport à 0.5 ou 0.25 ?\n",
    "\n",
    " \n",
    "\n",
    "#### 2- Calculez et affichez maintenant le booléen suivant : 0.3 - 0.2 == 0.1 "
   ]
  },
  {
   "cell_type": "code",
   "execution_count": null,
   "id": "least-pittsburgh",
   "metadata": {},
   "outputs": [],
   "source": [
    "print(0.3 - 0.2 == 0.1 )"
   ]
  },
  {
   "cell_type": "markdown",
   "id": "internal-blast",
   "metadata": {},
   "source": [
    "\n",
    "\n",
    "Comment peut-on expliquer ce phénomène ?\n",
    "\n",
    " \n",
    "\n",
    "#### 3- Reprenons l’exemple de l’algorithme de Jean-François Colonna exposé dans la vidéo :\n",
    "\n",
    "B = 4095.1\n",
    "\n",
    "A = B+1\n",
    "\n",
    "x0 = 1\n",
    "\n",
    "x1 = A * x0 - B\n",
    "\n",
    "x2 = A * x1 - B\n",
    "\n",
    "x3 = A * x2 - B\n",
    "\n",
    "x4 = A * x3 - B\n",
    "\n",
    "x5 = A * x4 - B\n",
    "\n",
    "x6 = A * x5 - B\n",
    "\n",
    "x7 = A * x6 - B\n",
    "\n",
    "…\n",
    "\n",
    "Si lorsque le calcul est fait pour des nombres codés sur 32 bits, tout se passe bien, pour un calcul fait avec des nombres codés en 64 bits, les valeurs trouvées sont les suivantes :\n",
    "\n",
    "1.0\n",
    "\n",
    "1.0000000000004547\n",
    "\n",
    "1.0000000018631\n",
    "\n",
    "1.0000076314440776\n",
    "\n",
    "1.0312591580864137\n",
    "\n",
    "129.04063743775941\n",
    "\n",
    "524468.2550088064\n",
    "\n",
    "2148270324.241572\n",
    "\n",
    "…\n",
    "\n",
    "\n",
    "#### D’où viennent les erreurs ? Pourquoi celles-ci deviennent-elles si importantes au bout de quelques itérations seulement ?\n",
    "\n",
    " "
   ]
  }
 ],
 "metadata": {
  "kernelspec": {
   "display_name": "Python 3",
   "language": "python",
   "name": "python3"
  },
  "language_info": {
   "codemirror_mode": {
    "name": "ipython",
    "version": 3
   },
   "file_extension": ".py",
   "mimetype": "text/x-python",
   "name": "python",
   "nbconvert_exporter": "python",
   "pygments_lexer": "ipython3",
   "version": "3.8.5"
  }
 },
 "nbformat": 4,
 "nbformat_minor": 5
}
