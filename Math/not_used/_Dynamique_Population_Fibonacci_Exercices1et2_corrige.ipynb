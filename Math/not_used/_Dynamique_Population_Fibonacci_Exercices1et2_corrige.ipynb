{
 "cells": [
  {
   "cell_type": "markdown",
   "metadata": {},
   "source": [
    "# <span style = \"color :  #ca6f1e \">Activité Python : Dynamique des populations - Les lapins de Fibonacci, Partie I </span>\n",
    "# <span style = \"color:red\">CORRECTION</span>\n",
    "\n",
    "# Calcul des différents termes de la suite de Fibonacci.\n",
    "\n"
   ]
  },
  {
   "cell_type": "markdown",
   "metadata": {},
   "source": [
    "## Exercice 1 : Calcul du nombre de couples de lapins à l'aide de la relation de récurrence\n",
    "\n",
    "Je te propose dans cet exercice, de créer une fonction python Fibonacci_1() qui prend en entrée le mois $n$ et qui renvoie le nombre de couples de lapins présents au mois $n$. L'algorithme s'appuiera sur la relation que tu as découverte dans la vidéo qui lie les termes de la suite des mois $n$, $n-1$ et $n-2$. \n",
    "\n",
    "Ensuite, tu peux vérifier que ton programme fonctionne pour le 20ème mois, mois pour lequel nous avons déjà calculé le nombre de lapins présents. \n",
    "J'ai commencé à créer la structure du programme, je te laisse le compléter comme il se doit. Au travail !"
   ]
  },
  {
   "cell_type": "code",
   "execution_count": 2,
   "metadata": {},
   "outputs": [],
   "source": [
    "def Fibonacci_1(n): # n correspond à la n-ième génération dont on veut calculer le nombre de couples de lapins\n",
    "    F0 = 0 # F0 corespond à l'initialisation, il n'y a pas de couples de lapin\n",
    "    F1 = 1 # F1 correspond au premier mois, il y a le premier mois 1 couple de lapins\n",
    "    \n",
    "    for k in range(2,n+1) : # Cela signifie que k va de 2 à n+1 non inclus (ie. de 2 à n inclus)\n",
    "        newF = F0 + F1 # On calcule le nombre de couples de lapins à la prochaine génération\n",
    "        F0 = F1  \n",
    "        F1 = newF\n",
    "    \n",
    "    return(newF)     "
   ]
  },
  {
   "cell_type": "markdown",
   "metadata": {},
   "source": [
    "Vérifie ci-dessous que ton programme fonctionne bien (n'oublie pas d'exécuter ton programme précédent au préalable). \\\n",
    "Pour rappel, nous cherchons le **nombre de lapins** présents le 20ème mois qui est égal à *13530*.\n"
   ]
  },
  {
   "cell_type": "code",
   "execution_count": 5,
   "metadata": {},
   "outputs": [
    {
     "name": "stdout",
     "output_type": "stream",
     "text": [
      "A la  43 e génération, il y a  433494437  couples de lapins. Donc il y a au total 866988874 lapins\n"
     ]
    }
   ],
   "source": [
    "n = 20\n",
    "\n",
    "n = 43\n",
    "\n",
    "print('A la ', str(n), 'e génération, il y a ', str(Fibonacci_1(n)), ' couples de lapins.', 'Donc il y a au total', str(2*Fibonacci_1(n)), 'lapins')"
   ]
  },
  {
   "cell_type": "code",
   "execution_count": 4,
   "metadata": {},
   "outputs": [],
   "source": [
    "## Méthode 2\n",
    "\n",
    "# On crée une liste F où on va stocker tous les résultats de la suite de Fibonacci jusqu'à la n-ième génération\n",
    "# Ainsi, F[n] correspondra au nombre de couples de lapins de la n-ième génération. \n",
    "\n",
    "def Fibonacci_1_bis(n) :\n",
    "    F0 = 0\n",
    "    F1 = 1\n",
    "    \n",
    "    F = [0]*(n+1)  # On crée une liste F de zéros que l'on modifiera par la suite\n",
    "    F[0] = F0\n",
    "    F[1] = F1\n",
    "\n",
    "    for k in range(2,n+1) : # Cela signifie que k va de 2 à n+1 non inclus (ie. de 2 à n inclus)\n",
    "        F[k] = F[k-1] + F[k-2]   # Relation de récurrence de la suite de Fibonacci\n",
    "        \n",
    "    return(F[n])"
   ]
  },
  {
   "cell_type": "code",
   "execution_count": 5,
   "metadata": {},
   "outputs": [
    {
     "name": "stdout",
     "output_type": "stream",
     "text": [
      "A la  7 e génération, il y a  13  couples de lapins.\n"
     ]
    }
   ],
   "source": [
    "# Vérifie ici que ton programme fonctionne bien (n'oublie pas d'exécuter ton programme au préalable)\n",
    "\n",
    "n = 7\n",
    "\n",
    "print('A la ', str(n), 'e génération, il y a ', str(Fibonacci_1_bis(n)), ' couples de lapins.')"
   ]
  },
  {
   "cell_type": "markdown",
   "metadata": {},
   "source": [
    "Tu as peut-être plutôt codé la deuxième méthode mais les deux méthodes sont correctes et donnent d'ailleurs les mêmes résultats si on prend le même n. En revanche, la méthode 1 prend moins de mémoire car elle ne stocke que les deux derniers résultats, tandis que la méthode 2 stocke tous les résultats de 0 à n dans une liste. Pour des n \"petits\", cela n'a pas d'importance, mais dans d'autres contextes, avec des n \"plus grands\", il faudra faire attention aux problèmes de stockage des données. "
   ]
  },
  {
   "cell_type": "markdown",
   "metadata": {},
   "source": [
    "## Exercice 2 : Calcul du nombre de couples de lapins à l'aide à l'aide de la formule explicite\n",
    "\n",
    "Je te propose dans cet exercice de découvrir une formule qui nous permettra de calculer directement le nombre de couples de lapins présents à la génération $n$ sans devoir calculer toutes les valeurs intermédiaires comme précédement. A la fin de l'exercice, nous allons utiliser cette formule pour créer une fonction python Fibonacci_2() qui prend en entrée le mois $n$ et qui renvoie le nombre de couples de lapins présents au mois $n$. \n",
    "Tu pourras vérifier que ton programme fonctionne pour le 20ème mois, mois pour lequel nous avons déjà calculé le nombre de lapins présents. Courage !"
   ]
  },
  {
   "cell_type": "markdown",
   "metadata": {},
   "source": [
    "On considère l'équation $r^2 = r + 1$.\n",
    "\n",
    "$\\textbf{1) Trouver les racines de cette équation}$.\n",
    "\n",
    "\n",
    "On admet le résultat suivant : \n",
    "\n",
    "On consdière une suite $(u_n)_{n \\in \\mathbb{N}}$ définie par récurrence par $u_{n+2} = u_{n+1} + u_n$. Alors la formule explicite de la suite $(u_n)_{n \\in \\mathbb{N}}$ est : \\begin{equation*} u_n = \\alpha \\cdot \\phi^n + \\beta \\cdot \\phi'^n \\end{equation*} où $\\phi$ et $\\phi'$ sont les deux racines réelles de l'équation $r^2 = r + 1$, et $\\alpha$ et $\\beta$ sont des constantes.\n",
    "\n",
    "$\\textbf{2) Calculer le terme général $F_n$ de la suite de Fibonacci en vous aidant de ce résultat}$\n",
    "\n",
    "$\\textbf{3) Ecrire un algorithme permettant de calculer le n-ième terme de la suite de Fibonacci en s'aidant de la formule trouvée dans la question précédente}$"
   ]
  },
  {
   "cell_type": "markdown",
   "metadata": {},
   "source": [
    "1) Soit $\\Delta$ le discrimnant de l'équation $r^2-r-1=0$.\n",
    "\n",
    "Ainsi $\\Delta = 1 - 4*(-1)*1 = 5 $. \\\\\n",
    "\n",
    "On note $\\phi$ et $\\phi'$ les deux racines de l'équation.\n",
    "\n",
    "$\\begin{equation*}\n",
    "\\phi = \\frac{1+\\sqrt{5}}{2}\n",
    "\\qquad\n",
    "\\phi' = \\frac{1-\\sqrt{5}}{2}\n",
    "\\end{equation*}$\n",
    "\n",
    "2) La suite de Fibonacci s'écrit $F_{n+2} = F_{n+1} + F_n$\n",
    "Ainsi, d'après le résultat admis de l'énoncé, la formule du terme général s'écrit \n",
    "$\\begin{equation*} F_n = \\alpha \\cdot \\phi^n + \\beta \\cdot \\phi'^n \\end{equation*} $ où $\\alpha$ et $\\beta$ sont des constantes que l'on va déterminer grâce aux valeurs d'initialisation $F_0$ et $F_1$\n",
    "\n",
    "Or, $F_0 = 0$ et $F_1 = 1$ car le premier mois, le premier couple de lapins ne peut pas faire d'enfants. Il y a donc toujours un seul couple de lapins le 1er mois. \n",
    "\n",
    "Donc on a :\n",
    "\n",
    "$\\begin{equation*} F_0 = \\alpha \\cdot \\phi^0 + \\beta \\cdot \\phi'^0 = 0 \\qquad F_1 = \\alpha \\cdot \\phi^1 + \\beta \\cdot \\phi'^1 = 1 \\end{equation*}$\n",
    "\n",
    "Ce qui donne le système d'équations suivant :\n",
    "\n",
    "$\\begin{cases}\n",
    "\\alpha + \\beta = 0\n",
    "\\\\\n",
    "\\alpha \\cdot \\phi + \\beta \\cdot \\phi' = 1\n",
    "\\end{cases}$\n",
    "\n",
    "Soit : \n",
    "\n",
    "$\\begin{cases}\n",
    "\\alpha =-\\beta\n",
    "\\\\\n",
    "(-\\beta) \\cdot \\phi + \\beta \\cdot \\phi' = 1\n",
    "\\end{cases}$\n",
    "\n",
    "Donc : \n",
    "\n",
    "$\\begin{equation*}\n",
    "\\beta = \\frac{1}{\\phi' - \\phi} = -\\frac{1}{\\sqrt{5}}\n",
    "\\end{equation*}$\n",
    "\n",
    "et \n",
    "$\\begin{equation*}\n",
    "\\alpha = - \\beta = \\frac{1}{\\sqrt{5}}\n",
    "\\end{equation*}$\n",
    "\n",
    "On obtient donc  : \n",
    "\n",
    "$\\begin{equation*}\n",
    "F_n = \\frac{\\phi^n - \\phi'^n}{\\sqrt{5}}\n",
    "\\end{equation*}$"
   ]
  },
  {
   "cell_type": "code",
   "execution_count": 6,
   "metadata": {},
   "outputs": [],
   "source": [
    "## Pour la question 3\n",
    "\n",
    "from math import *\n",
    "\n",
    "def Fibonacci_2(n) : \n",
    "\n",
    "    phi = (1+sqrt(5)) / 2\n",
    "    phiprime = (1-sqrt(5)) / 2\n",
    "\n",
    "    F = ((phi**n) - (phiprime**n)) / sqrt(5)\n",
    "    \n",
    "    return(F)\n",
    "\n",
    "    \n",
    "    \n"
   ]
  },
  {
   "cell_type": "markdown",
   "metadata": {},
   "source": [
    "Vérifie ci-dessous que ton programme fonctionne bien (n'oublie pas d'exécuter ton programme précédent au préalable). \\\n",
    "Pour rappel, nous cherchons le **nombre de lapins** présents le 20ème mois qui est égal à *13530*."
   ]
  },
  {
   "cell_type": "code",
   "execution_count": 7,
   "metadata": {},
   "outputs": [
    {
     "name": "stdout",
     "output_type": "stream",
     "text": [
      "A la  7 e génération, il y a  13.000000000000002  couples de lapins.\n"
     ]
    }
   ],
   "source": [
    "n = 7\n",
    "\n",
    "print('A la ', str(n), 'e génération, il y a ', str(Fibonacci_2(n)), ' couples de lapins.')"
   ]
  },
  {
   "cell_type": "markdown",
   "metadata": {},
   "source": [
    "$\\textbf{4) Tester le programme avec plusieurs valeurs de n et comparer avec les résultats donnés par le programme de l'exercice 1}$\\\n",
    "N'hésite pas à tester avec plusieurs valeurs de $n$, sans toutefois dépasser $n=1500$. D'ailleurs, question bonus : que se passe-t-il pour des valeurs de $n$ supérieures à 1500 par exemple ?"
   ]
  },
  {
   "cell_type": "code",
   "execution_count": 38,
   "metadata": {},
   "outputs": [
    {
     "name": "stdout",
     "output_type": "stream",
     "text": [
      "Test pour n = 7, programme 2 :  13.000000000000002\n",
      "Test pour n = 7, programme 1 :  13\n",
      "Test pour n = 30, programme 2 :  832040.0000000008\n",
      "Test pour n = 30, programme 1 :  832040\n",
      "Test pour n = 50, programme 2 :  12586269025.00002\n",
      "Test pour n = 50, programme 1 :  12586269025\n",
      "Test pour n = 100, programme 2 :  3.542248481792631e+20\n",
      "Test pour n = 100, programme 1 :  354224848179261915075\n"
     ]
    }
   ],
   "source": [
    "print(\"Test pour n = 7, programme 2 : \",Fibonacci_2(7))\n",
    "print(\"Test pour n = 7, programme 1 : \",Fibonacci_1(7))\n",
    "\n",
    "print(\"Test pour n = 30, programme 2 : \",Fibonacci_2(30))\n",
    "print(\"Test pour n = 30, programme 1 : \",Fibonacci_1(30))\n",
    "\n",
    "print(\"Test pour n = 50, programme 2 : \",Fibonacci_2(50))\n",
    "print(\"Test pour n = 50, programme 1 : \",Fibonacci_1(50))\n",
    "\n",
    "print(\"Test pour n = 100, programme 2 : \",Fibonacci_2(100))\n",
    "print(\"Test pour n = 100, programme 1 : \",Fibonacci_1(100))"
   ]
  },
  {
   "cell_type": "markdown",
   "metadata": {},
   "source": [
    "On remarque que l'algorithme de la question 4 ne donne pas tout à fait la valeur exacte de $F_n$, mais un nombre approché. En effet, pour faire le calcul de $\\phi^n$ et $\\phi'^n$, la machine doit faire des arrondis car elle ne peut mémoriser qu'un nombre fini de chiffres après la virgule. Ainsi, le résultat final est en fait une valeur approchée qui reste néanmoins très précise à l'échelle où on travaille (je te laisse calculer l'erreur relative pour t'en convaincre). Lorsqu'on écrit un programme, il faut donc garder en tête que la valeur retournée par le programme peut être une valeur approchée de la valeur recherchée. Attention donc aux mauvaises surprises : tu en découvriras davantage lors des prochains modules. "
   ]
  }
 ],
 "metadata": {
  "kernelspec": {
   "display_name": "Python 3",
   "language": "python",
   "name": "python3"
  },
  "language_info": {
   "codemirror_mode": {
    "name": "ipython",
    "version": 3
   },
   "file_extension": ".py",
   "mimetype": "text/x-python",
   "name": "python",
   "nbconvert_exporter": "python",
   "pygments_lexer": "ipython3",
   "version": "3.7.4"
  }
 },
 "nbformat": 4,
 "nbformat_minor": 2
}
