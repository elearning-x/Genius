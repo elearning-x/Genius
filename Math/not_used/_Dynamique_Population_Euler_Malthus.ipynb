{
  "nbformat": 4,
  "nbformat_minor": 0,
  "metadata": {
    "colab": {
      "name": "Dynamique_Population_Euler_Malthus.ipynb",
      "provenance": []
    },
    "kernelspec": {
      "display_name": "Python 3",
      "language": "python",
      "name": "python3"
    },
    "language_info": {
      "codemirror_mode": {
        "name": "ipython",
        "version": 3
      },
      "file_extension": ".py",
      "mimetype": "text/x-python",
      "name": "python",
      "nbconvert_exporter": "python",
      "pygments_lexer": "ipython3",
      "version": "3.7.4"
    },
    "widgets": {
      "application/vnd.jupyter.widget-state+json": {
        "77de350191fb4dc7b590cd6f93ced9cf": {
          "model_module": "@jupyter-widgets/controls",
          "model_name": "VBoxModel",
          "state": {
            "_dom_classes": [
              "widget-interact"
            ],
            "_model_module": "@jupyter-widgets/controls",
            "_model_module_version": "1.5.0",
            "_model_name": "VBoxModel",
            "_view_count": null,
            "_view_module": "@jupyter-widgets/controls",
            "_view_module_version": "1.5.0",
            "_view_name": "VBoxView",
            "box_style": "",
            "children": [
              "IPY_MODEL_831550fd328546cf9804e6039b95cefa",
              "IPY_MODEL_d7138a1fe4df47f9a21d18787debf4e2",
              "IPY_MODEL_5fd7abe06fff4c45bee972659221bfc9",
              "IPY_MODEL_be18e1570a554cb2831286cc9470357d",
              "IPY_MODEL_e267c4e6eb9d4dc4995f96a51a829872"
            ],
            "layout": "IPY_MODEL_0d889642be2a40d98ccfe83db3398196"
          }
        },
        "0d889642be2a40d98ccfe83db3398196": {
          "model_module": "@jupyter-widgets/base",
          "model_name": "LayoutModel",
          "state": {
            "_model_module": "@jupyter-widgets/base",
            "_model_module_version": "1.2.0",
            "_model_name": "LayoutModel",
            "_view_count": null,
            "_view_module": "@jupyter-widgets/base",
            "_view_module_version": "1.2.0",
            "_view_name": "LayoutView",
            "align_content": null,
            "align_items": null,
            "align_self": null,
            "border": null,
            "bottom": null,
            "display": null,
            "flex": null,
            "flex_flow": null,
            "grid_area": null,
            "grid_auto_columns": null,
            "grid_auto_flow": null,
            "grid_auto_rows": null,
            "grid_column": null,
            "grid_gap": null,
            "grid_row": null,
            "grid_template_areas": null,
            "grid_template_columns": null,
            "grid_template_rows": null,
            "height": null,
            "justify_content": null,
            "justify_items": null,
            "left": null,
            "margin": null,
            "max_height": null,
            "max_width": null,
            "min_height": null,
            "min_width": null,
            "object_fit": null,
            "object_position": null,
            "order": null,
            "overflow": null,
            "overflow_x": null,
            "overflow_y": null,
            "padding": null,
            "right": null,
            "top": null,
            "visibility": null,
            "width": null
          }
        },
        "831550fd328546cf9804e6039b95cefa": {
          "model_module": "@jupyter-widgets/controls",
          "model_name": "IntSliderModel",
          "state": {
            "_dom_classes": [],
            "_model_module": "@jupyter-widgets/controls",
            "_model_module_version": "1.5.0",
            "_model_name": "IntSliderModel",
            "_view_count": null,
            "_view_module": "@jupyter-widgets/controls",
            "_view_module_version": "1.5.0",
            "_view_name": "IntSliderView",
            "continuous_update": true,
            "description": "p0",
            "description_tooltip": null,
            "disabled": false,
            "layout": "IPY_MODEL_a88666276d5f4fa8adcc2fff03c8226c",
            "max": 100,
            "min": 0,
            "orientation": "horizontal",
            "readout": true,
            "readout_format": "d",
            "step": 1,
            "style": "IPY_MODEL_f5fdd963b3f947e0a199fb904dcb49b0",
            "value": 30
          }
        },
        "d7138a1fe4df47f9a21d18787debf4e2": {
          "model_module": "@jupyter-widgets/controls",
          "model_name": "FloatSliderModel",
          "state": {
            "_dom_classes": [],
            "_model_module": "@jupyter-widgets/controls",
            "_model_module_version": "1.5.0",
            "_model_name": "FloatSliderModel",
            "_view_count": null,
            "_view_module": "@jupyter-widgets/controls",
            "_view_module_version": "1.5.0",
            "_view_name": "FloatSliderView",
            "continuous_update": true,
            "description": "q",
            "description_tooltip": null,
            "disabled": false,
            "layout": "IPY_MODEL_221135f5c21e4a7dbf78b02b400bc38e",
            "max": 2,
            "min": 0,
            "orientation": "horizontal",
            "readout": true,
            "readout_format": ".2f",
            "step": 0.1,
            "style": "IPY_MODEL_0a55f869643a4ae88295490aa6c8c6d3",
            "value": 1.3
          }
        },
        "5fd7abe06fff4c45bee972659221bfc9": {
          "model_module": "@jupyter-widgets/controls",
          "model_name": "IntSliderModel",
          "state": {
            "_dom_classes": [],
            "_model_module": "@jupyter-widgets/controls",
            "_model_module_version": "1.5.0",
            "_model_name": "IntSliderModel",
            "_view_count": null,
            "_view_module": "@jupyter-widgets/controls",
            "_view_module_version": "1.5.0",
            "_view_name": "IntSliderView",
            "continuous_update": true,
            "description": "N",
            "description_tooltip": null,
            "disabled": false,
            "layout": "IPY_MODEL_d493529c52d74440961b587019f51d29",
            "max": 1000,
            "min": 1,
            "orientation": "horizontal",
            "readout": true,
            "readout_format": "d",
            "step": 1,
            "style": "IPY_MODEL_9235f99f6f5d4c6aba1ac1d1ae7f4fcb",
            "value": 50
          }
        },
        "be18e1570a554cb2831286cc9470357d": {
          "model_module": "@jupyter-widgets/controls",
          "model_name": "ButtonModel",
          "state": {
            "_dom_classes": [],
            "_model_module": "@jupyter-widgets/controls",
            "_model_module_version": "1.5.0",
            "_model_name": "ButtonModel",
            "_view_count": null,
            "_view_module": "@jupyter-widgets/controls",
            "_view_module_version": "1.5.0",
            "_view_name": "ButtonView",
            "button_style": "",
            "description": "Run Interact",
            "disabled": false,
            "icon": "",
            "layout": "IPY_MODEL_88bdd8c0c3ff49039a29d95a68f58701",
            "style": "IPY_MODEL_8afa3fe43b434355990be2d8ec389f2d",
            "tooltip": ""
          }
        },
        "e267c4e6eb9d4dc4995f96a51a829872": {
          "model_module": "@jupyter-widgets/output",
          "model_name": "OutputModel",
          "state": {
            "_dom_classes": [],
            "_model_module": "@jupyter-widgets/output",
            "_model_module_version": "1.0.0",
            "_model_name": "OutputModel",
            "_view_count": null,
            "_view_module": "@jupyter-widgets/output",
            "_view_module_version": "1.0.0",
            "_view_name": "OutputView",
            "layout": "IPY_MODEL_73ac63d934f1454b863c55fa92a6e441",
            "msg_id": "",
            "outputs": [
              {
                "image/png": "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\n",
                "metadata": {
                  "needs_background": "light",
                  "tags": []
                },
                "output_type": "display_data",
                "text/plain": "<Figure size 432x288 with 1 Axes>"
              }
            ]
          }
        },
        "f5fdd963b3f947e0a199fb904dcb49b0": {
          "model_module": "@jupyter-widgets/controls",
          "model_name": "SliderStyleModel",
          "state": {
            "_model_module": "@jupyter-widgets/controls",
            "_model_module_version": "1.5.0",
            "_model_name": "SliderStyleModel",
            "_view_count": null,
            "_view_module": "@jupyter-widgets/base",
            "_view_module_version": "1.2.0",
            "_view_name": "StyleView",
            "description_width": "",
            "handle_color": null
          }
        },
        "a88666276d5f4fa8adcc2fff03c8226c": {
          "model_module": "@jupyter-widgets/base",
          "model_name": "LayoutModel",
          "state": {
            "_model_module": "@jupyter-widgets/base",
            "_model_module_version": "1.2.0",
            "_model_name": "LayoutModel",
            "_view_count": null,
            "_view_module": "@jupyter-widgets/base",
            "_view_module_version": "1.2.0",
            "_view_name": "LayoutView",
            "align_content": null,
            "align_items": null,
            "align_self": null,
            "border": null,
            "bottom": null,
            "display": null,
            "flex": null,
            "flex_flow": null,
            "grid_area": null,
            "grid_auto_columns": null,
            "grid_auto_flow": null,
            "grid_auto_rows": null,
            "grid_column": null,
            "grid_gap": null,
            "grid_row": null,
            "grid_template_areas": null,
            "grid_template_columns": null,
            "grid_template_rows": null,
            "height": null,
            "justify_content": null,
            "justify_items": null,
            "left": null,
            "margin": null,
            "max_height": null,
            "max_width": null,
            "min_height": null,
            "min_width": null,
            "object_fit": null,
            "object_position": null,
            "order": null,
            "overflow": null,
            "overflow_x": null,
            "overflow_y": null,
            "padding": null,
            "right": null,
            "top": null,
            "visibility": null,
            "width": null
          }
        },
        "0a55f869643a4ae88295490aa6c8c6d3": {
          "model_module": "@jupyter-widgets/controls",
          "model_name": "SliderStyleModel",
          "state": {
            "_model_module": "@jupyter-widgets/controls",
            "_model_module_version": "1.5.0",
            "_model_name": "SliderStyleModel",
            "_view_count": null,
            "_view_module": "@jupyter-widgets/base",
            "_view_module_version": "1.2.0",
            "_view_name": "StyleView",
            "description_width": "",
            "handle_color": null
          }
        },
        "221135f5c21e4a7dbf78b02b400bc38e": {
          "model_module": "@jupyter-widgets/base",
          "model_name": "LayoutModel",
          "state": {
            "_model_module": "@jupyter-widgets/base",
            "_model_module_version": "1.2.0",
            "_model_name": "LayoutModel",
            "_view_count": null,
            "_view_module": "@jupyter-widgets/base",
            "_view_module_version": "1.2.0",
            "_view_name": "LayoutView",
            "align_content": null,
            "align_items": null,
            "align_self": null,
            "border": null,
            "bottom": null,
            "display": null,
            "flex": null,
            "flex_flow": null,
            "grid_area": null,
            "grid_auto_columns": null,
            "grid_auto_flow": null,
            "grid_auto_rows": null,
            "grid_column": null,
            "grid_gap": null,
            "grid_row": null,
            "grid_template_areas": null,
            "grid_template_columns": null,
            "grid_template_rows": null,
            "height": null,
            "justify_content": null,
            "justify_items": null,
            "left": null,
            "margin": null,
            "max_height": null,
            "max_width": null,
            "min_height": null,
            "min_width": null,
            "object_fit": null,
            "object_position": null,
            "order": null,
            "overflow": null,
            "overflow_x": null,
            "overflow_y": null,
            "padding": null,
            "right": null,
            "top": null,
            "visibility": null,
            "width": null
          }
        },
        "9235f99f6f5d4c6aba1ac1d1ae7f4fcb": {
          "model_module": "@jupyter-widgets/controls",
          "model_name": "SliderStyleModel",
          "state": {
            "_model_module": "@jupyter-widgets/controls",
            "_model_module_version": "1.5.0",
            "_model_name": "SliderStyleModel",
            "_view_count": null,
            "_view_module": "@jupyter-widgets/base",
            "_view_module_version": "1.2.0",
            "_view_name": "StyleView",
            "description_width": "",
            "handle_color": null
          }
        },
        "d493529c52d74440961b587019f51d29": {
          "model_module": "@jupyter-widgets/base",
          "model_name": "LayoutModel",
          "state": {
            "_model_module": "@jupyter-widgets/base",
            "_model_module_version": "1.2.0",
            "_model_name": "LayoutModel",
            "_view_count": null,
            "_view_module": "@jupyter-widgets/base",
            "_view_module_version": "1.2.0",
            "_view_name": "LayoutView",
            "align_content": null,
            "align_items": null,
            "align_self": null,
            "border": null,
            "bottom": null,
            "display": null,
            "flex": null,
            "flex_flow": null,
            "grid_area": null,
            "grid_auto_columns": null,
            "grid_auto_flow": null,
            "grid_auto_rows": null,
            "grid_column": null,
            "grid_gap": null,
            "grid_row": null,
            "grid_template_areas": null,
            "grid_template_columns": null,
            "grid_template_rows": null,
            "height": null,
            "justify_content": null,
            "justify_items": null,
            "left": null,
            "margin": null,
            "max_height": null,
            "max_width": null,
            "min_height": null,
            "min_width": null,
            "object_fit": null,
            "object_position": null,
            "order": null,
            "overflow": null,
            "overflow_x": null,
            "overflow_y": null,
            "padding": null,
            "right": null,
            "top": null,
            "visibility": null,
            "width": null
          }
        },
        "8afa3fe43b434355990be2d8ec389f2d": {
          "model_module": "@jupyter-widgets/controls",
          "model_name": "ButtonStyleModel",
          "state": {
            "_model_module": "@jupyter-widgets/controls",
            "_model_module_version": "1.5.0",
            "_model_name": "ButtonStyleModel",
            "_view_count": null,
            "_view_module": "@jupyter-widgets/base",
            "_view_module_version": "1.2.0",
            "_view_name": "StyleView",
            "button_color": null,
            "font_weight": ""
          }
        },
        "88bdd8c0c3ff49039a29d95a68f58701": {
          "model_module": "@jupyter-widgets/base",
          "model_name": "LayoutModel",
          "state": {
            "_model_module": "@jupyter-widgets/base",
            "_model_module_version": "1.2.0",
            "_model_name": "LayoutModel",
            "_view_count": null,
            "_view_module": "@jupyter-widgets/base",
            "_view_module_version": "1.2.0",
            "_view_name": "LayoutView",
            "align_content": null,
            "align_items": null,
            "align_self": null,
            "border": null,
            "bottom": null,
            "display": null,
            "flex": null,
            "flex_flow": null,
            "grid_area": null,
            "grid_auto_columns": null,
            "grid_auto_flow": null,
            "grid_auto_rows": null,
            "grid_column": null,
            "grid_gap": null,
            "grid_row": null,
            "grid_template_areas": null,
            "grid_template_columns": null,
            "grid_template_rows": null,
            "height": null,
            "justify_content": null,
            "justify_items": null,
            "left": null,
            "margin": null,
            "max_height": null,
            "max_width": null,
            "min_height": null,
            "min_width": null,
            "object_fit": null,
            "object_position": null,
            "order": null,
            "overflow": null,
            "overflow_x": null,
            "overflow_y": null,
            "padding": null,
            "right": null,
            "top": null,
            "visibility": null,
            "width": null
          }
        },
        "73ac63d934f1454b863c55fa92a6e441": {
          "model_module": "@jupyter-widgets/base",
          "model_name": "LayoutModel",
          "state": {
            "_model_module": "@jupyter-widgets/base",
            "_model_module_version": "1.2.0",
            "_model_name": "LayoutModel",
            "_view_count": null,
            "_view_module": "@jupyter-widgets/base",
            "_view_module_version": "1.2.0",
            "_view_name": "LayoutView",
            "align_content": null,
            "align_items": null,
            "align_self": null,
            "border": null,
            "bottom": null,
            "display": null,
            "flex": null,
            "flex_flow": null,
            "grid_area": null,
            "grid_auto_columns": null,
            "grid_auto_flow": null,
            "grid_auto_rows": null,
            "grid_column": null,
            "grid_gap": null,
            "grid_row": null,
            "grid_template_areas": null,
            "grid_template_columns": null,
            "grid_template_rows": null,
            "height": null,
            "justify_content": null,
            "justify_items": null,
            "left": null,
            "margin": null,
            "max_height": null,
            "max_width": null,
            "min_height": null,
            "min_width": null,
            "object_fit": null,
            "object_position": null,
            "order": null,
            "overflow": null,
            "overflow_x": null,
            "overflow_y": null,
            "padding": null,
            "right": null,
            "top": null,
            "visibility": null,
            "width": null
          }
        },
        "14d861610016478b962253509b8b0055": {
          "model_module": "@jupyter-widgets/controls",
          "model_name": "VBoxModel",
          "state": {
            "_dom_classes": [
              "widget-interact"
            ],
            "_model_module": "@jupyter-widgets/controls",
            "_model_module_version": "1.5.0",
            "_model_name": "VBoxModel",
            "_view_count": null,
            "_view_module": "@jupyter-widgets/controls",
            "_view_module_version": "1.5.0",
            "_view_name": "VBoxView",
            "box_style": "",
            "children": [
              "IPY_MODEL_ab49c7e395b84ef99a718eebf9573258",
              "IPY_MODEL_45e72de56cb54dab80e8a503e69380f6",
              "IPY_MODEL_7d2d2c688dac435b919fa46bfa0f3cfd",
              "IPY_MODEL_0dd04a1311014406ad726de39136b3d4",
              "IPY_MODEL_eb53fccff9da4edeb76f3caeb9b46d34",
              "IPY_MODEL_c2c0b24db78444089e69564ef8f11bbe"
            ],
            "layout": "IPY_MODEL_5cdbe3d027fb4331baafc0e96e4143b3"
          }
        },
        "5cdbe3d027fb4331baafc0e96e4143b3": {
          "model_module": "@jupyter-widgets/base",
          "model_name": "LayoutModel",
          "state": {
            "_model_module": "@jupyter-widgets/base",
            "_model_module_version": "1.2.0",
            "_model_name": "LayoutModel",
            "_view_count": null,
            "_view_module": "@jupyter-widgets/base",
            "_view_module_version": "1.2.0",
            "_view_name": "LayoutView",
            "align_content": null,
            "align_items": null,
            "align_self": null,
            "border": null,
            "bottom": null,
            "display": null,
            "flex": null,
            "flex_flow": null,
            "grid_area": null,
            "grid_auto_columns": null,
            "grid_auto_flow": null,
            "grid_auto_rows": null,
            "grid_column": null,
            "grid_gap": null,
            "grid_row": null,
            "grid_template_areas": null,
            "grid_template_columns": null,
            "grid_template_rows": null,
            "height": null,
            "justify_content": null,
            "justify_items": null,
            "left": null,
            "margin": null,
            "max_height": null,
            "max_width": null,
            "min_height": null,
            "min_width": null,
            "object_fit": null,
            "object_position": null,
            "order": null,
            "overflow": null,
            "overflow_x": null,
            "overflow_y": null,
            "padding": null,
            "right": null,
            "top": null,
            "visibility": null,
            "width": null
          }
        },
        "ab49c7e395b84ef99a718eebf9573258": {
          "model_module": "@jupyter-widgets/controls",
          "model_name": "IntSliderModel",
          "state": {
            "_dom_classes": [],
            "_model_module": "@jupyter-widgets/controls",
            "_model_module_version": "1.5.0",
            "_model_name": "IntSliderModel",
            "_view_count": null,
            "_view_module": "@jupyter-widgets/controls",
            "_view_module_version": "1.5.0",
            "_view_name": "IntSliderView",
            "continuous_update": true,
            "description": "p0",
            "description_tooltip": null,
            "disabled": false,
            "layout": "IPY_MODEL_2298c35aa3954d43a716468f569b22d9",
            "max": 100,
            "min": 0,
            "orientation": "horizontal",
            "readout": true,
            "readout_format": "d",
            "step": 1,
            "style": "IPY_MODEL_a0a18c8b5f9047d59baeafc429417c42",
            "value": 10
          }
        },
        "45e72de56cb54dab80e8a503e69380f6": {
          "model_module": "@jupyter-widgets/controls",
          "model_name": "FloatSliderModel",
          "state": {
            "_dom_classes": [],
            "_model_module": "@jupyter-widgets/controls",
            "_model_module_version": "1.5.0",
            "_model_name": "FloatSliderModel",
            "_view_count": null,
            "_view_module": "@jupyter-widgets/controls",
            "_view_module_version": "1.5.0",
            "_view_name": "FloatSliderView",
            "continuous_update": true,
            "description": "q",
            "description_tooltip": null,
            "disabled": false,
            "layout": "IPY_MODEL_d753ad82f76746ccba7340f3224c89b3",
            "max": 2,
            "min": 0,
            "orientation": "horizontal",
            "readout": true,
            "readout_format": ".2f",
            "step": 0.1,
            "style": "IPY_MODEL_5e66344478bd4ef29ec6365be47aa645",
            "value": 1.1
          }
        },
        "7d2d2c688dac435b919fa46bfa0f3cfd": {
          "model_module": "@jupyter-widgets/controls",
          "model_name": "FloatSliderModel",
          "state": {
            "_dom_classes": [],
            "_model_module": "@jupyter-widgets/controls",
            "_model_module_version": "1.5.0",
            "_model_name": "FloatSliderModel",
            "_view_count": null,
            "_view_module": "@jupyter-widgets/controls",
            "_view_module_version": "1.5.0",
            "_view_name": "FloatSliderView",
            "continuous_update": true,
            "description": "r0",
            "description_tooltip": null,
            "disabled": false,
            "layout": "IPY_MODEL_5c87388b85814f65a245372012c67ddd",
            "max": 100,
            "min": 1,
            "orientation": "horizontal",
            "readout": true,
            "readout_format": ".2f",
            "step": 0.1,
            "style": "IPY_MODEL_8267e769fd5a4138ae762ab83bbc9ab8",
            "value": 50
          }
        },
        "0dd04a1311014406ad726de39136b3d4": {
          "model_module": "@jupyter-widgets/controls",
          "model_name": "FloatSliderModel",
          "state": {
            "_dom_classes": [],
            "_model_module": "@jupyter-widgets/controls",
            "_model_module_version": "1.5.0",
            "_model_name": "FloatSliderModel",
            "_view_count": null,
            "_view_module": "@jupyter-widgets/controls",
            "_view_module_version": "1.5.0",
            "_view_name": "FloatSliderView",
            "continuous_update": true,
            "description": "a",
            "description_tooltip": null,
            "disabled": false,
            "layout": "IPY_MODEL_07922fe32e8c4d61b4f3fe3ee993e14a",
            "max": 10,
            "min": 1,
            "orientation": "horizontal",
            "readout": true,
            "readout_format": ".2f",
            "step": 0.1,
            "style": "IPY_MODEL_491cfa98772742478353e18d90c8f0ae",
            "value": 5
          }
        },
        "eb53fccff9da4edeb76f3caeb9b46d34": {
          "model_module": "@jupyter-widgets/controls",
          "model_name": "IntSliderModel",
          "state": {
            "_dom_classes": [],
            "_model_module": "@jupyter-widgets/controls",
            "_model_module_version": "1.5.0",
            "_model_name": "IntSliderModel",
            "_view_count": null,
            "_view_module": "@jupyter-widgets/controls",
            "_view_module_version": "1.5.0",
            "_view_name": "IntSliderView",
            "continuous_update": true,
            "description": "N",
            "description_tooltip": null,
            "disabled": false,
            "layout": "IPY_MODEL_ebe57509d8574812bd162955d33d1907",
            "max": 1000,
            "min": 1,
            "orientation": "horizontal",
            "readout": true,
            "readout_format": "d",
            "step": 1,
            "style": "IPY_MODEL_0b2a09710fde4427a16922dbcbf15e7b",
            "value": 50
          }
        },
        "c2c0b24db78444089e69564ef8f11bbe": {
          "model_module": "@jupyter-widgets/output",
          "model_name": "OutputModel",
          "state": {
            "_dom_classes": [],
            "_model_module": "@jupyter-widgets/output",
            "_model_module_version": "1.0.0",
            "_model_name": "OutputModel",
            "_view_count": null,
            "_view_module": "@jupyter-widgets/output",
            "_view_module_version": "1.0.0",
            "_view_name": "OutputView",
            "layout": "IPY_MODEL_978d8b70a38b4fd58aa42094a99c7a48",
            "msg_id": "",
            "outputs": [
              {
                "image/png": "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\n",
                "metadata": {
                  "needs_background": "light",
                  "tags": []
                },
                "output_type": "display_data",
                "text/plain": "<Figure size 432x288 with 1 Axes>"
              }
            ]
          }
        },
        "a0a18c8b5f9047d59baeafc429417c42": {
          "model_module": "@jupyter-widgets/controls",
          "model_name": "SliderStyleModel",
          "state": {
            "_model_module": "@jupyter-widgets/controls",
            "_model_module_version": "1.5.0",
            "_model_name": "SliderStyleModel",
            "_view_count": null,
            "_view_module": "@jupyter-widgets/base",
            "_view_module_version": "1.2.0",
            "_view_name": "StyleView",
            "description_width": "",
            "handle_color": null
          }
        },
        "2298c35aa3954d43a716468f569b22d9": {
          "model_module": "@jupyter-widgets/base",
          "model_name": "LayoutModel",
          "state": {
            "_model_module": "@jupyter-widgets/base",
            "_model_module_version": "1.2.0",
            "_model_name": "LayoutModel",
            "_view_count": null,
            "_view_module": "@jupyter-widgets/base",
            "_view_module_version": "1.2.0",
            "_view_name": "LayoutView",
            "align_content": null,
            "align_items": null,
            "align_self": null,
            "border": null,
            "bottom": null,
            "display": null,
            "flex": null,
            "flex_flow": null,
            "grid_area": null,
            "grid_auto_columns": null,
            "grid_auto_flow": null,
            "grid_auto_rows": null,
            "grid_column": null,
            "grid_gap": null,
            "grid_row": null,
            "grid_template_areas": null,
            "grid_template_columns": null,
            "grid_template_rows": null,
            "height": null,
            "justify_content": null,
            "justify_items": null,
            "left": null,
            "margin": null,
            "max_height": null,
            "max_width": null,
            "min_height": null,
            "min_width": null,
            "object_fit": null,
            "object_position": null,
            "order": null,
            "overflow": null,
            "overflow_x": null,
            "overflow_y": null,
            "padding": null,
            "right": null,
            "top": null,
            "visibility": null,
            "width": null
          }
        },
        "5e66344478bd4ef29ec6365be47aa645": {
          "model_module": "@jupyter-widgets/controls",
          "model_name": "SliderStyleModel",
          "state": {
            "_model_module": "@jupyter-widgets/controls",
            "_model_module_version": "1.5.0",
            "_model_name": "SliderStyleModel",
            "_view_count": null,
            "_view_module": "@jupyter-widgets/base",
            "_view_module_version": "1.2.0",
            "_view_name": "StyleView",
            "description_width": "",
            "handle_color": null
          }
        },
        "d753ad82f76746ccba7340f3224c89b3": {
          "model_module": "@jupyter-widgets/base",
          "model_name": "LayoutModel",
          "state": {
            "_model_module": "@jupyter-widgets/base",
            "_model_module_version": "1.2.0",
            "_model_name": "LayoutModel",
            "_view_count": null,
            "_view_module": "@jupyter-widgets/base",
            "_view_module_version": "1.2.0",
            "_view_name": "LayoutView",
            "align_content": null,
            "align_items": null,
            "align_self": null,
            "border": null,
            "bottom": null,
            "display": null,
            "flex": null,
            "flex_flow": null,
            "grid_area": null,
            "grid_auto_columns": null,
            "grid_auto_flow": null,
            "grid_auto_rows": null,
            "grid_column": null,
            "grid_gap": null,
            "grid_row": null,
            "grid_template_areas": null,
            "grid_template_columns": null,
            "grid_template_rows": null,
            "height": null,
            "justify_content": null,
            "justify_items": null,
            "left": null,
            "margin": null,
            "max_height": null,
            "max_width": null,
            "min_height": null,
            "min_width": null,
            "object_fit": null,
            "object_position": null,
            "order": null,
            "overflow": null,
            "overflow_x": null,
            "overflow_y": null,
            "padding": null,
            "right": null,
            "top": null,
            "visibility": null,
            "width": null
          }
        },
        "8267e769fd5a4138ae762ab83bbc9ab8": {
          "model_module": "@jupyter-widgets/controls",
          "model_name": "SliderStyleModel",
          "state": {
            "_model_module": "@jupyter-widgets/controls",
            "_model_module_version": "1.5.0",
            "_model_name": "SliderStyleModel",
            "_view_count": null,
            "_view_module": "@jupyter-widgets/base",
            "_view_module_version": "1.2.0",
            "_view_name": "StyleView",
            "description_width": "",
            "handle_color": null
          }
        },
        "5c87388b85814f65a245372012c67ddd": {
          "model_module": "@jupyter-widgets/base",
          "model_name": "LayoutModel",
          "state": {
            "_model_module": "@jupyter-widgets/base",
            "_model_module_version": "1.2.0",
            "_model_name": "LayoutModel",
            "_view_count": null,
            "_view_module": "@jupyter-widgets/base",
            "_view_module_version": "1.2.0",
            "_view_name": "LayoutView",
            "align_content": null,
            "align_items": null,
            "align_self": null,
            "border": null,
            "bottom": null,
            "display": null,
            "flex": null,
            "flex_flow": null,
            "grid_area": null,
            "grid_auto_columns": null,
            "grid_auto_flow": null,
            "grid_auto_rows": null,
            "grid_column": null,
            "grid_gap": null,
            "grid_row": null,
            "grid_template_areas": null,
            "grid_template_columns": null,
            "grid_template_rows": null,
            "height": null,
            "justify_content": null,
            "justify_items": null,
            "left": null,
            "margin": null,
            "max_height": null,
            "max_width": null,
            "min_height": null,
            "min_width": null,
            "object_fit": null,
            "object_position": null,
            "order": null,
            "overflow": null,
            "overflow_x": null,
            "overflow_y": null,
            "padding": null,
            "right": null,
            "top": null,
            "visibility": null,
            "width": null
          }
        },
        "491cfa98772742478353e18d90c8f0ae": {
          "model_module": "@jupyter-widgets/controls",
          "model_name": "SliderStyleModel",
          "state": {
            "_model_module": "@jupyter-widgets/controls",
            "_model_module_version": "1.5.0",
            "_model_name": "SliderStyleModel",
            "_view_count": null,
            "_view_module": "@jupyter-widgets/base",
            "_view_module_version": "1.2.0",
            "_view_name": "StyleView",
            "description_width": "",
            "handle_color": null
          }
        },
        "07922fe32e8c4d61b4f3fe3ee993e14a": {
          "model_module": "@jupyter-widgets/base",
          "model_name": "LayoutModel",
          "state": {
            "_model_module": "@jupyter-widgets/base",
            "_model_module_version": "1.2.0",
            "_model_name": "LayoutModel",
            "_view_count": null,
            "_view_module": "@jupyter-widgets/base",
            "_view_module_version": "1.2.0",
            "_view_name": "LayoutView",
            "align_content": null,
            "align_items": null,
            "align_self": null,
            "border": null,
            "bottom": null,
            "display": null,
            "flex": null,
            "flex_flow": null,
            "grid_area": null,
            "grid_auto_columns": null,
            "grid_auto_flow": null,
            "grid_auto_rows": null,
            "grid_column": null,
            "grid_gap": null,
            "grid_row": null,
            "grid_template_areas": null,
            "grid_template_columns": null,
            "grid_template_rows": null,
            "height": null,
            "justify_content": null,
            "justify_items": null,
            "left": null,
            "margin": null,
            "max_height": null,
            "max_width": null,
            "min_height": null,
            "min_width": null,
            "object_fit": null,
            "object_position": null,
            "order": null,
            "overflow": null,
            "overflow_x": null,
            "overflow_y": null,
            "padding": null,
            "right": null,
            "top": null,
            "visibility": null,
            "width": null
          }
        },
        "0b2a09710fde4427a16922dbcbf15e7b": {
          "model_module": "@jupyter-widgets/controls",
          "model_name": "SliderStyleModel",
          "state": {
            "_model_module": "@jupyter-widgets/controls",
            "_model_module_version": "1.5.0",
            "_model_name": "SliderStyleModel",
            "_view_count": null,
            "_view_module": "@jupyter-widgets/base",
            "_view_module_version": "1.2.0",
            "_view_name": "StyleView",
            "description_width": "",
            "handle_color": null
          }
        },
        "ebe57509d8574812bd162955d33d1907": {
          "model_module": "@jupyter-widgets/base",
          "model_name": "LayoutModel",
          "state": {
            "_model_module": "@jupyter-widgets/base",
            "_model_module_version": "1.2.0",
            "_model_name": "LayoutModel",
            "_view_count": null,
            "_view_module": "@jupyter-widgets/base",
            "_view_module_version": "1.2.0",
            "_view_name": "LayoutView",
            "align_content": null,
            "align_items": null,
            "align_self": null,
            "border": null,
            "bottom": null,
            "display": null,
            "flex": null,
            "flex_flow": null,
            "grid_area": null,
            "grid_auto_columns": null,
            "grid_auto_flow": null,
            "grid_auto_rows": null,
            "grid_column": null,
            "grid_gap": null,
            "grid_row": null,
            "grid_template_areas": null,
            "grid_template_columns": null,
            "grid_template_rows": null,
            "height": null,
            "justify_content": null,
            "justify_items": null,
            "left": null,
            "margin": null,
            "max_height": null,
            "max_width": null,
            "min_height": null,
            "min_width": null,
            "object_fit": null,
            "object_position": null,
            "order": null,
            "overflow": null,
            "overflow_x": null,
            "overflow_y": null,
            "padding": null,
            "right": null,
            "top": null,
            "visibility": null,
            "width": null
          }
        },
        "978d8b70a38b4fd58aa42094a99c7a48": {
          "model_module": "@jupyter-widgets/base",
          "model_name": "LayoutModel",
          "state": {
            "_model_module": "@jupyter-widgets/base",
            "_model_module_version": "1.2.0",
            "_model_name": "LayoutModel",
            "_view_count": null,
            "_view_module": "@jupyter-widgets/base",
            "_view_module_version": "1.2.0",
            "_view_name": "LayoutView",
            "align_content": null,
            "align_items": null,
            "align_self": null,
            "border": null,
            "bottom": null,
            "display": null,
            "flex": null,
            "flex_flow": null,
            "grid_area": null,
            "grid_auto_columns": null,
            "grid_auto_flow": null,
            "grid_auto_rows": null,
            "grid_column": null,
            "grid_gap": null,
            "grid_row": null,
            "grid_template_areas": null,
            "grid_template_columns": null,
            "grid_template_rows": null,
            "height": null,
            "justify_content": null,
            "justify_items": null,
            "left": null,
            "margin": null,
            "max_height": null,
            "max_width": null,
            "min_height": null,
            "min_width": null,
            "object_fit": null,
            "object_position": null,
            "order": null,
            "overflow": null,
            "overflow_x": null,
            "overflow_y": null,
            "padding": null,
            "right": null,
            "top": null,
            "visibility": null,
            "width": null
          }
        },
        "c5d6b68bf952414cb9277c9a2d82a9d9": {
          "model_module": "@jupyter-widgets/controls",
          "model_name": "VBoxModel",
          "state": {
            "_dom_classes": [
              "widget-interact"
            ],
            "_model_module": "@jupyter-widgets/controls",
            "_model_module_version": "1.5.0",
            "_model_name": "VBoxModel",
            "_view_count": null,
            "_view_module": "@jupyter-widgets/controls",
            "_view_module_version": "1.5.0",
            "_view_name": "VBoxView",
            "box_style": "",
            "children": [
              "IPY_MODEL_3fa86589b39d40dc8994c46478fe2922",
              "IPY_MODEL_5cb8b20fdfbd4b51862eacc3cbc77058",
              "IPY_MODEL_5b4692e7c0614df4ac9e086194b454b7",
              "IPY_MODEL_d4775db658594ad189d5720efcea7351",
              "IPY_MODEL_2384bcb75bbd4196a56e3de790123e54"
            ],
            "layout": "IPY_MODEL_ae3e35e595224bf6bfb7cd21b09014ba"
          }
        },
        "ae3e35e595224bf6bfb7cd21b09014ba": {
          "model_module": "@jupyter-widgets/base",
          "model_name": "LayoutModel",
          "state": {
            "_model_module": "@jupyter-widgets/base",
            "_model_module_version": "1.2.0",
            "_model_name": "LayoutModel",
            "_view_count": null,
            "_view_module": "@jupyter-widgets/base",
            "_view_module_version": "1.2.0",
            "_view_name": "LayoutView",
            "align_content": null,
            "align_items": null,
            "align_self": null,
            "border": null,
            "bottom": null,
            "display": null,
            "flex": null,
            "flex_flow": null,
            "grid_area": null,
            "grid_auto_columns": null,
            "grid_auto_flow": null,
            "grid_auto_rows": null,
            "grid_column": null,
            "grid_gap": null,
            "grid_row": null,
            "grid_template_areas": null,
            "grid_template_columns": null,
            "grid_template_rows": null,
            "height": null,
            "justify_content": null,
            "justify_items": null,
            "left": null,
            "margin": null,
            "max_height": null,
            "max_width": null,
            "min_height": null,
            "min_width": null,
            "object_fit": null,
            "object_position": null,
            "order": null,
            "overflow": null,
            "overflow_x": null,
            "overflow_y": null,
            "padding": null,
            "right": null,
            "top": null,
            "visibility": null,
            "width": null
          }
        },
        "3fa86589b39d40dc8994c46478fe2922": {
          "model_module": "@jupyter-widgets/controls",
          "model_name": "FloatSliderModel",
          "state": {
            "_dom_classes": [],
            "_model_module": "@jupyter-widgets/controls",
            "_model_module_version": "1.5.0",
            "_model_name": "FloatSliderModel",
            "_view_count": null,
            "_view_module": "@jupyter-widgets/controls",
            "_view_module_version": "1.5.0",
            "_view_name": "FloatSliderView",
            "continuous_update": true,
            "description": "c",
            "description_tooltip": null,
            "disabled": false,
            "layout": "IPY_MODEL_020d354cd9a64321aa19067dd4058748",
            "max": 2,
            "min": 0,
            "orientation": "horizontal",
            "readout": true,
            "readout_format": ".2f",
            "step": 0.1,
            "style": "IPY_MODEL_ec2a4304c57f4a0d96e317fc000f3388",
            "value": 1.4
          }
        },
        "5cb8b20fdfbd4b51862eacc3cbc77058": {
          "model_module": "@jupyter-widgets/controls",
          "model_name": "IntSliderModel",
          "state": {
            "_dom_classes": [],
            "_model_module": "@jupyter-widgets/controls",
            "_model_module_version": "1.5.0",
            "_model_name": "IntSliderModel",
            "_view_count": null,
            "_view_module": "@jupyter-widgets/controls",
            "_view_module_version": "1.5.0",
            "_view_name": "IntSliderView",
            "continuous_update": true,
            "description": "r0",
            "description_tooltip": null,
            "disabled": false,
            "layout": "IPY_MODEL_811c6e71f51e4e89b65d50b465d2331c",
            "max": 68000000,
            "min": 39660000,
            "orientation": "horizontal",
            "readout": true,
            "readout_format": "d",
            "step": 1,
            "style": "IPY_MODEL_92f1d96f10444e4d803d9ae64b65ba1d",
            "value": 50000000
          }
        },
        "5b4692e7c0614df4ac9e086194b454b7": {
          "model_module": "@jupyter-widgets/controls",
          "model_name": "IntSliderModel",
          "state": {
            "_dom_classes": [],
            "_model_module": "@jupyter-widgets/controls",
            "_model_module_version": "1.5.0",
            "_model_name": "IntSliderModel",
            "_view_count": null,
            "_view_module": "@jupyter-widgets/controls",
            "_view_module_version": "1.5.0",
            "_view_name": "IntSliderView",
            "continuous_update": true,
            "description": "a",
            "description_tooltip": null,
            "disabled": false,
            "layout": "IPY_MODEL_5b8c15bb0d9648cea0f7c7d77644e279",
            "max": 500000,
            "min": 100000,
            "orientation": "horizontal",
            "readout": true,
            "readout_format": "d",
            "step": 1,
            "style": "IPY_MODEL_56e3a86eb5ca4691a98f9a0ea19953df",
            "value": 200000
          }
        },
        "d4775db658594ad189d5720efcea7351": {
          "model_module": "@jupyter-widgets/controls",
          "model_name": "ButtonModel",
          "state": {
            "_dom_classes": [],
            "_model_module": "@jupyter-widgets/controls",
            "_model_module_version": "1.5.0",
            "_model_name": "ButtonModel",
            "_view_count": null,
            "_view_module": "@jupyter-widgets/controls",
            "_view_module_version": "1.5.0",
            "_view_name": "ButtonView",
            "button_style": "",
            "description": "Run Interact",
            "disabled": false,
            "icon": "",
            "layout": "IPY_MODEL_1f194e225c654402a61264d48f5fd587",
            "style": "IPY_MODEL_b55439aa2048482186a40c02aea9fb2e",
            "tooltip": ""
          }
        },
        "2384bcb75bbd4196a56e3de790123e54": {
          "model_module": "@jupyter-widgets/output",
          "model_name": "OutputModel",
          "state": {
            "_dom_classes": [],
            "_model_module": "@jupyter-widgets/output",
            "_model_module_version": "1.0.0",
            "_model_name": "OutputModel",
            "_view_count": null,
            "_view_module": "@jupyter-widgets/output",
            "_view_module_version": "1.0.0",
            "_view_name": "OutputView",
            "layout": "IPY_MODEL_dc344b9bed0e4781b9801e30801c04b9",
            "msg_id": "",
            "outputs": [
              {
                "image/png": "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\n",
                "metadata": {
                  "needs_background": "light",
                  "tags": []
                },
                "output_type": "display_data",
                "text/plain": "<Figure size 432x288 with 1 Axes>"
              }
            ]
          }
        },
        "ec2a4304c57f4a0d96e317fc000f3388": {
          "model_module": "@jupyter-widgets/controls",
          "model_name": "SliderStyleModel",
          "state": {
            "_model_module": "@jupyter-widgets/controls",
            "_model_module_version": "1.5.0",
            "_model_name": "SliderStyleModel",
            "_view_count": null,
            "_view_module": "@jupyter-widgets/base",
            "_view_module_version": "1.2.0",
            "_view_name": "StyleView",
            "description_width": "",
            "handle_color": null
          }
        },
        "020d354cd9a64321aa19067dd4058748": {
          "model_module": "@jupyter-widgets/base",
          "model_name": "LayoutModel",
          "state": {
            "_model_module": "@jupyter-widgets/base",
            "_model_module_version": "1.2.0",
            "_model_name": "LayoutModel",
            "_view_count": null,
            "_view_module": "@jupyter-widgets/base",
            "_view_module_version": "1.2.0",
            "_view_name": "LayoutView",
            "align_content": null,
            "align_items": null,
            "align_self": null,
            "border": null,
            "bottom": null,
            "display": null,
            "flex": null,
            "flex_flow": null,
            "grid_area": null,
            "grid_auto_columns": null,
            "grid_auto_flow": null,
            "grid_auto_rows": null,
            "grid_column": null,
            "grid_gap": null,
            "grid_row": null,
            "grid_template_areas": null,
            "grid_template_columns": null,
            "grid_template_rows": null,
            "height": null,
            "justify_content": null,
            "justify_items": null,
            "left": null,
            "margin": null,
            "max_height": null,
            "max_width": null,
            "min_height": null,
            "min_width": null,
            "object_fit": null,
            "object_position": null,
            "order": null,
            "overflow": null,
            "overflow_x": null,
            "overflow_y": null,
            "padding": null,
            "right": null,
            "top": null,
            "visibility": null,
            "width": null
          }
        },
        "92f1d96f10444e4d803d9ae64b65ba1d": {
          "model_module": "@jupyter-widgets/controls",
          "model_name": "SliderStyleModel",
          "state": {
            "_model_module": "@jupyter-widgets/controls",
            "_model_module_version": "1.5.0",
            "_model_name": "SliderStyleModel",
            "_view_count": null,
            "_view_module": "@jupyter-widgets/base",
            "_view_module_version": "1.2.0",
            "_view_name": "StyleView",
            "description_width": "",
            "handle_color": null
          }
        },
        "811c6e71f51e4e89b65d50b465d2331c": {
          "model_module": "@jupyter-widgets/base",
          "model_name": "LayoutModel",
          "state": {
            "_model_module": "@jupyter-widgets/base",
            "_model_module_version": "1.2.0",
            "_model_name": "LayoutModel",
            "_view_count": null,
            "_view_module": "@jupyter-widgets/base",
            "_view_module_version": "1.2.0",
            "_view_name": "LayoutView",
            "align_content": null,
            "align_items": null,
            "align_self": null,
            "border": null,
            "bottom": null,
            "display": null,
            "flex": null,
            "flex_flow": null,
            "grid_area": null,
            "grid_auto_columns": null,
            "grid_auto_flow": null,
            "grid_auto_rows": null,
            "grid_column": null,
            "grid_gap": null,
            "grid_row": null,
            "grid_template_areas": null,
            "grid_template_columns": null,
            "grid_template_rows": null,
            "height": null,
            "justify_content": null,
            "justify_items": null,
            "left": null,
            "margin": null,
            "max_height": null,
            "max_width": null,
            "min_height": null,
            "min_width": null,
            "object_fit": null,
            "object_position": null,
            "order": null,
            "overflow": null,
            "overflow_x": null,
            "overflow_y": null,
            "padding": null,
            "right": null,
            "top": null,
            "visibility": null,
            "width": null
          }
        },
        "56e3a86eb5ca4691a98f9a0ea19953df": {
          "model_module": "@jupyter-widgets/controls",
          "model_name": "SliderStyleModel",
          "state": {
            "_model_module": "@jupyter-widgets/controls",
            "_model_module_version": "1.5.0",
            "_model_name": "SliderStyleModel",
            "_view_count": null,
            "_view_module": "@jupyter-widgets/base",
            "_view_module_version": "1.2.0",
            "_view_name": "StyleView",
            "description_width": "",
            "handle_color": null
          }
        },
        "5b8c15bb0d9648cea0f7c7d77644e279": {
          "model_module": "@jupyter-widgets/base",
          "model_name": "LayoutModel",
          "state": {
            "_model_module": "@jupyter-widgets/base",
            "_model_module_version": "1.2.0",
            "_model_name": "LayoutModel",
            "_view_count": null,
            "_view_module": "@jupyter-widgets/base",
            "_view_module_version": "1.2.0",
            "_view_name": "LayoutView",
            "align_content": null,
            "align_items": null,
            "align_self": null,
            "border": null,
            "bottom": null,
            "display": null,
            "flex": null,
            "flex_flow": null,
            "grid_area": null,
            "grid_auto_columns": null,
            "grid_auto_flow": null,
            "grid_auto_rows": null,
            "grid_column": null,
            "grid_gap": null,
            "grid_row": null,
            "grid_template_areas": null,
            "grid_template_columns": null,
            "grid_template_rows": null,
            "height": null,
            "justify_content": null,
            "justify_items": null,
            "left": null,
            "margin": null,
            "max_height": null,
            "max_width": null,
            "min_height": null,
            "min_width": null,
            "object_fit": null,
            "object_position": null,
            "order": null,
            "overflow": null,
            "overflow_x": null,
            "overflow_y": null,
            "padding": null,
            "right": null,
            "top": null,
            "visibility": null,
            "width": null
          }
        },
        "b55439aa2048482186a40c02aea9fb2e": {
          "model_module": "@jupyter-widgets/controls",
          "model_name": "ButtonStyleModel",
          "state": {
            "_model_module": "@jupyter-widgets/controls",
            "_model_module_version": "1.5.0",
            "_model_name": "ButtonStyleModel",
            "_view_count": null,
            "_view_module": "@jupyter-widgets/base",
            "_view_module_version": "1.2.0",
            "_view_name": "StyleView",
            "button_color": null,
            "font_weight": ""
          }
        },
        "1f194e225c654402a61264d48f5fd587": {
          "model_module": "@jupyter-widgets/base",
          "model_name": "LayoutModel",
          "state": {
            "_model_module": "@jupyter-widgets/base",
            "_model_module_version": "1.2.0",
            "_model_name": "LayoutModel",
            "_view_count": null,
            "_view_module": "@jupyter-widgets/base",
            "_view_module_version": "1.2.0",
            "_view_name": "LayoutView",
            "align_content": null,
            "align_items": null,
            "align_self": null,
            "border": null,
            "bottom": null,
            "display": null,
            "flex": null,
            "flex_flow": null,
            "grid_area": null,
            "grid_auto_columns": null,
            "grid_auto_flow": null,
            "grid_auto_rows": null,
            "grid_column": null,
            "grid_gap": null,
            "grid_row": null,
            "grid_template_areas": null,
            "grid_template_columns": null,
            "grid_template_rows": null,
            "height": null,
            "justify_content": null,
            "justify_items": null,
            "left": null,
            "margin": null,
            "max_height": null,
            "max_width": null,
            "min_height": null,
            "min_width": null,
            "object_fit": null,
            "object_position": null,
            "order": null,
            "overflow": null,
            "overflow_x": null,
            "overflow_y": null,
            "padding": null,
            "right": null,
            "top": null,
            "visibility": null,
            "width": null
          }
        },
        "dc344b9bed0e4781b9801e30801c04b9": {
          "model_module": "@jupyter-widgets/base",
          "model_name": "LayoutModel",
          "state": {
            "_model_module": "@jupyter-widgets/base",
            "_model_module_version": "1.2.0",
            "_model_name": "LayoutModel",
            "_view_count": null,
            "_view_module": "@jupyter-widgets/base",
            "_view_module_version": "1.2.0",
            "_view_name": "LayoutView",
            "align_content": null,
            "align_items": null,
            "align_self": null,
            "border": null,
            "bottom": null,
            "display": null,
            "flex": null,
            "flex_flow": null,
            "grid_area": null,
            "grid_auto_columns": null,
            "grid_auto_flow": null,
            "grid_auto_rows": null,
            "grid_column": null,
            "grid_gap": null,
            "grid_row": null,
            "grid_template_areas": null,
            "grid_template_columns": null,
            "grid_template_rows": null,
            "height": null,
            "justify_content": null,
            "justify_items": null,
            "left": null,
            "margin": null,
            "max_height": null,
            "max_width": null,
            "min_height": null,
            "min_width": null,
            "object_fit": null,
            "object_position": null,
            "order": null,
            "overflow": null,
            "overflow_x": null,
            "overflow_y": null,
            "padding": null,
            "right": null,
            "top": null,
            "visibility": null,
            "width": null
          }
        },
        "f4b4b537c387485eb86d61a7e0fd210f": {
          "model_module": "@jupyter-widgets/controls",
          "model_name": "VBoxModel",
          "state": {
            "_dom_classes": [
              "widget-interact"
            ],
            "_model_module": "@jupyter-widgets/controls",
            "_model_module_version": "1.5.0",
            "_model_name": "VBoxModel",
            "_view_count": null,
            "_view_module": "@jupyter-widgets/controls",
            "_view_module_version": "1.5.0",
            "_view_name": "VBoxView",
            "box_style": "",
            "children": [
              "IPY_MODEL_eba18099dfab415c909a3a03eef64735",
              "IPY_MODEL_cd44bcc0e28c45e996f4f67afafd5e90",
              "IPY_MODEL_1897283b226c4c87a65526307d99cd96",
              "IPY_MODEL_14c81c7adc6944d4ad18a09b5135ec81",
              "IPY_MODEL_a5fb93f0ab6c466883b6db728f5e9f1a",
              "IPY_MODEL_a7e19eb17e2a45afadc3e5aa66aff138",
              "IPY_MODEL_b7ad546437c9425696115935b1e32118"
            ],
            "layout": "IPY_MODEL_1c8091a3b0044dc7bff184977aa10f3a"
          }
        },
        "1c8091a3b0044dc7bff184977aa10f3a": {
          "model_module": "@jupyter-widgets/base",
          "model_name": "LayoutModel",
          "state": {
            "_model_module": "@jupyter-widgets/base",
            "_model_module_version": "1.2.0",
            "_model_name": "LayoutModel",
            "_view_count": null,
            "_view_module": "@jupyter-widgets/base",
            "_view_module_version": "1.2.0",
            "_view_name": "LayoutView",
            "align_content": null,
            "align_items": null,
            "align_self": null,
            "border": null,
            "bottom": null,
            "display": null,
            "flex": null,
            "flex_flow": null,
            "grid_area": null,
            "grid_auto_columns": null,
            "grid_auto_flow": null,
            "grid_auto_rows": null,
            "grid_column": null,
            "grid_gap": null,
            "grid_row": null,
            "grid_template_areas": null,
            "grid_template_columns": null,
            "grid_template_rows": null,
            "height": null,
            "justify_content": null,
            "justify_items": null,
            "left": null,
            "margin": null,
            "max_height": null,
            "max_width": null,
            "min_height": null,
            "min_width": null,
            "object_fit": null,
            "object_position": null,
            "order": null,
            "overflow": null,
            "overflow_x": null,
            "overflow_y": null,
            "padding": null,
            "right": null,
            "top": null,
            "visibility": null,
            "width": null
          }
        },
        "eba18099dfab415c909a3a03eef64735": {
          "model_module": "@jupyter-widgets/controls",
          "model_name": "IntSliderModel",
          "state": {
            "_dom_classes": [],
            "_model_module": "@jupyter-widgets/controls",
            "_model_module_version": "1.5.0",
            "_model_name": "IntSliderModel",
            "_view_count": null,
            "_view_module": "@jupyter-widgets/controls",
            "_view_module_version": "1.5.0",
            "_view_name": "IntSliderView",
            "continuous_update": true,
            "description": "p0",
            "description_tooltip": null,
            "disabled": false,
            "layout": "IPY_MODEL_6c62bb2fdd8f45da93194049452f8778",
            "max": 100,
            "min": 0,
            "orientation": "horizontal",
            "readout": true,
            "readout_format": "d",
            "step": 1,
            "style": "IPY_MODEL_98c18e1ad0984f1bb32a8d7f3605ec2f",
            "value": 10
          }
        },
        "cd44bcc0e28c45e996f4f67afafd5e90": {
          "model_module": "@jupyter-widgets/controls",
          "model_name": "FloatSliderModel",
          "state": {
            "_dom_classes": [],
            "_model_module": "@jupyter-widgets/controls",
            "_model_module_version": "1.5.0",
            "_model_name": "FloatSliderModel",
            "_view_count": null,
            "_view_module": "@jupyter-widgets/controls",
            "_view_module_version": "1.5.0",
            "_view_name": "FloatSliderView",
            "continuous_update": true,
            "description": "q",
            "description_tooltip": null,
            "disabled": false,
            "layout": "IPY_MODEL_002d28e5868e4098b7752b96ec79ce5a",
            "max": 2,
            "min": 0,
            "orientation": "horizontal",
            "readout": true,
            "readout_format": ".2f",
            "step": 0.1,
            "style": "IPY_MODEL_45287d6dde9f450f8cdf5e3822f1b536",
            "value": 1.2
          }
        },
        "1897283b226c4c87a65526307d99cd96": {
          "model_module": "@jupyter-widgets/controls",
          "model_name": "FloatSliderModel",
          "state": {
            "_dom_classes": [],
            "_model_module": "@jupyter-widgets/controls",
            "_model_module_version": "1.5.0",
            "_model_name": "FloatSliderModel",
            "_view_count": null,
            "_view_module": "@jupyter-widgets/controls",
            "_view_module_version": "1.5.0",
            "_view_name": "FloatSliderView",
            "continuous_update": true,
            "description": "r0",
            "description_tooltip": null,
            "disabled": false,
            "layout": "IPY_MODEL_e7f63647077e408283ea5f8308262f67",
            "max": 100,
            "min": 1,
            "orientation": "horizontal",
            "readout": true,
            "readout_format": ".2f",
            "step": 0.1,
            "style": "IPY_MODEL_fdbc557ac2634c3fba8efd6ffe5d91a5",
            "value": 50
          }
        },
        "14c81c7adc6944d4ad18a09b5135ec81": {
          "model_module": "@jupyter-widgets/controls",
          "model_name": "FloatSliderModel",
          "state": {
            "_dom_classes": [],
            "_model_module": "@jupyter-widgets/controls",
            "_model_module_version": "1.5.0",
            "_model_name": "FloatSliderModel",
            "_view_count": null,
            "_view_module": "@jupyter-widgets/controls",
            "_view_module_version": "1.5.0",
            "_view_name": "FloatSliderView",
            "continuous_update": true,
            "description": "a",
            "description_tooltip": null,
            "disabled": false,
            "layout": "IPY_MODEL_ecbb0085074c41ca815fd3684f682657",
            "max": 10,
            "min": 1,
            "orientation": "horizontal",
            "readout": true,
            "readout_format": ".2f",
            "step": 0.1,
            "style": "IPY_MODEL_0b5204ea23ac4e6bb8d96bc924c08c10",
            "value": 5
          }
        },
        "a5fb93f0ab6c466883b6db728f5e9f1a": {
          "model_module": "@jupyter-widgets/controls",
          "model_name": "IntSliderModel",
          "state": {
            "_dom_classes": [],
            "_model_module": "@jupyter-widgets/controls",
            "_model_module_version": "1.5.0",
            "_model_name": "IntSliderModel",
            "_view_count": null,
            "_view_module": "@jupyter-widgets/controls",
            "_view_module_version": "1.5.0",
            "_view_name": "IntSliderView",
            "continuous_update": true,
            "description": "N",
            "description_tooltip": null,
            "disabled": false,
            "layout": "IPY_MODEL_54af184326af49299bb445b389bb7838",
            "max": 1000,
            "min": 1,
            "orientation": "horizontal",
            "readout": true,
            "readout_format": "d",
            "step": 1,
            "style": "IPY_MODEL_2f53878b2d2c416c93eb953f972880ce",
            "value": 50
          }
        },
        "a7e19eb17e2a45afadc3e5aa66aff138": {
          "model_module": "@jupyter-widgets/controls",
          "model_name": "ButtonModel",
          "state": {
            "_dom_classes": [],
            "_model_module": "@jupyter-widgets/controls",
            "_model_module_version": "1.5.0",
            "_model_name": "ButtonModel",
            "_view_count": null,
            "_view_module": "@jupyter-widgets/controls",
            "_view_module_version": "1.5.0",
            "_view_name": "ButtonView",
            "button_style": "",
            "description": "Run Interact",
            "disabled": false,
            "icon": "",
            "layout": "IPY_MODEL_eb3da8b52c0b48b4847612079d466564",
            "style": "IPY_MODEL_5b81be1cdb0446d199d41177bc2a2eda",
            "tooltip": ""
          }
        },
        "b7ad546437c9425696115935b1e32118": {
          "model_module": "@jupyter-widgets/output",
          "model_name": "OutputModel",
          "state": {
            "_dom_classes": [],
            "_model_module": "@jupyter-widgets/output",
            "_model_module_version": "1.0.0",
            "_model_name": "OutputModel",
            "_view_count": null,
            "_view_module": "@jupyter-widgets/output",
            "_view_module_version": "1.0.0",
            "_view_name": "OutputView",
            "layout": "IPY_MODEL_cec7517e3e18485fac0f5955640fe80d",
            "msg_id": "",
            "outputs": []
          }
        },
        "98c18e1ad0984f1bb32a8d7f3605ec2f": {
          "model_module": "@jupyter-widgets/controls",
          "model_name": "SliderStyleModel",
          "state": {
            "_model_module": "@jupyter-widgets/controls",
            "_model_module_version": "1.5.0",
            "_model_name": "SliderStyleModel",
            "_view_count": null,
            "_view_module": "@jupyter-widgets/base",
            "_view_module_version": "1.2.0",
            "_view_name": "StyleView",
            "description_width": "",
            "handle_color": null
          }
        },
        "6c62bb2fdd8f45da93194049452f8778": {
          "model_module": "@jupyter-widgets/base",
          "model_name": "LayoutModel",
          "state": {
            "_model_module": "@jupyter-widgets/base",
            "_model_module_version": "1.2.0",
            "_model_name": "LayoutModel",
            "_view_count": null,
            "_view_module": "@jupyter-widgets/base",
            "_view_module_version": "1.2.0",
            "_view_name": "LayoutView",
            "align_content": null,
            "align_items": null,
            "align_self": null,
            "border": null,
            "bottom": null,
            "display": null,
            "flex": null,
            "flex_flow": null,
            "grid_area": null,
            "grid_auto_columns": null,
            "grid_auto_flow": null,
            "grid_auto_rows": null,
            "grid_column": null,
            "grid_gap": null,
            "grid_row": null,
            "grid_template_areas": null,
            "grid_template_columns": null,
            "grid_template_rows": null,
            "height": null,
            "justify_content": null,
            "justify_items": null,
            "left": null,
            "margin": null,
            "max_height": null,
            "max_width": null,
            "min_height": null,
            "min_width": null,
            "object_fit": null,
            "object_position": null,
            "order": null,
            "overflow": null,
            "overflow_x": null,
            "overflow_y": null,
            "padding": null,
            "right": null,
            "top": null,
            "visibility": null,
            "width": null
          }
        },
        "45287d6dde9f450f8cdf5e3822f1b536": {
          "model_module": "@jupyter-widgets/controls",
          "model_name": "SliderStyleModel",
          "state": {
            "_model_module": "@jupyter-widgets/controls",
            "_model_module_version": "1.5.0",
            "_model_name": "SliderStyleModel",
            "_view_count": null,
            "_view_module": "@jupyter-widgets/base",
            "_view_module_version": "1.2.0",
            "_view_name": "StyleView",
            "description_width": "",
            "handle_color": null
          }
        },
        "002d28e5868e4098b7752b96ec79ce5a": {
          "model_module": "@jupyter-widgets/base",
          "model_name": "LayoutModel",
          "state": {
            "_model_module": "@jupyter-widgets/base",
            "_model_module_version": "1.2.0",
            "_model_name": "LayoutModel",
            "_view_count": null,
            "_view_module": "@jupyter-widgets/base",
            "_view_module_version": "1.2.0",
            "_view_name": "LayoutView",
            "align_content": null,
            "align_items": null,
            "align_self": null,
            "border": null,
            "bottom": null,
            "display": null,
            "flex": null,
            "flex_flow": null,
            "grid_area": null,
            "grid_auto_columns": null,
            "grid_auto_flow": null,
            "grid_auto_rows": null,
            "grid_column": null,
            "grid_gap": null,
            "grid_row": null,
            "grid_template_areas": null,
            "grid_template_columns": null,
            "grid_template_rows": null,
            "height": null,
            "justify_content": null,
            "justify_items": null,
            "left": null,
            "margin": null,
            "max_height": null,
            "max_width": null,
            "min_height": null,
            "min_width": null,
            "object_fit": null,
            "object_position": null,
            "order": null,
            "overflow": null,
            "overflow_x": null,
            "overflow_y": null,
            "padding": null,
            "right": null,
            "top": null,
            "visibility": null,
            "width": null
          }
        },
        "fdbc557ac2634c3fba8efd6ffe5d91a5": {
          "model_module": "@jupyter-widgets/controls",
          "model_name": "SliderStyleModel",
          "state": {
            "_model_module": "@jupyter-widgets/controls",
            "_model_module_version": "1.5.0",
            "_model_name": "SliderStyleModel",
            "_view_count": null,
            "_view_module": "@jupyter-widgets/base",
            "_view_module_version": "1.2.0",
            "_view_name": "StyleView",
            "description_width": "",
            "handle_color": null
          }
        },
        "e7f63647077e408283ea5f8308262f67": {
          "model_module": "@jupyter-widgets/base",
          "model_name": "LayoutModel",
          "state": {
            "_model_module": "@jupyter-widgets/base",
            "_model_module_version": "1.2.0",
            "_model_name": "LayoutModel",
            "_view_count": null,
            "_view_module": "@jupyter-widgets/base",
            "_view_module_version": "1.2.0",
            "_view_name": "LayoutView",
            "align_content": null,
            "align_items": null,
            "align_self": null,
            "border": null,
            "bottom": null,
            "display": null,
            "flex": null,
            "flex_flow": null,
            "grid_area": null,
            "grid_auto_columns": null,
            "grid_auto_flow": null,
            "grid_auto_rows": null,
            "grid_column": null,
            "grid_gap": null,
            "grid_row": null,
            "grid_template_areas": null,
            "grid_template_columns": null,
            "grid_template_rows": null,
            "height": null,
            "justify_content": null,
            "justify_items": null,
            "left": null,
            "margin": null,
            "max_height": null,
            "max_width": null,
            "min_height": null,
            "min_width": null,
            "object_fit": null,
            "object_position": null,
            "order": null,
            "overflow": null,
            "overflow_x": null,
            "overflow_y": null,
            "padding": null,
            "right": null,
            "top": null,
            "visibility": null,
            "width": null
          }
        },
        "0b5204ea23ac4e6bb8d96bc924c08c10": {
          "model_module": "@jupyter-widgets/controls",
          "model_name": "SliderStyleModel",
          "state": {
            "_model_module": "@jupyter-widgets/controls",
            "_model_module_version": "1.5.0",
            "_model_name": "SliderStyleModel",
            "_view_count": null,
            "_view_module": "@jupyter-widgets/base",
            "_view_module_version": "1.2.0",
            "_view_name": "StyleView",
            "description_width": "",
            "handle_color": null
          }
        },
        "ecbb0085074c41ca815fd3684f682657": {
          "model_module": "@jupyter-widgets/base",
          "model_name": "LayoutModel",
          "state": {
            "_model_module": "@jupyter-widgets/base",
            "_model_module_version": "1.2.0",
            "_model_name": "LayoutModel",
            "_view_count": null,
            "_view_module": "@jupyter-widgets/base",
            "_view_module_version": "1.2.0",
            "_view_name": "LayoutView",
            "align_content": null,
            "align_items": null,
            "align_self": null,
            "border": null,
            "bottom": null,
            "display": null,
            "flex": null,
            "flex_flow": null,
            "grid_area": null,
            "grid_auto_columns": null,
            "grid_auto_flow": null,
            "grid_auto_rows": null,
            "grid_column": null,
            "grid_gap": null,
            "grid_row": null,
            "grid_template_areas": null,
            "grid_template_columns": null,
            "grid_template_rows": null,
            "height": null,
            "justify_content": null,
            "justify_items": null,
            "left": null,
            "margin": null,
            "max_height": null,
            "max_width": null,
            "min_height": null,
            "min_width": null,
            "object_fit": null,
            "object_position": null,
            "order": null,
            "overflow": null,
            "overflow_x": null,
            "overflow_y": null,
            "padding": null,
            "right": null,
            "top": null,
            "visibility": null,
            "width": null
          }
        },
        "2f53878b2d2c416c93eb953f972880ce": {
          "model_module": "@jupyter-widgets/controls",
          "model_name": "SliderStyleModel",
          "state": {
            "_model_module": "@jupyter-widgets/controls",
            "_model_module_version": "1.5.0",
            "_model_name": "SliderStyleModel",
            "_view_count": null,
            "_view_module": "@jupyter-widgets/base",
            "_view_module_version": "1.2.0",
            "_view_name": "StyleView",
            "description_width": "",
            "handle_color": null
          }
        },
        "54af184326af49299bb445b389bb7838": {
          "model_module": "@jupyter-widgets/base",
          "model_name": "LayoutModel",
          "state": {
            "_model_module": "@jupyter-widgets/base",
            "_model_module_version": "1.2.0",
            "_model_name": "LayoutModel",
            "_view_count": null,
            "_view_module": "@jupyter-widgets/base",
            "_view_module_version": "1.2.0",
            "_view_name": "LayoutView",
            "align_content": null,
            "align_items": null,
            "align_self": null,
            "border": null,
            "bottom": null,
            "display": null,
            "flex": null,
            "flex_flow": null,
            "grid_area": null,
            "grid_auto_columns": null,
            "grid_auto_flow": null,
            "grid_auto_rows": null,
            "grid_column": null,
            "grid_gap": null,
            "grid_row": null,
            "grid_template_areas": null,
            "grid_template_columns": null,
            "grid_template_rows": null,
            "height": null,
            "justify_content": null,
            "justify_items": null,
            "left": null,
            "margin": null,
            "max_height": null,
            "max_width": null,
            "min_height": null,
            "min_width": null,
            "object_fit": null,
            "object_position": null,
            "order": null,
            "overflow": null,
            "overflow_x": null,
            "overflow_y": null,
            "padding": null,
            "right": null,
            "top": null,
            "visibility": null,
            "width": null
          }
        },
        "5b81be1cdb0446d199d41177bc2a2eda": {
          "model_module": "@jupyter-widgets/controls",
          "model_name": "ButtonStyleModel",
          "state": {
            "_model_module": "@jupyter-widgets/controls",
            "_model_module_version": "1.5.0",
            "_model_name": "ButtonStyleModel",
            "_view_count": null,
            "_view_module": "@jupyter-widgets/base",
            "_view_module_version": "1.2.0",
            "_view_name": "StyleView",
            "button_color": null,
            "font_weight": ""
          }
        },
        "eb3da8b52c0b48b4847612079d466564": {
          "model_module": "@jupyter-widgets/base",
          "model_name": "LayoutModel",
          "state": {
            "_model_module": "@jupyter-widgets/base",
            "_model_module_version": "1.2.0",
            "_model_name": "LayoutModel",
            "_view_count": null,
            "_view_module": "@jupyter-widgets/base",
            "_view_module_version": "1.2.0",
            "_view_name": "LayoutView",
            "align_content": null,
            "align_items": null,
            "align_self": null,
            "border": null,
            "bottom": null,
            "display": null,
            "flex": null,
            "flex_flow": null,
            "grid_area": null,
            "grid_auto_columns": null,
            "grid_auto_flow": null,
            "grid_auto_rows": null,
            "grid_column": null,
            "grid_gap": null,
            "grid_row": null,
            "grid_template_areas": null,
            "grid_template_columns": null,
            "grid_template_rows": null,
            "height": null,
            "justify_content": null,
            "justify_items": null,
            "left": null,
            "margin": null,
            "max_height": null,
            "max_width": null,
            "min_height": null,
            "min_width": null,
            "object_fit": null,
            "object_position": null,
            "order": null,
            "overflow": null,
            "overflow_x": null,
            "overflow_y": null,
            "padding": null,
            "right": null,
            "top": null,
            "visibility": null,
            "width": null
          }
        },
        "cec7517e3e18485fac0f5955640fe80d": {
          "model_module": "@jupyter-widgets/base",
          "model_name": "LayoutModel",
          "state": {
            "_model_module": "@jupyter-widgets/base",
            "_model_module_version": "1.2.0",
            "_model_name": "LayoutModel",
            "_view_count": null,
            "_view_module": "@jupyter-widgets/base",
            "_view_module_version": "1.2.0",
            "_view_name": "LayoutView",
            "align_content": null,
            "align_items": null,
            "align_self": null,
            "border": null,
            "bottom": null,
            "display": null,
            "flex": null,
            "flex_flow": null,
            "grid_area": null,
            "grid_auto_columns": null,
            "grid_auto_flow": null,
            "grid_auto_rows": null,
            "grid_column": null,
            "grid_gap": null,
            "grid_row": null,
            "grid_template_areas": null,
            "grid_template_columns": null,
            "grid_template_rows": null,
            "height": null,
            "justify_content": null,
            "justify_items": null,
            "left": null,
            "margin": null,
            "max_height": null,
            "max_width": null,
            "min_height": null,
            "min_width": null,
            "object_fit": null,
            "object_position": null,
            "order": null,
            "overflow": null,
            "overflow_x": null,
            "overflow_y": null,
            "padding": null,
            "right": null,
            "top": null,
            "visibility": null,
            "width": null
          }
        }
      }
    }
  },
  "cells": [
    {
      "cell_type": "markdown",
      "metadata": {
        "id": "hoNzFAff9R4O"
      },
      "source": [
        "# <span style = \"color :  #ca6f1e \">Activité Python : Dynamique des populations - Modèle d'Euler et Malthus</span>"
      ]
    },
    {
      "cell_type": "markdown",
      "metadata": {
        "id": "P9sr5TmgJwZy"
      },
      "source": [
        "Tu trouveras dans ce module python les fonctions qui nous ont permis de simuler des épidémies, puis des activités complémentaires qui permettent d'aller un peu plus loin que ce qu'on a vu en vidéo.\n",
        "\n",
        "Tu peux naviguer librement dans ce notebook en suivant les instructions. N'hésite pas à te familiariser avec le code et les différentes notions."
      ]
    },
    {
      "cell_type": "markdown",
      "metadata": {
        "id": "zzkDAekqAwdh"
      },
      "source": [
        "### I. Croissance géométrique d'une population"
      ]
    },
    {
      "cell_type": "markdown",
      "metadata": {
        "id": "okGM6EP6J8Sf"
      },
      "source": [
        "On commence simplement par reprendre une croissance géométrique de la population. Tout ce qui est précédé ou entouré d'un # dans le code est un commentaire qui est là pour t'aider à comprendre l'algorithme.\n",
        "\n",
        "Commence par lire le code ci-dessous et essaie de bien le comprendre. Une fois que c'est bon, tu peux exécuter la cellule et jouer avec les différents paramètres."
      ]
    },
    {
      "cell_type": "code",
      "metadata": {
        "colab": {
          "base_uri": "https://localhost:8080/",
          "height": 306
        },
        "id": "SmCMHlImAwdn",
        "outputId": "7f3bfe6a-d27d-472d-8206-412b02e069a4"
      },
      "source": [
        "import matplotlib.pyplot as plt\n",
        "\n",
        "#On définit une fonction \"croissance_geometrique\" qui prend en entrée les paramètres de la population\n",
        "#et qui affiche la croissance au cours du temps\n",
        "\n",
        "def croissance_geometrique(p0,q,N):\n",
        "    #P est une liste contenant toutes les tailles successives de la population, p_n=P[n]\n",
        "    P=[p0]\n",
        "\n",
        "    ##############\n",
        "    #   Calcul   #\n",
        "    ##############\n",
        "\n",
        "    #On créé une boucle for qui permet de calculer les termes successifs de p_n selon la relation p_k=q*p_(k-1)\n",
        "    for k in range (1,N+1):\n",
        "        p_k=P[-1]*q\n",
        "        P.append(p_k)\n",
        "        #On aurait aussi pu faire P.append(p0*q**k)\n",
        "\n",
        "    ##############\n",
        "    # Affichage  # \n",
        "    ##############\n",
        "\n",
        "    #On peut ensuite afficher les valeurs de p_n.\n",
        "    plt.plot(P, linewidth=3,color='black',label='population')\n",
        "    plt.ticklabel_format(style='plain')\n",
        "    plt.xlabel(\"Années\")\n",
        "    plt.ylabel(\"Taille de la population\")\n",
        "    plt.title(\"Evolution de la population pour p0=\"+str(p0)+\" et q=\"+str(q),y=1.05)\n",
        "    plt.show() \n",
        "\n",
        "\n",
        "##############\n",
        "# Paramètres #\n",
        "##############\n",
        "\n",
        "#p0 représente la population initiale\n",
        "p0=10\n",
        "#q représente la raison de la suite géométrique\n",
        "q=0.7\n",
        "#N représente le nombre d'années maximal qu'on considère, si N=50, on regarde l'évolution sur 50 ans\n",
        "N=9\n",
        "\n",
        "#On appelle la fonction définie précédemment avec les paramètres choisis\n",
        "croissance_geometrique(p0,q,N)\n",
        "\n",
        "#Exécute la cellule une première fois puis change les paramètres p0, q et N pour voir leurs effets respectifs.\n"
      ],
      "execution_count": null,
      "outputs": [
        {
          "output_type": "display_data",
          "data": {
            "text/plain": [
              "<Figure size 640x480 with 1 Axes>"
            ]
          },
          "metadata": {
            "tags": []
          }
        }
      ]
    },
    {
      "cell_type": "markdown",
      "metadata": {
        "id": "Wu7QEi7mAwdp"
      },
      "source": [
        "####  <span style=\"color:blue\">Module ipwidgets</span>\n",
        "Comme tu le remarques, il est assez fastidieux de modifier les paramètres systématiquement dans le code pour obtenir de nouvelles simulations. Pour plus de simplicité, on utilise un module de Python *ipywidgets* qui permet de changer les paramètres avec un curseur plutôt que dans le code. Il suffit de choisir les paramètres puis de cliquer sur \"Run Interact\". On peut alors voir la simulation et changer à nouveau les paramètres en actualisant à chaque fois via le bouton \"Run Interact\"."
      ]
    },
    {
      "cell_type": "code",
      "metadata": {
        "colab": {
          "base_uri": "https://localhost:8080/",
          "height": 452,
          "referenced_widgets": [
            "77de350191fb4dc7b590cd6f93ced9cf",
            "0d889642be2a40d98ccfe83db3398196",
            "831550fd328546cf9804e6039b95cefa",
            "d7138a1fe4df47f9a21d18787debf4e2",
            "5fd7abe06fff4c45bee972659221bfc9",
            "be18e1570a554cb2831286cc9470357d",
            "e267c4e6eb9d4dc4995f96a51a829872",
            "f5fdd963b3f947e0a199fb904dcb49b0",
            "a88666276d5f4fa8adcc2fff03c8226c",
            "0a55f869643a4ae88295490aa6c8c6d3",
            "221135f5c21e4a7dbf78b02b400bc38e",
            "9235f99f6f5d4c6aba1ac1d1ae7f4fcb",
            "d493529c52d74440961b587019f51d29",
            "8afa3fe43b434355990be2d8ec389f2d",
            "88bdd8c0c3ff49039a29d95a68f58701",
            "73ac63d934f1454b863c55fa92a6e441",
            "0a2c4b5a675f4f42b621b7d758630639"
          ]
        },
        "id": "Dy2cqo2jAwdq",
        "outputId": "be8979be-326f-459e-8ea8-49ac601d65fa"
      },
      "source": [
        "import numpy as np\n",
        "import ipywidgets as widgets\n",
        "from IPython.display import display\n",
        "\n",
        "p0 = widgets.IntSlider(min=0, max=100, value=10, description='p0')\n",
        "q = widgets.FloatSlider(min=0, max=2, value=1.05, description='q')\n",
        "N = widgets.IntSlider(min=1, max=1000, value=50, description='N')\n",
        "\n",
        "widgets.interact_manual(croissance_geometrique, p0=p0, q=q, N=N)"
      ],
      "execution_count": null,
      "outputs": [
        {
          "output_type": "display_data",
          "data": {
            "application/vnd.jupyter.widget-view+json": {
              "model_id": "0a2c4b5a675f4f42b621b7d758630639",
              "version_major": 2,
              "version_minor": 0
            },
            "text/plain": [
              "interactive(children=(IntSlider(value=10, description='p0'), FloatSlider(value=1.05, description='q', max=2.0)…"
            ]
          },
          "metadata": {
            "tags": []
          }
        },
        {
          "output_type": "execute_result",
          "data": {
            "text/plain": [
              "<function __main__.croissance_geometrique(p0, q, N)>"
            ]
          },
          "metadata": {
            "tags": []
          },
          "execution_count": 6
        }
      ]
    },
    {
      "cell_type": "markdown",
      "metadata": {
        "id": "SH-uNONCAwdq"
      },
      "source": [
        "### II. Croissance géométrique limitée par la croissance arithmétique des ressources"
      ]
    },
    {
      "cell_type": "markdown",
      "metadata": {
        "id": "VJXZhZhemwyw"
      },
      "source": [
        "On définit désormais une fonction \"croissance_ressources\" qui prend en entrée les paramètres de la population et qui affiche la croissance au cours du temps en tenant compte des limitations des ressource. Essaie de comprendre le code et joue ensuite avec les paramètres."
      ]
    },
    {
      "cell_type": "code",
      "metadata": {
        "colab": {
          "base_uri": "https://localhost:8080/",
          "height": 306
        },
        "id": "WdF6oJO7Awdq",
        "outputId": "a90d47c8-0c2d-4d6d-92f4-165723a55c06"
      },
      "source": [
        "\n",
        "\n",
        "def croissance_ressources(p0,q,r0,a,N):\n",
        "    #P est une liste contenant toutes les tailles successives de la population, p_n=P[n]\n",
        "    P=[p0]\n",
        "    \n",
        "    #Pour une meilleure compréhension, on affiche aussi la suite géométrique classique et la croissance des ressources\n",
        "    # en pointillés\n",
        "    \n",
        "    #R contient les valeurs de la suite arithmétique des ressources\n",
        "    R=[r0]\n",
        "    #Q contient les valeurs de la suite géométrique\n",
        "    Q=[p0]\n",
        "\n",
        "    ##############\n",
        "    #   Calcul   #\n",
        "    ##############\n",
        "\n",
        "    #On créé une boucle for qui permet de calculer les termes successifs de p_n en prenant le minimum\n",
        "    # entre q*p_(n-1) et r_(n)=n*a+r0\n",
        "    for k in range (1,N+1):\n",
        "        p_k=min(P[-1]*q,k*a+r0)\n",
        "        P.append(p_k)\n",
        "        \n",
        "        R.append(r0+a*k)\n",
        "        Q.append(p0*q**k)\n",
        "\n",
        "    ##############\n",
        "    # Affichage  #\n",
        "    ##############\n",
        "\n",
        "    #On peut ensuite afficher les valeurs de p_n.\n",
        "    plt.plot(P, linewidth=3,color='black',label='population')\n",
        "    plt.plot(R,'--',color='orange',label='croissance des ressources')\n",
        "    plt.plot(Q,'--',color='blue',label='croissance géométrique')\n",
        "    plt.xlabel(\"Années\")\n",
        "    plt.legend()\n",
        "    plt.ticklabel_format(style='plain')\n",
        "    plt.ylabel(\"Taille de la population\")\n",
        "    plt.ylim(0,10*N+100)\n",
        "    plt.title(\"Evolution de la population pour p0=\"+str(p0)+\", q=\"+str(q)+\", r0=\"+str(r0)+\" et a=\"+str(a),y=1.05)\n",
        "    plt.show()\n",
        "\n",
        "\n",
        "##############\n",
        "# Paramètres #\n",
        "##############\n",
        "\n",
        "#p0 représente la population initiale\n",
        "p0=10\n",
        "#q représente la raison de la suite géométrique\n",
        "q=1.05\n",
        "#a représente la raison de la suite arithmétique des ressources\n",
        "a=10\n",
        "#r0 représente la valeur initiale des ressources\n",
        "r0=500\n",
        "#N représente le nombre d'année maximal qu'on considère, si N=50, on regarde l'évolution sur 50 ans\n",
        "N=200\n",
        "\n",
        "#On appelle la fonction définit précédemment avec les paramètres qu'on a choisit\n",
        "croissance_ressources(p0,q,r0,a,N)\n",
        "\n",
        "#Tu peux exécuter la cellule plusieurs fois en changeant les paramètres à chaque fois pour voir leur effet respectif.\n"
      ],
      "execution_count": null,
      "outputs": [
        {
          "output_type": "display_data",
          "data": {
            "image/png": "[encoded data removed]",
            "text/plain": [
              "<Figure size 432x288 with 1 Axes>"
            ]
          },
          "metadata": {
            "tags": [],
            "needs_background": "light"
          }
        }
      ]
    },
    {
      "cell_type": "markdown",
      "metadata": {
        "id": "5GeMlrjOnByN"
      },
      "source": [
        "Encore une fois, on ajoute un module qui permet de changer les paramètres directement sans avoir à exécuter la cellule à chaque fois."
      ]
    },
    {
      "cell_type": "code",
      "metadata": {
        "colab": {
          "base_uri": "https://localhost:8080/",
          "height": 484,
          "referenced_widgets": [
            "14d861610016478b962253509b8b0055",
            "5cdbe3d027fb4331baafc0e96e4143b3",
            "ab49c7e395b84ef99a718eebf9573258",
            "45e72de56cb54dab80e8a503e69380f6",
            "7d2d2c688dac435b919fa46bfa0f3cfd",
            "0dd04a1311014406ad726de39136b3d4",
            "eb53fccff9da4edeb76f3caeb9b46d34",
            "c2c0b24db78444089e69564ef8f11bbe",
            "a0a18c8b5f9047d59baeafc429417c42",
            "2298c35aa3954d43a716468f569b22d9",
            "5e66344478bd4ef29ec6365be47aa645",
            "d753ad82f76746ccba7340f3224c89b3",
            "8267e769fd5a4138ae762ab83bbc9ab8",
            "5c87388b85814f65a245372012c67ddd",
            "491cfa98772742478353e18d90c8f0ae",
            "07922fe32e8c4d61b4f3fe3ee993e14a",
            "0b2a09710fde4427a16922dbcbf15e7b",
            "ebe57509d8574812bd162955d33d1907",
            "978d8b70a38b4fd58aa42094a99c7a48",
            "0f9e8f5c941741a29c52ed1679a463be"
          ]
        },
        "id": "SRgM-dDVAwdr",
        "outputId": "3359e37c-8be7-4195-942e-4f8c47d3378f"
      },
      "source": [
        "p0 = widgets.IntSlider(min=0, max=100, value=10, description='p0')\n",
        "q = widgets.FloatSlider(min=0, max=2, value=1.1, description='q')\n",
        "r0 = widgets.FloatSlider(min=1, max=100, value=50, description='r0')\n",
        "a = widgets.FloatSlider(min=1, max=10, value=5, description='a')\n",
        "N = widgets.IntSlider(min=1, max=1000, value=50, description='N')\n",
        "\n",
        "widgets.interact(croissance_ressources, p0=p0, q=q, r0=r0, a=a, N=N)"
      ],
      "execution_count": null,
      "outputs": [
        {
          "output_type": "display_data",
          "data": {
            "application/vnd.jupyter.widget-view+json": {
              "model_id": "0f9e8f5c941741a29c52ed1679a463be",
              "version_major": 2,
              "version_minor": 0
            },
            "text/plain": [
              "interactive(children=(IntSlider(value=10, description='p0'), FloatSlider(value=1.1, description='q', max=2.0),…"
            ]
          },
          "metadata": {
            "tags": []
          }
        },
        {
          "output_type": "execute_result",
          "data": {
            "text/plain": [
              "<function __main__.croissance_ressources(p0, q, r0, a, N)>"
            ]
          },
          "metadata": {
            "tags": []
          },
          "execution_count": 8
        }
      ]
    },
    {
      "cell_type": "markdown",
      "metadata": {
        "id": "IZ4KoyVnAwds"
      },
      "source": [
        "### III. Exercice pratique\n",
        "\n",
        "On peut tester notre nouveau modèle sur des données réelles, en l'occurrence la démographie française entre 1945 et 2015. Le but de l'exercice suivant est de trouver les paramètres $c, a_0$ et $r_0$ qui permettent de simuler le plus précisement possible l'évolution de la population française. Essayez de modifier ces paramètres via les curseurs pour obtenir une courbe qui colle aux points de données rouges. On précise que $c$ est le taux de croissance de la population exprimé en pourcentage. Ainsi, $q=1+\\frac{c}{100}$. \\\n",
        "<span style=\"color:green\">Remarque : le code ci-dessous est beaucoup plus avancé. Tu peux ne pas tout comprendre, ce n'est pas grave. L'important ici est de pouvoir utiliser la simulation pour estimer les paramètres d'évolution d'une population. Tu pourras relire ce code un peu plus tard lorsque tu auras progressé en Python !</span>"
      ]
    },
    {
      "cell_type": "code",
      "metadata": {
        "colab": {
          "base_uri": "https://localhost:8080/",
          "height": 452,
          "referenced_widgets": [
            "c5d6b68bf952414cb9277c9a2d82a9d9",
            "ae3e35e595224bf6bfb7cd21b09014ba",
            "3fa86589b39d40dc8994c46478fe2922",
            "5cb8b20fdfbd4b51862eacc3cbc77058",
            "5b4692e7c0614df4ac9e086194b454b7",
            "d4775db658594ad189d5720efcea7351",
            "2384bcb75bbd4196a56e3de790123e54",
            "ec2a4304c57f4a0d96e317fc000f3388",
            "020d354cd9a64321aa19067dd4058748",
            "92f1d96f10444e4d803d9ae64b65ba1d",
            "811c6e71f51e4e89b65d50b465d2331c",
            "56e3a86eb5ca4691a98f9a0ea19953df",
            "5b8c15bb0d9648cea0f7c7d77644e279",
            "b55439aa2048482186a40c02aea9fb2e",
            "1f194e225c654402a61264d48f5fd587",
            "dc344b9bed0e4781b9801e30801c04b9",
            "cd6f7dd88fdd4e39b44b809dba918b3a"
          ]
        },
        "id": "N7uumhz1Awds",
        "outputId": "6d9ad948-b57e-4da0-d388-c7b7c4977aea"
      },
      "source": [
        "population_fr=[39660000, 41429000, 43428000, 45684000, 47758000, 50772000, 52699000, \n",
        "               53880000, 55284000, 56709000, 57844000, 59549000, 61182000, 62765000, 64300000]\n",
        "annees=[1945+k*5 for k in range(0,15)]\n",
        "\n",
        "\n",
        "def exercice(c,r0,a):\n",
        "    q=1+c/100\n",
        "    p0=39660000\n",
        "    P=[p0]\n",
        "    R=np.array([r0+a*k for k in range(71)])\n",
        "    Q=np.array([p0*q**k for k in range(71)])\n",
        "    P=np.zeros(71)\n",
        "    n=np.argmax(R<Q)\n",
        "    if Q[-1]<R[-1]:\n",
        "        n=71\n",
        "    P[:n]=Q[:n]\n",
        "    P[n:]=R[n:]\n",
        "    absc=[1945+k for k in range(71)]\n",
        "    plt.plot(absc,P, linewidth=3,color='black',label='population')\n",
        "    plt.plot(absc,R,'--',color='orange',label='croissance des ressources')\n",
        "    plt.plot(absc,Q,'--',color='blue',label='croissance géométrique')\n",
        "    plt.xlabel(\"Années\")\n",
        "    plt.ylim(39660000,68000000)\n",
        "    plt.ticklabel_format(style='plain')\n",
        "    plt.ylabel(\"Taille de la population\")\n",
        "    plt.title(\"Evolution de la population pour p0=\"+str(p0)+\", q=\"+str(q)+\", r0=\"+str(r0)+\" et a=\"+str(a),y=1.05)\n",
        "    plt.scatter(annees,population_fr,color='red',label='données')\n",
        "    plt.ticklabel_format(style='plain')\n",
        "    plt.legend()\n",
        "    plt.show()\n",
        "\n",
        "\n",
        "c = widgets.FloatSlider(min=0, max=2, value=1.4, description='c')\n",
        "r0 = widgets.IntSlider(min=39660000, max=68000000, value=50000000, description='r0')\n",
        "a = widgets.IntSlider(min=100000, max=500000, value=200000, description='a')\n",
        "\n",
        "widgets.interact_manual(exercice, c=c, r0=r0, a=a)\n",
        "\n"
      ],
      "execution_count": null,
      "outputs": [
        {
          "output_type": "display_data",
          "data": {
            "application/vnd.jupyter.widget-view+json": {
              "model_id": "cd6f7dd88fdd4e39b44b809dba918b3a",
              "version_major": 2,
              "version_minor": 0
            },
            "text/plain": [
              "interactive(children=(FloatSlider(value=1.4, description='c', max=2.0), IntSlider(value=50000000, description=…"
            ]
          },
          "metadata": {
            "tags": []
          }
        },
        {
          "output_type": "execute_result",
          "data": {
            "text/plain": [
              "<function __main__.exercice(c, r0, a)>"
            ]
          },
          "metadata": {
            "tags": []
          },
          "execution_count": 9
        }
      ]
    },
    {
      "cell_type": "markdown",
      "metadata": {
        "id": "HTMIiUg7nNaU"
      },
      "source": [
        "### <span style=\"color : green\">Exercice 1</span> \n",
        "\n",
        "Joue avec les paramètres jusqu'à ce que les 2 courbes soient à peu près superposées. Les \"bons\" paramètres à trouver se trouvent ci-dessous, je te conseille donc de ne pas regarder la suite avant d'avoir essayé de trouver seul les \"bons\" paramètres."
      ]
    },
    {
      "cell_type": "markdown",
      "metadata": {
        "id": "NsjbPW9kAwdt"
      },
      "source": [
        "### IV. Variante du modèle de Malthus : ressources non périssables\n",
        "\n",
        "Jusqu'à maintenant, on a implicitement supposé que les ressources non utilisées sur une année n'étaient pas utilisables pour l'année suivante, mais on peut tout à fait faire l'hypothèse que les ressources sont non périssables et qu'elles peuvent se conserver ! \n",
        "\n",
        "Avant de regarder la suite, quel va être à ton avis le nouveau comportement de la population ? Qu'est-ce que cela change ? \n",
        "\n",
        "Il faut tout d'abord traduire notre hypothèse en langage mathématique. \n",
        "On a toujours $p_n=\\min (q*p_{n-1},r_n)$, mais cette fois, $r_n=(na+r_0)+(r_{n-1}-p_{n-1})$. Le premier terme correspond à la production de ressource annuelle comme tout à l'heure qui croit de manière arithmétique. Le deuxième terme correspond aux ressources de l'année dernière qui n'ont pas été consommée par la population. Avec ces formules, on peut lancer des simulations pour observer ce qu'il se passe."
      ]
    },
    {
      "cell_type": "code",
      "metadata": {
        "colab": {
          "base_uri": "https://localhost:8080/",
          "height": 227,
          "referenced_widgets": [
            "f4b4b537c387485eb86d61a7e0fd210f",
            "1c8091a3b0044dc7bff184977aa10f3a",
            "eba18099dfab415c909a3a03eef64735",
            "cd44bcc0e28c45e996f4f67afafd5e90",
            "1897283b226c4c87a65526307d99cd96",
            "14c81c7adc6944d4ad18a09b5135ec81",
            "a5fb93f0ab6c466883b6db728f5e9f1a",
            "a7e19eb17e2a45afadc3e5aa66aff138",
            "b7ad546437c9425696115935b1e32118",
            "98c18e1ad0984f1bb32a8d7f3605ec2f",
            "6c62bb2fdd8f45da93194049452f8778",
            "45287d6dde9f450f8cdf5e3822f1b536",
            "002d28e5868e4098b7752b96ec79ce5a",
            "fdbc557ac2634c3fba8efd6ffe5d91a5",
            "e7f63647077e408283ea5f8308262f67",
            "0b5204ea23ac4e6bb8d96bc924c08c10",
            "ecbb0085074c41ca815fd3684f682657",
            "2f53878b2d2c416c93eb953f972880ce",
            "54af184326af49299bb445b389bb7838",
            "5b81be1cdb0446d199d41177bc2a2eda",
            "eb3da8b52c0b48b4847612079d466564",
            "cec7517e3e18485fac0f5955640fe80d",
            "be90d4eed18e4599b3a5011946326e36"
          ]
        },
        "id": "bQ8JUIqGAwdt",
        "outputId": "768991f1-0a28-4d53-8946-0313ed4b4dc2"
      },
      "source": [
        "\n",
        "#On définit une fonction \"croissance_ressources\" qui prend en entrée les paramètres de la population\n",
        "#et qui affiche la croissance au cours du temps en tenant compte de la croissance des ressources\n",
        "\n",
        "def variante_malthus(p0,q,r0,a,N):\n",
        "    #P est une liste contenant toutes les tailles successives de la population, p_n=P[n]\n",
        "    P=[p0]\n",
        "    #R contient les valeurs de la suite arithmétique des ressources\n",
        "    R=[r0]\n",
        "    #Q contient les valeurs de la suite géométrique\n",
        "    Q=[p0]\n",
        "    for n in range (1,N+1):\n",
        "        nouveau_terme=(R[-1]-P[-1]) \n",
        "        r_n=n*a+r0+nouveau_terme\n",
        "        p_n=min(P[-1]*q,r_n)\n",
        "        P.append(p_n)\n",
        "        R.append(r_n)\n",
        "        Q.append(p0*q**n)\n",
        "        \n",
        "    ##############\n",
        "    # Affichage  #\n",
        "    ##############\n",
        "    plt.plot(P, linewidth=3,color='black',label='population')\n",
        "    plt.plot(R,'--',color='orange',label='ressources disponibles')\n",
        "    plt.plot(Q,'--',color='blue',label='croissance géométrique')\n",
        "    plt.xlabel(\"Années\")\n",
        "    plt.ylim(0,max(R)+100)\n",
        "    plt.legend()\n",
        "    plt.ticklabel_format(style='plain')\n",
        "    plt.ylabel(\"Taille de la population\")\n",
        "    plt.title(\"Evolution de la population pour p0=\"+str(p0)+\", q=\"+str(q)+\", r0=\"+str(r0)+\" et a=\"+str(a),y=1.05)\n",
        "    plt.show()\n",
        "    \n",
        "\n",
        "p0 = widgets.IntSlider(min=0, max=100, value=10, description='p0')\n",
        "q = widgets.FloatSlider(min=0, max=2, value=1.2, description='q')\n",
        "r0 = widgets.FloatSlider(min=1, max=100, value=50, description='r0')\n",
        "a = widgets.FloatSlider(min=1, max=10, value=5, description='a')\n",
        "N = widgets.IntSlider(min=1, max=1000, value=50, description='N')\n",
        "\n",
        "widgets.interact_manual(variante_malthus, p0=p0, q=q, r0=r0, a=a, N=N)\n"
      ],
      "execution_count": null,
      "outputs": [
        {
          "output_type": "display_data",
          "data": {
            "application/vnd.jupyter.widget-view+json": {
              "model_id": "be90d4eed18e4599b3a5011946326e36",
              "version_major": 2,
              "version_minor": 0
            },
            "text/plain": [
              "interactive(children=(IntSlider(value=10, description='p0'), FloatSlider(value=1.2, description='q', max=2.0),…"
            ]
          },
          "metadata": {
            "tags": []
          }
        },
        {
          "output_type": "execute_result",
          "data": {
            "text/plain": [
              "<function __main__.variante_malthus(p0, q, r0, a, N)>"
            ]
          },
          "metadata": {
            "tags": []
          },
          "execution_count": 10
        }
      ]
    },
    {
      "cell_type": "markdown",
      "metadata": {
        "id": "ZU_oR4dWAwdu"
      },
      "source": [
        "Le comportement devient alors très intéressant. Comme précédemment, on a initialement une croissance géométrique jusqu'à ce que la population atteigne ses capacités en ressources. Mais cette fois ci, comme les ressources ont été économisées au fil des années, on a une décroissance de la population sur un certain temps car en fait cette dernière vit au-delà de ses moyens ! Elle ne fait que profiter des ressources mises de côté, mais cela ne peut pas durer éternellement ! La population décroit alors jusqu'à pouvoir se satisfaire de sa production annuelle de ressources. A partir de ce moment, la croissance se fait comme précédemment, au même rythme que la croissance arithmétique des ressources."
      ]
    },
    {
      "cell_type": "markdown",
      "metadata": {
        "id": "H1fo7VjtAwdu"
      },
      "source": [
        "### Variante du modèle de Malthus : des meurtres dans la population !\n",
        "\n",
        "Pour terminer, on peut regarder ce qu'il se passe si on fait l'hypothèse qu'une partie de la population s'entretue... On oublie les ressources et on suppose que la population croît toujours de manière géométrique, à ceci près que chaque année, une part de la population meurt (soit parce-qu'il y a des meurtres ou que trop d'humains induisent une pollution toxique par exemple). En language mathématique, on va par exemple supposer que :\n",
        "$$ p_{n+1}=q \\ p_n-\\frac{m}{1000} \\ p_{n}^2$$\n",
        "avec $m$ un paramètre qui contrôle la mortalité.\n",
        "Le terme négatif $-\\frac{m}{1000} \\ p_{n}^2$ correspond donc à ce phénomène de mortalité qui croît comme le carré de la population (c'est une hypothèse, il y a d'autres façons d'introduire un terme de mortalité).\n",
        "\n",
        "### <span style=\"color : green\">Exercice 2</span>\n",
        "\n",
        "Qu'est-ce que cela peut donner en termes de simulation à ton avis ? Est-ce que la population peut tendre vers l'infinie ? Peut-elle s'éteindre ?\n",
        "\n",
        "Essaie de programmer ta propre fonction qui modélise cette évolution de population afin de répondre à cette question !"
      ]
    },
    {
      "cell_type": "code",
      "metadata": {
        "id": "8_Ovx2suAwdv",
        "outputId": "aa2a978d-3c69-4b70-b035-267c6ffa3178"
      },
      "source": [
        "def variante_mortalite_exercice(p0,q,m,N):\n",
        "    #P est une liste contenant toutes les tailles successives de la population, p_n=P[n]\n",
        "    P=[p0]\n",
        "    #On veut remplir les N premières valeurs de P ! (Indice : il faudra une boucle for)\n",
        "    \n",
        "    \n",
        "    \n",
        "    \n",
        "    # à toi de remplir ces lignes #\n",
        "    \n",
        "    \n",
        "    \n",
        "    #On a préparé ci-dessous le code permettant l'affichage graphique de la simulation    \n",
        "    plt.plot(P, linewidth=3,color='black',label='population')\n",
        "    plt.xlabel(\"Années\")\n",
        "    plt.legend()\n",
        "    plt.ticklabel_format(style='plain')\n",
        "    plt.ylabel(\"Taille de la population\")\n",
        "    plt.title(\"Evolution de la population pour p0=\"+str(p0)+\", q=\"+str(q)+\" et m=\"+str(m),y=1.05)\n",
        "    plt.show()\n",
        "    \n",
        "variante_mortalite_exercice(10,1.2,1,50)"
      ],
      "execution_count": null,
      "outputs": [
        {
          "output_type": "display_data",
          "data": {
            "image/png": "[encoded data removed]",
            "text/plain": [
              "<Figure size 432x288 with 1 Axes>"
            ]
          },
          "metadata": {
            "tags": [],
            "needs_background": "light"
          }
        }
      ]
    },
    {
      "cell_type": "markdown",
      "metadata": {
        "id": "kah46M-gnbTD"
      },
      "source": [
        "## <span style=\"color : red\">Correction Exercice 1</span>\n",
        "\n",
        "\n",
        "Pour l'exercice sur la démographie francaise, tu devrais trouver à peu près ces paramètres : c=1, r0=45 000 000, a=270 000. Evidemment, il n'y a pas de valeur exacte, donc pas de soucis si tu n'as pas exactement les mêmes nombres."
      ]
    },
    {
      "cell_type": "markdown",
      "metadata": {
        "id": "NUSSMqwnnw6V"
      },
      "source": [
        "## <span style=\"color : red\">Correction Exercice 2</span>\n",
        "\n",
        "Le code qui suit est la correction. Ne la regarde pas avant de chercher toi-même, mais tu peux t'en inspirer si jamais tu bloques après plusieurs minutes de recherche. Il y a une infinité de façons de coder un même algorithme, ne t'inquiètes pas si tu n'as pas exactement la même chose. Si tu penses avoir trouvé un algorithme qui fonctionne, choisis un jeu de paramètre et lance une simulation sur ton algorithme puis sur l'algorithme de la correction. Si le résultat est le même dans les deux cas, c'est que ton algorithme fonctionne bien ! "
      ]
    },
    {
      "cell_type": "code",
      "metadata": {
        "colab": {
          "referenced_widgets": [
            "084a8a0828df4070a7c3fa57ea8dfacc",
            "d0f3462147b8491997739f1f604b3df1"
          ]
        },
        "id": "W_xw8ojSAwdv",
        "outputId": "12a994ab-a20b-4909-e3d8-38f522f2398d"
      },
      "source": [
        "def variante_mortalite(p0,q,m,N):\n",
        "    #P est une liste contenant toutes les tailles successives de la population, p_n=P[n]\n",
        "    P=[p0]\n",
        "    \n",
        "    for n in range (1,N+1):\n",
        "        p_n=q*P[-1]-m/1000*P[-1]**2\n",
        "        P.append(p_n)\n",
        "        \n",
        "    plt.plot(P, linewidth=3,color='black',label='population')\n",
        "    plt.xlabel(\"Années\")\n",
        "    plt.legend()\n",
        "    plt.ticklabel_format(style='plain')\n",
        "    plt.ylabel(\"Taille de la population\")\n",
        "    plt.title(\"Evolution de la population pour p0=\"+str(p0)+\", q=\"+str(q)+\" et m=\"+str(m),y=1.05)\n",
        "    plt.show()\n",
        "\n",
        "p0 = widgets.IntSlider(min=0, max=100, value=10, description='p0')\n",
        "q = widgets.FloatSlider(min=0, max=2, value=1.2, description='q')\n",
        "m = widgets.FloatSlider(min=0, max=5, value=1, description='M')\n",
        "N = widgets.IntSlider(min=1, max=100, value=50, description='N')\n",
        "\n",
        "widgets.interact_manual(variante_mortalite, p0=p0, q=q, m=m, N=N)\n",
        "        "
      ],
      "execution_count": null,
      "outputs": [
        {
          "output_type": "display_data",
          "data": {
            "application/vnd.jupyter.widget-view+json": {
              "model_id": "d0f3462147b8491997739f1f604b3df1",
              "version_major": 2,
              "version_minor": 0
            },
            "text/plain": [
              "interactive(children=(IntSlider(value=10, description='p0'), FloatSlider(value=1.2, description='q', max=2.0),…"
            ]
          },
          "metadata": {
            "tags": []
          }
        },
        {
          "output_type": "execute_result",
          "data": {
            "text/plain": [
              "<function __main__.variante_mortalite(p0, q, m, N)>"
            ]
          },
          "metadata": {
            "tags": []
          },
          "execution_count": 12
        }
      ]
    },
    {
      "cell_type": "markdown",
      "metadata": {
        "id": "kt76tGP0Awdw"
      },
      "source": [
        "On remarque qu'avec ce modèle, la population atteint un niveau d'équilibre ! Cela permet donc de rendre compte des démographies qui ont commencé par grossir jusqu'à atteindre un plateau. On a d'ailleurs posé les bases du modèle de Verhulst qu'on étudie plus en détails dans le prochain module !\n",
        "\n",
        "Question bonus : en supposant vrai le fait que la suite $p_n$ converge vers une limite $l$ et qu'on a la relation $ p_{n+1}=q \\ p_n-\\frac{m}{1000} \\ p_{n}^2$, peut-on trouver une formule pour $l$ en fonction de $q$ et de $m$ ?"
      ]
    }
  ]
}