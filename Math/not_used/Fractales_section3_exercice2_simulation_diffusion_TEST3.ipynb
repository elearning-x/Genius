{
 "cells": [
  {
   "cell_type": "markdown",
   "id": "requested-strip",
   "metadata": {},
   "source": [
    "# Exercice 2 : Diffusion de particules\n",
    "\n",
    "Dans cet exercice, vous allez simuler la diffusion de particules dans un milieu plan, comme dans le cas présenté dans la dernière vidéo.\n",
    "\n",
    "Les grandes lignes de l'algorithme sont les suivantes :"
   ]
  },
  {
   "cell_type": "raw",
   "id": "first-designer",
   "metadata": {},
   "source": [
    "- Initialisation des paramètres.\n",
    "\n",
    "- Création du milieu et de la source.\n",
    "\n",
    "- À chaque pas de temps, choisir les particules qui vont se déplacer et pour chacune d'elles, déterminer sa nouvelle position. Si l'une de ces particules appartient à la source, une nouvelle particule est créée à cet emplacement afin de maintenir une concentration constante au cours du temps.Stocker le nouvel état.\n",
    "\n",
    "- Afficher le résultat obtenu."
   ]
  },
  {
   "cell_type": "markdown",
   "id": "meaning-phase",
   "metadata": {},
   "source": [
    "## 1- Initialisation\n",
    "\n",
    "Commencez par importer les librairies nécessaires."
   ]
  },
  {
   "cell_type": "code",
   "execution_count": null,
   "id": "postal-friendly",
   "metadata": {},
   "outputs": [],
   "source": [
    "# Importation des librairies\n",
    "import numpy as np\n",
    "import matplotlib.pyplot as plt\n",
    "%matplotlib inline\n",
    "from matplotlib import animation, rc\n",
    "import random"
   ]
  },
  {
   "cell_type": "markdown",
   "id": "muslim-celtic",
   "metadata": {},
   "source": [
    "Il vous faut maintenant définir les dimensions du milieu dans lequel les particules vont évoluer."
   ]
  },
  {
   "cell_type": "code",
   "execution_count": null,
   "id": "greatest-cooper",
   "metadata": {},
   "outputs": [],
   "source": [
    "# Définition des dimensions du milieu\n",
    "H = ... # hauteur du milieu en nombre de pixels\n",
    "L = ... # largeur du milieu en nombre de pixels"
   ]
  },
  {
   "cell_type": "markdown",
   "id": "occasional-addition",
   "metadata": {},
   "source": [
    "Choisissez également combien de temps durera la simulation (en nombre de pas de temps)."
   ]
  },
  {
   "cell_type": "code",
   "execution_count": null,
   "id": "ignored-worry",
   "metadata": {},
   "outputs": [],
   "source": [
    "T = ... # durée de la simulation en nombre de pas de temps"
   ]
  },
  {
   "cell_type": "markdown",
   "id": "fixed-angle",
   "metadata": {},
   "source": [
    "Définissons la source des particules. C'est la seule zone du milieu qui contient des particules au démarrage et toutes les particules quittant cette zone sont immédiatement remplacées.\n",
    "\n",
    "Commencez par traiter le cas présenté dans la dernière vidéo : la  source est la ligne du bas du milieu.\n",
    "\n",
    "Nous stockerons les points de la sources sous la forme d'un tableau contenant des tableaux de taille deux. Ces tableaux représenteront les coordonnées des points dans le milieu, la première coordonnée étant la hauteur à laquelle se situe la particule (en partant du haut) et la deuxième coordonnée étant la largeur à laquelle elle se situe (en partant de la gauche).\n",
    "\n",
    "Créez votre source de particules."
   ]
  },
  {
   "cell_type": "code",
   "execution_count": null,
   "id": "wireless-karaoke",
   "metadata": {},
   "outputs": [],
   "source": [
    "source = ..."
   ]
  },
  {
   "cell_type": "markdown",
   "id": "defensive-leave",
   "metadata": {},
   "source": [
    "Lors des pas de temps successifs les particules vont se déplacer, il nous faudra donc stoker les différentes états du milieu à tout instant. Pour cela, il nous faut créer le milieu dans lequel les particules vont évoluer et le remplir avec les particules présentes à t = 0. À l'instant t = 0 les seules particules présentes sont celles de la source.\n",
    "l \n",
    "On représentera le milieu sous la forme d'une matrice de taille H * L rempli de VIDE partout où il n'y a pas de particules et PLEINE, là où il y en a."
   ]
  },
  {
   "cell_type": "code",
   "execution_count": null,
   "id": "genetic-chemical",
   "metadata": {},
   "outputs": [],
   "source": [
    "VIDE = 0\n",
    "PLEINE = 1\n",
    "# Création du milieu\n",
    "milieu = [[]] * H\n",
    "for i in range(H) :\n",
    "    milieu[i] = [0] * L\n",
    "\n",
    "# Placement des particules présentes \n",
    "..."
   ]
  },
  {
   "cell_type": "markdown",
   "id": "flexible-barcelona",
   "metadata": {},
   "source": [
    "Il faut finalement créer le tableau qui stockera les états du milieu pour chaque instant."
   ]
  },
  {
   "cell_type": "code",
   "execution_count": null,
   "id": "yellow-romania",
   "metadata": {},
   "outputs": [],
   "source": [
    "stockage_milieu = [[-1]] * T"
   ]
  },
  {
   "cell_type": "markdown",
   "id": "loving-electric",
   "metadata": {},
   "source": [
    "## 2- Simulation\n",
    "\n",
    "Maintenant que nos variables sont initialisées, il nous faut simuler la diffusion. Cette partie n'implique pas l'affichage des résultats obtenus.\n",
    "\n",
    "### 2-1- Choix des particules à déplacer\n",
    "\n",
    "Il vous faut définir la fonction qui choisira les particules à déplacer. Ces particules doivent être choisies aléatoirement parmis la liste des particules présentes dans le milieu. Vous utiliserez pour cela la fonction sample de la bibliothèque random. \n",
    "\n",
    "Commencez par utiliser la fonction help pour obtenir les spécificaion de random.sample."
   ]
  },
  {
   "cell_type": "code",
   "execution_count": null,
   "id": "numeric-buying",
   "metadata": {},
   "outputs": [],
   "source": [
    "help(random.sample)"
   ]
  },
  {
   "cell_type": "markdown",
   "id": "insured-pound",
   "metadata": {},
   "source": [
    "Il vous faudra choisir une certaine quantité de particules à sélectionner. Pour cela commencez par définir la proportion des particules qui doit être sélectionnée."
   ]
  },
  {
   "cell_type": "code",
   "execution_count": null,
   "id": "geological-oregon",
   "metadata": {},
   "outputs": [],
   "source": [
    "# proportion désigne la proportion des particules qui doivent être \n",
    "# sélectionnées pour être déplacées à chaque pas de temps.\n",
    "# proportion est donc un flottant compris entre 0 et 1.\n",
    "proportion = ... "
   ]
  },
  {
   "cell_type": "markdown",
   "id": "sustained-stationery",
   "metadata": {},
   "source": [
    "Créons maintenant la fonction choisir_particules."
   ]
  },
  {
   "cell_type": "code",
   "execution_count": null,
   "id": "injured-banks",
   "metadata": {},
   "outputs": [],
   "source": [
    "def choisir_particules(milieu, proportion) :\n",
    "    \"\"\"\n",
    "    Prérequis :\n",
    "    milieu est une matrice contenant uniquement les valeurs VIDE et PLEINE.\n",
    "    proportion est un flottant compris entre 0 et 1.\n",
    "    \n",
    "    Renvoie un tableau de coordonnées de particules présentes dans \n",
    "    milieu et choisies aléatoirement. \n",
    "    Ce tableau est de longueur :\n",
    "    partie entière de proportion * ensemble_particules\n",
    "    \"\"\"\n",
    "    # On commence par des tests sur la valeur de proportion.\n",
    "    assert(proportion >= 0)\n",
    "    assert(proportion <= 1)\n",
    "    \n",
    "    # Remplissez la fonction\n",
    "    \n",
    "    "
   ]
  },
  {
   "cell_type": "markdown",
   "id": "smaller-reverse",
   "metadata": {},
   "source": [
    "Testez votre fonction sur l'ensemble de particules initial pour différentes valeurs de proportion. Testez notamment les cas limites."
   ]
  },
  {
   "cell_type": "code",
   "execution_count": null,
   "id": "vital-ranch",
   "metadata": {},
   "outputs": [],
   "source": [
    "# Testez choisir_particules\n",
    "H = 3\n",
    "L = 4\n",
    "# Création du milieu\n",
    "milieu = [[]] * H\n",
    "for i in range(H) :\n",
    "    milieu[i] = [VIDE] * L\n",
    "\n",
    "# Placement des particules présentes \n",
    "...\n",
    "\n",
    "print(choisir_particules(milieu, ...))\n",
    "print(choisir_particules(milieu, ...))\n",
    "print(choisir_particules(milieu, ...))\n",
    "print(choisir_particules(milieu, ...))"
   ]
  },
  {
   "cell_type": "markdown",
   "id": "binding-attack",
   "metadata": {},
   "source": [
    "### 2-2- Déterminer la destination des particules\n",
    "\n",
    "Si une particule a été sélectionnée pour se déplacer, il faut choisir quelle sera sa destination. Pour rappel une particule doit aller aléatoirement dans une de ses destinations possibles (Est, Nord, Sud et Ouest à condition de ne pas sortir du milieu et de ne pas aller sur une autre particule).\n",
    "\n",
    "Si aucune destination possible n'existe, une copie de particule est renvoyée.\n",
    "\n",
    "Remplissez la fonction trouve_destination."
   ]
  },
  {
   "cell_type": "code",
   "execution_count": null,
   "id": "distinguished-interim",
   "metadata": {},
   "outputs": [],
   "source": [
    "def trouve_destination(particule, milieu) :\n",
    "    \"\"\"\n",
    "    Prérequis :\n",
    "    particule est un tableau d'entiers positif à deux éléments et doit\n",
    "    se situer dans le milieu.\n",
    "    milieu est une matrice contenant exclusivent les valeurs VIDE et PLEINE.\n",
    "    particule est un tableau à deux éléments contenant les coordonnées d'une case \n",
    "    de milieu contenant PLEINE.\n",
    "    H et L sont des entiers strictement positifs définissant la taille du milieu\n",
    "    \n",
    "    Renvoie un tableau à deux éléments représentant la destination de particule.\n",
    "    Cette destination est aléatoirement choisie parmis les destinations possibles \n",
    "    qui sont les cases du dessus, du dessous et des côtés de celles de particule\n",
    "    si elles existent et ne sont pas occupées. \n",
    "    Si aucune destination possible n'existe, une copie de particule est renvoyée.\n",
    "    \"\"\"\n",
    "    # Test d'une des préconditions\n",
    "    [l, c] = particule\n",
    "    assert(milieu[l][c] == PLEINE)\n",
    "    \n",
    "    ##############################################################################\n",
    "    #                                 CONSEILS                                   #\n",
    "    # Sélectionnez d'abord les destinations possibles et créez un tableau les    #\n",
    "    # contenant. Veillez à bien vérifier que ces destinations ne soient pas      #\n",
    "    # occupées et à ce qu'elles fassent bien partie du milieu. Vous n'avez       #\n",
    "    # besoin pour cela que des coordonnées de particule.                         #\n",
    "    # Vous pourez ensuite aléatoirement choisir un élément parmis les            #\n",
    "    # destinations possibles. Veillez à bien gérer le cas où il n'y en a pas.    #\n",
    "    ##############################################################################\n",
    "    \n",
    "    \n",
    "    # Détermination des destinations possibles - À remplir\n",
    "    \n",
    "    # Choix et renvoi de la destination - À remplir"
   ]
  },
  {
   "cell_type": "markdown",
   "id": "stylish-malawi",
   "metadata": {},
   "source": [
    "Testez votre fonction à l'aide des cas suivants. Pour vous assurer que le résultat est correct, faites un dessin du milieu.\n",
    "TESTEZ TOUS LES CAS LIMITES PRÉSENTÉS DANS LES PRÉCONDITIONS.\n",
    "\n",
    "Une erreur à ce stade du code peut s'avérer très problématique pour la suite et difficile à détecter. Il est donc important d'effectuer correctement ce type de tests."
   ]
  },
  {
   "cell_type": "code",
   "execution_count": 1,
   "id": "caring-preservation",
   "metadata": {},
   "outputs": [
    {
     "ename": "NameError",
     "evalue": "name 'PLEINE' is not defined",
     "output_type": "error",
     "traceback": [
      "\u001b[0;31m---------------------------------------------------------------------------\u001b[0m",
      "\u001b[0;31mNameError\u001b[0m                                 Traceback (most recent call last)",
      "\u001b[0;32m<ipython-input-1-fc0d4ba80245>\u001b[0m in \u001b[0;36m<module>\u001b[0;34m\u001b[0m\n\u001b[1;32m      1\u001b[0m \u001b[0mH\u001b[0m \u001b[0;34m=\u001b[0m \u001b[0;36m7\u001b[0m\u001b[0;34m\u001b[0m\u001b[0;34m\u001b[0m\u001b[0m\n\u001b[1;32m      2\u001b[0m \u001b[0mL\u001b[0m \u001b[0;34m=\u001b[0m \u001b[0;36m3\u001b[0m\u001b[0;34m\u001b[0m\u001b[0;34m\u001b[0m\u001b[0m\n\u001b[0;32m----> 3\u001b[0;31m milieu = [[PLEINE, VIDE  , VIDE  ],\n\u001b[0m\u001b[1;32m      4\u001b[0m           \u001b[0;34m[\u001b[0m\u001b[0mVIDE\u001b[0m  \u001b[0;34m,\u001b[0m \u001b[0mPLEINE\u001b[0m\u001b[0;34m,\u001b[0m \u001b[0mVIDE\u001b[0m  \u001b[0;34m]\u001b[0m\u001b[0;34m,\u001b[0m\u001b[0;34m\u001b[0m\u001b[0;34m\u001b[0m\u001b[0m\n\u001b[1;32m      5\u001b[0m           \u001b[0;34m[\u001b[0m\u001b[0mPLEINE\u001b[0m\u001b[0;34m,\u001b[0m \u001b[0mPLEINE\u001b[0m\u001b[0;34m,\u001b[0m \u001b[0mPLEINE\u001b[0m\u001b[0;34m]\u001b[0m\u001b[0;34m,\u001b[0m\u001b[0;34m\u001b[0m\u001b[0;34m\u001b[0m\u001b[0m\n",
      "\u001b[0;31mNameError\u001b[0m: name 'PLEINE' is not defined"
     ]
    }
   ],
   "source": [
    "H = 7 \n",
    "L = 3\n",
    "milieu = [[PLEINE, VIDE  , VIDE  ],\n",
    "          [VIDE  , PLEINE, VIDE  ],\n",
    "          [PLEINE, PLEINE, PLEINE],\n",
    "          [VIDE  , PLEINE, PLEINE],\n",
    "          [VIDE  , VIDE  , VIDE  ],\n",
    "          [VIDE  , PLEINE, VIDE  ],\n",
    "          [VIDE  , VIDE  , VIDE  ]]\n",
    "\n",
    "print(trouve_destination(... , milieu, H, L)) \n",
    "print(trouve_destination(... , milieu, H, L)) \n",
    "print(trouve_destination(... , milieu, H, L)) \n",
    "print(trouve_destination(... , milieu, H, L)) "
   ]
  },
  {
   "cell_type": "markdown",
   "id": "removed-fence",
   "metadata": {},
   "source": [
    "### 2-3- Déplacer une particule\n",
    "\n",
    "Plaçons nous désormais dans le cas où nous devons déplacer une particule et en connaissons la destination. Il faut alors modifier milieu de la manière décrite dans les spécifications de la fonction deplace_particules.\n",
    "    \n",
    "Remplissez la fonction deplace_particule."
   ]
  },
  {
   "cell_type": "code",
   "execution_count": null,
   "id": "supported-calcium",
   "metadata": {},
   "outputs": [],
   "source": [
    "def deplace_particule(particule, destination) :\n",
    "    \"\"\"\n",
    "    Prérequis : \n",
    "    particule et destination sont des particules, c'est à dire des tableaux d'entiers\n",
    "    à deux éléments. destination n'appartient pas à ensemble_particules, définie dans \n",
    "    le code.\n",
    "    \n",
    "    Si particule et destination sont identiques, on ne fait rien.\n",
    "    Sinon :\n",
    "        On met VIDE à l'emplacement particule dans milieu et PLEINE à l'emplacement\n",
    "        destination\n",
    "        Si particule fait partie de la source, on met PLEINE à l'emplacement particule\n",
    "        dans milieu.\n",
    "        \n",
    "    Ne renvoie rien.\n",
    "    \"\"\"       \n",
    "        \n",
    "    # Remplissez la suite\n"
   ]
  },
  {
   "cell_type": "markdown",
   "id": "nearby-lightning",
   "metadata": {},
   "source": [
    "Testez votre fonction dans différents cas de figure."
   ]
  },
  {
   "cell_type": "code",
   "execution_count": null,
   "id": "random-potato",
   "metadata": {},
   "outputs": [],
   "source": [
    "H = 7 \n",
    "L = 3\n",
    "source = [[H - 1, i] for i in range(L)]\n",
    "milieu = [[PLEINE, VIDE  , VIDE  ],\n",
    "          [VIDE  , PLEINE, VIDE  ],\n",
    "          [PLEINE, PLEINE, PLEINE],\n",
    "          [VIDE  , PLEINE, PLEINE],\n",
    "          [VIDE  , VIDE  , VIDE  ],\n",
    "          [VIDE  , PLEINE, VIDE  ],\n",
    "          [VIDE  , VIDE  , VIDE  ]]\n",
    "\n",
    "# Test pour une particule dans la source\n",
    "particule = ...\n",
    "destination = ...\n",
    "deplace_particule(particule, destination)\n",
    "print(milieu)\n",
    "\n",
    "# Test pour une particule hors de la source\n",
    "particule = ...\n",
    "destination = ...\n",
    "deplace_particule(particule, destination)\n",
    "print(milieu)\n",
    "\n",
    "\n",
    "# D'autres idées ?\n",
    "particule = ...\n",
    "destination = ...\n",
    "deplace_particule(particule, destination)\n",
    "print(milieu)"
   ]
  },
  {
   "cell_type": "markdown",
   "id": "german-reset",
   "metadata": {},
   "source": [
    "### 2-4- Assemblage \n",
    "\n",
    "Vous avez défini un certain nombre de fonctions qui vous seront utiles pour coder la simulation entière. Il vous faut désormais tout assembler pour faire la simulation.\n",
    "Pour rappel, l'algorithme est le suivant :"
   ]
  },
  {
   "cell_type": "raw",
   "id": "satellite-january",
   "metadata": {},
   "source": [
    "- Initialisation des paramètres.\n",
    "\n",
    "- Création du milieu et de la source.\n",
    "\n",
    "- À chaque pas de temps,choisir les particules qui vont se déplacer et pour chacune d'elles, déterminer sa nouvelle position. Si l'une de ces particules appartient à la source, une nouvelle particule est créée à cet emplacement afin de maintenir une concentration constante au cours du temps.Stocker le nouvel état.\n",
    "\n",
    "- Afficher le résultat obtenu."
   ]
  },
  {
   "cell_type": "markdown",
   "id": "meaning-playlist",
   "metadata": {},
   "source": [
    "À vous de jouer ! Coder tout l'algorithme SAUF L'AFFICHAGE. \n",
    "\n",
    "SOYEZ TRÈS VIGILANT AUX PROBLÈMES D'ALIASING, NOTAMMENT DES MATRICES."
   ]
  },
  {
   "cell_type": "code",
   "execution_count": null,
   "id": "speaking-logan",
   "metadata": {},
   "outputs": [],
   "source": [
    "# Simulation \n"
   ]
  },
  {
   "cell_type": "markdown",
   "id": "approved-northeast",
   "metadata": {},
   "source": [
    "Regardez si tout est normal sur la dernière image produite."
   ]
  },
  {
   "cell_type": "code",
   "execution_count": null,
   "id": "recovered-catch",
   "metadata": {},
   "outputs": [],
   "source": [
    "print(stockage_milieu[-1])"
   ]
  },
  {
   "cell_type": "markdown",
   "id": "collective-eligibility",
   "metadata": {},
   "source": [
    "## 3- Affichage\n",
    "\n",
    "\n",
    "Nous utiliserons ici une méthode d'affichage légèrement différente de celles utilisées précédemment, celle-ci ne demande pas d'adaptation des données."
   ]
  },
  {
   "cell_type": "markdown",
   "id": "limited-cardiff",
   "metadata": {},
   "source": [
    "Vous pouvez désormais tester votre simulation ! L'affichage peut prendre un peu de temps même si H, L et T sont modestes."
   ]
  },
  {
   "cell_type": "code",
   "execution_count": null,
   "id": "cheap-process",
   "metadata": {},
   "outputs": [],
   "source": [
    "# Création du graphique\n",
    "fig, ax = plt.subplots()\n",
    "# Création de la palette de couleur\n",
    "cmap = colors.LinearSegmentedColormap.from_list(\"\",[\"green\",\"orange\"])\n",
    "\n",
    "# Affichage \n",
    "\n",
    "# initialisation de la commande \n",
    "im = ax.imshow(stockage_milieu[0], cmap=cmap, vmin=0, vmax=1)\n",
    "\n",
    "\n",
    "# fonction appelée pour l'initialisation des données à afficher\n",
    "def init():\n",
    "    im.set_data(stockage_milieu[0])\n",
    "    return [im]\n",
    "\n",
    "# fonction appelée pour l'actualisation des données à afficher\n",
    "def animate(i):\n",
    "    data_slice = stockage_milieu[i]\n",
    "    im.set_data(data_slice)\n",
    "    return [im]\n",
    "\n",
    "# animation \n",
    "anim=animation.FuncAnimation(fig, animate, init_func=init,\n",
    "                             frames=T, interval=30, blit=True,\n",
    "                             repeat=False)\n",
    "plt.close()\n",
    "rc('animation', html='jshtml')\n",
    "anim"
   ]
  }
 ],
 "metadata": {
  "kernelspec": {
   "display_name": "Python 3",
   "language": "python",
   "name": "python3"
  },
  "language_info": {
   "codemirror_mode": {
    "name": "ipython",
    "version": 3
   },
   "file_extension": ".py",
   "mimetype": "text/x-python",
   "name": "python",
   "nbconvert_exporter": "python",
   "pygments_lexer": "ipython3",
   "version": "3.8.5"
  }
 },
 "nbformat": 4,
 "nbformat_minor": 5
}
