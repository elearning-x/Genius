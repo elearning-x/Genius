{
 "cells": [
  {
   "cell_type": "markdown",
   "metadata": {},
   "source": [
    "# <span style = \"color :  #ca6f1e \">Activité Python : Dynamique des populations - Les lapins de Fibonacci, Partie II </span>\n",
    "# <span style = \"color:red\">CORRECTION</span>"
   ]
  },
  {
   "cell_type": "markdown",
   "metadata": {},
   "source": [
    "# Deux propriétés remarquables du nombre d'or\n"
   ]
  },
  {
   "cell_type": "markdown",
   "metadata": {},
   "source": [
    "On note $\\phi$ le nombre d'or\n",
    "\n",
    "1) Calcule $\\sqrt{1+\\phi}$ et $\\phi$ à l'aide de Python (n'oublie pas \"d'importer\" ce qu'il faut au préalable).\\\n",
    "Que remarques-tu ? Qu'est-ce que tu peux en conclure ? \n",
    "\n",
    "2) Même question en calculant $1 + \\frac{1}{\\phi}$ et $\\phi$. \n",
    "\n",
    "3) Peux-tu démontrer ces formules ?"
   ]
  },
  {
   "cell_type": "markdown",
   "metadata": {},
   "source": [
    "### Question 1"
   ]
  },
  {
   "cell_type": "code",
   "execution_count": 8,
   "metadata": {},
   "outputs": [
    {
     "name": "stdout",
     "output_type": "stream",
     "text": [
      "1.618033988749895\n",
      "1.618033988749895\n"
     ]
    }
   ],
   "source": [
    "# Comme des racines carrées sont utilisées dans nos formules, il nous faut au préalable charger le module 'math'\n",
    "from math import * \n",
    "\n",
    "print(sqrt(1+(1+sqrt(5))/2))\n",
    "print((1+sqrt(5))/2)\n",
    "\n"
   ]
  },
  {
   "cell_type": "markdown",
   "metadata": {},
   "source": [
    "Tu as sûrement remarqué que $\\phi = \\sqrt{1+\\phi}$. Ainsi, en répétant l'opération deux fois, on obtient : $$\\phi = \\sqrt{1+\\sqrt{1+\\phi}}$$ \n",
    "\n",
    "Puis, en répétant l'opération de nombreuses fois, on peut obtenir la relation suivante où les points de suspension indiquent que nous pouvons continuer ainsi de manière \"infinie\", en remplaçant $\\phi$ par $\\sqrt{1+\\phi}$ : $$\\phi = \\sqrt{1+\\sqrt{1+\\sqrt{1+\\sqrt{1+\\sqrt{1+...}}}}}$$ "
   ]
  },
  {
   "cell_type": "markdown",
   "metadata": {},
   "source": [
    "### Question 2"
   ]
  },
  {
   "cell_type": "code",
   "execution_count": 13,
   "metadata": {},
   "outputs": [
    {
     "name": "stdout",
     "output_type": "stream",
     "text": [
      "1.618033988749895\n",
      "1.618033988749895\n"
     ]
    }
   ],
   "source": [
    "print(1+1/((1+sqrt(5))/2))\n",
    "print((1+sqrt(5))/2)"
   ]
  },
  {
   "cell_type": "markdown",
   "metadata": {},
   "source": [
    "De même que dans la question précédente, tu as sûrement remarqué que $\\phi = 1 + \\frac{1}{\\phi}$. Ainsi, en répétant l'opération deux fois, on obtient : $$\\phi = 1 + \\frac{1}{1+\\frac{1}{\\phi}}$$ \n",
    "\n",
    "Puis, en répétant l'opération de nombreuses fois, on peut obtenir une relation sympathique : $$\\phi = 1 + \\frac{1}{1+\\frac{1}{1 + \\frac{1}{1+\\frac{1}{1 + \\frac{1}{...}}}}}$$"
   ]
  },
  {
   "cell_type": "markdown",
   "metadata": {},
   "source": [
    "### Question 3 - Démonstration"
   ]
  },
  {
   "cell_type": "markdown",
   "metadata": {},
   "source": [
    "En fait de manière assez simple, ces relations proviennent du fait que $\\phi$ est solution de l'équation $r^2 = r + 1$ comme vu dans l'exercice 2. \\\n",
    "Ainsi, on a $\\phi^2 = \\phi + 1$, donnant alors :\n",
    "- en prenant la racine carré : $\\phi = \\sqrt{1 + \\phi}$ (car $\\phi$ est positif) \n",
    "- en divisant par $\\phi$ qui est un nombre non nul : $\\phi = 1 + \\frac{1}{\\phi}$"
   ]
  }
 ],
 "metadata": {
  "kernelspec": {
   "display_name": "Python 3",
   "language": "python",
   "name": "python3"
  },
  "language_info": {
   "codemirror_mode": {
    "name": "ipython",
    "version": 3
   },
   "file_extension": ".py",
   "mimetype": "text/x-python",
   "name": "python",
   "nbconvert_exporter": "python",
   "pygments_lexer": "ipython3",
   "version": "3.7.4"
  }
 },
 "nbformat": 4,
 "nbformat_minor": 2
}
