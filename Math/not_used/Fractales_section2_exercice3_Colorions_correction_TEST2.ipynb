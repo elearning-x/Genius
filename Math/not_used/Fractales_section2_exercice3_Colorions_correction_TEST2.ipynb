{
 "cells": [
  {
   "cell_type": "markdown",
   "id": "naval-acrobat",
   "metadata": {},
   "source": [
    "# Exercice 3 : Colorions !\n",
    "\n",
    "L’objectif de cet exercice est de vous faire manipuler le coloriage de données, vous devrez notamment observer les images que vous aurez produites.\n",
    "\n",
    "## Attention ! La première cellule de ce notebook doit être exécutée en premier, cependant merci de ne pas la lire, vous serez amené à en deviner le contenu !\n",
    "\n"
   ]
  },
  {
   "cell_type": "code",
   "execution_count": 4,
   "id": "4b046d9e",
   "metadata": {},
   "outputs": [],
   "source": [
    "# Exécuter sans regarder attentivement\n",
    "\n",
    "nb_bits_couleurs = 8 # nombre de bits sur lequel chaque composante RGB est codée\n",
    "nb_niveaux_gris = 2**nb_bits_couleurs # Il en découle le nombre de niveaux accessible pour chaque couleur\n",
    "NOIR = 0 # Niveau qui représente une luminosité nulle\n",
    "BLANC = nb_niveaux_gris - 1 # Niveau qui représente la luminosité maximale \n",
    "\n",
    "def generateur_universel(Lniveaux, Lgris):\n",
    "    \"\"\"\n",
    "    -----------------------------Préconditions--------------------------------\n",
    "  \n",
    "    Lniveau et Lgris sont tous deux des tableaux d'entiers de même longueur \n",
    "    n > 0.\n",
    "    Lgris ne peut contenir que des entiers de [NOIR, BLANC].                       \n",
    "    Lniveaux est strictement croissant de premier terme NOIR et de dernier terme\n",
    "    BLANC. Par conséquent n <= nb_niveaux_gris.\n",
    "\n",
    "    Si ces conditions ne sont pas respectées, le comportement de la fonction \n",
    "    n'est pas spécifié et une exception peut être levée.\n",
    "    \n",
    "    --------------------------------Retour------------------------------------\n",
    "    \n",
    "    Retour :\n",
    " \n",
    "    generateur_universel(Lniveaux, Lgris) est un tableau d'entiers de \n",
    "    [NOIR;BLANC[ de longueur nb_niveaux_gris\n",
    "\n",
    "    pour tout i de [0; n[ :\n",
    "    generateur_universel(Lniveaux, Lgris)[Lniveau[i]] = Lgris[i]\n",
    "\n",
    "    pour tout i de [0, n-1[ :\n",
    "    les valeurs de position k dans ]Lniveaux[i], Lniveaux[i + 1][ sont lses \n",
    "    parties entières des interpolations linéaires entre Lgris[i] et Lgris[i + 1] \n",
    "    \n",
    "    -------------------------------Exemples------------------------------------\n",
    "    \n",
    "    On considère ici que nb_bits_couleurs = 8\n",
    "\n",
    "    Si Lniveaux = [0, 5, 255] et Lgris = [0, 10, 10]\n",
    "    generateur_universel(Lniveaux, Lgris) = [0, 2, 4, 6, 8, 10, 10, 10 .... 10]\n",
    "    On a ici interpolé pour les éléments compris entre 0 et 5 les valeurs \n",
    "    (tronquées à l'unité) de  la fonction affine qui vaut 0 en 0 et 10 en 5.\n",
    "    Même chose pour les éléments d'indices entre 10 et 255 avec la fonction \n",
    "    constante de valeur 10.\n",
    "    \n",
    "    Si Lniveaux = [0, 255] et Lgris = [255, 254]\n",
    "    generateur_universel(Lniveaux, Lgris) = [255, 254, 254 .... 254]\n",
    "    Ici l'interpolation est celle de la fonction affine qui vaut 255 en 0 et \n",
    "    254 en 255. Comme nous tronquons à l'unité, les 255 dernières valeurs valent\n",
    "    254.\n",
    "\n",
    "    Si Lniveaux = [0, 4, 5, 255] et Lgris = [30, 50, 200, 1]\n",
    "    generateur_universel(Lniveaux, Lgris) \n",
    "                           = [30, 35, 40, 45, 50, 200, 199, 198, ... 3, 2, 1, 0]\n",
    "    Ici on a créé une discontinuité entre les indices 4 et 5.\n",
    "    \n",
    "    ----------------------------------------------------------------------------\n",
    "    \"\"\"\n",
    "    \n",
    "    n = len(Lniveaux)\n",
    "    \n",
    "    # On vérifie que Lniveaux et Lgris correspondent bien aux spécifications.\n",
    "    # Si ce n'est pas le cas, on lève une exception.\n",
    "    assert(n > 0)\n",
    "    assert(n <= nb_niveaux_gris)\n",
    "    assert(n == len(Lgris)) \n",
    "    assert(Lniveaux[0] == NOIR)\n",
    "    assert(Lniveaux[n - 1] == BLANC)\n",
    "    assert(Lgris[0] >= NOIR)\n",
    "    assert(Lgris[0] <= BLANC)\n",
    "\n",
    "    # On crée le tableau que l'on retournera à la fin.\n",
    "    palette = [0] * nb_niveaux_gris\n",
    "    \n",
    "    for i in range(n - 1) :\n",
    "        \n",
    "        a = int(Lniveaux[i]) # borne inf niveau\n",
    "        b = int(Lniveaux[i + 1]) # borne sup niveau\n",
    "        Ya = int(Lgris[i]) # borne inf luminosité\n",
    "        Yb = int(Lgris[i + 1]) # borne sup luminosité\n",
    "        \n",
    "        \n",
    "        # On vérifie que Liveaux et Lgris correspondent bien aux spécifications.\n",
    "        # Si ce n'est pas le cas, on lève une exception.\n",
    "        \n",
    "        assert(a < b) # Lniveaux strictement croissant\n",
    "        assert(Yb >= NOIR) # les élements de Lgris sont positifs\n",
    "        assert(Yb <= BLANC) # les élements de Lgris sont < nb_bits_couleurs\n",
    "        \n",
    "\n",
    "        # pente de la droite reliant les points de coordonnées(a, Ya) et (b, Yb)\n",
    "        m = (Yb- Ya) / (b - a)\n",
    "\n",
    "        # On affecte toutes les valeurs de a à la borne supérieure\n",
    "        for x in range(a, b) :\n",
    "            palette[x] = int(m * (x - a) + Ya)\n",
    "\n",
    "    # On affecte la valeur du dernier élément de palette\n",
    "    palette[nb_niveaux_gris - 1] = int(Lgris[n - 1])\n",
    "    \n",
    "    return(palette)\n",
    "\n",
    "\n",
    "# Préparation de la palette id_niveaux_gris\n",
    "Lniveaux = [0, nb_niveaux_gris - 1]\n",
    "Lgris = [NOIR, BLANC]\n",
    "id_niveaux_gris = [generateur_universel(Lniveaux, Lgris)] * 3\n",
    "# On ne se préoccupe ici pas des problèmes d'alisasing puisque\n",
    "# ce tableau n'est pas destiné à être modifié\n",
    "\n",
    "# Préparation de la palette mont_simple\n",
    "Lniveaux = [0, nb_niveaux_gris // 2 - 1, nb_niveaux_gris // 2, nb_niveaux_gris - 1]\n",
    "Lgris = [NOIR, BLANC, BLANC, NOIR]\n",
    "mont_simple = [generateur_universel(Lniveaux, Lgris)] * 3\n",
    "\n",
    "# Préparation de la palette quatre_monts\n",
    "Lniveaux = [0, nb_niveaux_gris * 1 // 8 - 1, nb_niveaux_gris * 1 // 8, nb_niveaux_gris * 2 // 8 - 1, nb_niveaux_gris * 2 // 8, nb_niveaux_gris * 3 // 8 - 1, nb_niveaux_gris * 3 // 8, nb_niveaux_gris * 4 // 8 - 1, nb_niveaux_gris * 4 // 8, nb_niveaux_gris * 5 // 8 - 1, nb_niveaux_gris * 5 // 8, nb_niveaux_gris * 6 // 8 - 1, nb_niveaux_gris * 6 // 8, nb_niveaux_gris * 7 // 8 - 1, nb_niveaux_gris * 7 // 8, nb_niveaux_gris - 1]\n",
    "Lgris = [NOIR, BLANC,BLANC, NOIR, NOIR,BLANC,BLANC, NOIR, NOIR,BLANC,BLANC, NOIR, NOIR, BLANC, BLANC, NOIR]\n",
    "quatre_monts =  [generateur_universel(Lniveaux, Lgris)] * 3\n",
    "\n",
    "# Préparation de la palette deux_monts_assym\n",
    "Lniveaux = [0, nb_niveaux_gris * 2 // 8 - 1, nb_niveaux_gris * 2 //8, nb_niveaux_gris * 5 // 8 - 1, nb_niveaux_gris * 5 // 8, nb_niveaux_gris * 6 // 8 -1, nb_niveaux_gris * 6 // 8, nb_niveaux_gris - 1 ]\n",
    "Lgris = [NOIR, BLANC, BLANC, NOIR, NOIR, BLANC, BLANC, NOIR]\n",
    "deux_monts_assym =  [generateur_universel(Lniveaux, Lgris)] * 3\n",
    "\n",
    "# Préparation de la palette couleurs_seuils\n",
    "\n",
    "# On note que comme cette palette présente des couleurs, il nous faut travailler sur les \n",
    "# trois composantes RGB car cette fois, celles-ci seront différentes les unes des autres.\n",
    "\n",
    "Lniveaux = [0, nb_niveaux_gris * 1 // 5 - 1,\n",
    "            nb_niveaux_gris * 1 // 5, nb_niveaux_gris * 2 // 5 - 1,\n",
    "            nb_niveaux_gris * 2 // 5, nb_niveaux_gris * 3 // 5 - 1,\n",
    "            nb_niveaux_gris * 3 // 5, nb_niveaux_gris * 4 // 5 - 1,\n",
    "            nb_niveaux_gris * 4 // 5, nb_niveaux_gris - 1]\n",
    "\n",
    "LgrisR = [BLANC, BLANC, NOIR,  NOIR,  NOIR,  NOIR,  NOIR, NOIR, BLANC, BLANC]\n",
    "LgrisG = [NOIR,  NOIR,  BLANC, BLANC, NOIR,  NOIR,  NOIR, NOIR, BLANC, BLANC]\n",
    "LgrisB = [NOIR,  NOIR,  NOIR,  NOIR,  BLANC, BLANC, NOIR, NOIR, BLANC, BLANC]\n",
    "\n",
    "couleurs_seuils = [generateur_universel(Lniveaux, LgrisR),generateur_universel(Lniveaux, LgrisG),generateur_universel(Lniveaux, LgrisB)]"
   ]
  },
  {
   "cell_type": "markdown",
   "id": "resistant-camera",
   "metadata": {},
   "source": [
    "Vous pouvez lire toutes les cellules à partir de maintenant.\n",
    "\n",
    "Commençons par importer les librairies nécessaires."
   ]
  },
  {
   "cell_type": "code",
   "execution_count": 5,
   "id": "intelligent-screw",
   "metadata": {},
   "outputs": [],
   "source": [
    "import matplotlib.image as matimg\n",
    "import matplotlib.pyplot as plt"
   ]
  },
  {
   "cell_type": "markdown",
   "id": "surprised-weapon",
   "metadata": {},
   "source": [
    "Créons maintenant un jeu de données à représenter."
   ]
  },
  {
   "cell_type": "code",
   "execution_count": 6,
   "id": "disabled-entertainment",
   "metadata": {},
   "outputs": [],
   "source": [
    "# On prend une image de 256 x 256 pixels..\n",
    "dimension = 256\n",
    "\n",
    "#--------------------- Création du jeu de données-------------------#\n",
    "\n",
    "donnees = []\n",
    "for i in range(dimension) :\n",
    "    # Remplissage des lignes\n",
    "    donnees.append([0]*dimension)\n",
    "    for j in range(dimension//2) :\n",
    "        donnees[i][j] = nb_niveaux_gris - 1 - i\n",
    "        donnees[i][dimension - 1 - j] = i"
   ]
  },
  {
   "cell_type": "markdown",
   "id": "threatened-graduation",
   "metadata": {},
   "source": [
    "Les données sont maintenant remplies, on peut désormais travailler sur la matrice donnees.\n",
    "\n",
    "La fonction cree_image définie ci-dessous, permet de créer une image à partir d'un jeu de données et d'autres paramètres.\n",
    "Lisez cette fonction et notamment ses commentaire afin de comprendre commment l'utiliser.\n"
   ]
  },
  {
   "cell_type": "code",
   "execution_count": 7,
   "id": "intimate-therapist",
   "metadata": {},
   "outputs": [],
   "source": [
    "#########################################################################\n",
    "#                                                                       #\n",
    "# La fonction de création d'image permet de créer des images en fonction#\n",
    "# des données passées en arguments (voir ses spécifications).           #\n",
    "#                                                                       #\n",
    "#   CETTE FONCTION NE DOIT PAS ÊTRE MODIFIÉE, LES DONNÉES ET CHOIX DE   #\n",
    "#                 REPRÉSENTATION N'EN DÉPENDENT PAS.                    #\n",
    "#                                                                       #\n",
    "# Les palettes de couleurs fournies sont créées dans la première cellule#\n",
    "# de ce notebook.                                                       #\n",
    "#                                                                       #\n",
    "#########################################################################\n",
    "\n",
    "def cree_image(donnees, palette, nom) :\n",
    "    \"\"\"\n",
    "    Crée une image à partir des données de donnees avec les \n",
    "    couleurs imposées par la palette de couleur palette qui est une \n",
    "    matrice de taille 3 x nb_niveaux_gris, c'est à dire un tableau à 3\n",
    "    éléments dont chaque élément est un tableau à nb_niveaux_gris \n",
    "    éléménts. L'image est enregistrée sous le nom \"nom\". ATTENTION nom est \n",
    "    une chaine de caractère et doit contenir l'extension du fichier crée \n",
    "    par exemple .png. 'mon_image.png' conviendrait. L'image sera \n",
    "    enregistrée dans le répertoire contenant le script.\n",
    "    \"\"\"\n",
    "    \n",
    "    # Création de la matrice contenant les couleurs (tableau d'entiers\n",
    "    # à trois éléments. On commence par créer une matrice vide à\n",
    "    # laquelle on ajoutera des lignes au fur et à mesure et l'on\n",
    "    # remplira ces lignes de la même manière.\n",
    "    image = []\n",
    "\n",
    "    for i in range(dimension) :\n",
    "        image.append([]) # création de la ligne i\n",
    "        for j in range(dimension) :\n",
    "            # ajout du coefficient j de la ligne i\n",
    "            d = donnees[i][j]\n",
    "            triplet_couleurs = (palette[0][d],\n",
    "                                palette[1][d],\n",
    "                                palette[2][d])\n",
    "            # On vérifie que les niveaux des couleurs sont bien dans\n",
    "            # la bonne plage.\n",
    "            assert(triplet_couleurs[0] <= BLANC)\n",
    "            assert(triplet_couleurs[0] >= NOIR)\n",
    "            assert(triplet_couleurs[1] <= BLANC)\n",
    "            assert(triplet_couleurs[1] >= NOIR)\n",
    "            assert(triplet_couleurs[2] <= BLANC)\n",
    "            assert(triplet_couleurs[2] >= NOIR)\n",
    "            # On ajoute le triplet au tableau représentant l'image\n",
    "            image[i].append(triplet_couleurs)\n",
    "            \n",
    "    # Création de l'image. Celle-ci est enregistrée dans le répertoire\n",
    "    # contenant le script.\n",
    "    plt.imshow(image)\n"
   ]
  },
  {
   "cell_type": "markdown",
   "id": "incoming-breed",
   "metadata": {},
   "source": [
    "## Question 1\n",
    "Pour chacunes des palettes de couleurs suivantes, générez l'image et tirez des conclusions sur la structure des données.\n",
    "\n",
    "a- mont_simple\n",
    "\n",
    "b- quatre_monts\n",
    "\n",
    "c- deux_monts_assym\n",
    "\n",
    "d- couleurs_seuils"
   ]
  },
  {
   "cell_type": "code",
   "execution_count": 8,
   "id": "killing-cement",
   "metadata": {},
   "outputs": [
    {
     "data": {
      "image/png": "[encoded data removed]",
      "text/plain": [
       "<Figure size 432x288 with 1 Axes>"
      ]
     },
     "metadata": {
      "needs_background": "light"
     },
     "output_type": "display_data"
    }
   ],
   "source": [
    "# affichage de mont_simple\n",
    "cree_image(donnees, mont_simple, \"mont_simple.png\")"
   ]
  },
  {
   "cell_type": "markdown",
   "id": "technological-headset",
   "metadata": {},
   "source": [
    "A priori, sur une même ligne, les données semblent être les mêmes. Elles semblent également être symétrique selon un axe horizontal passant par le milieu de la figure."
   ]
  },
  {
   "cell_type": "code",
   "execution_count": 9,
   "id": "substantial-disco",
   "metadata": {},
   "outputs": [
    {
     "data": {
      "image/png": "[encoded data removed]",
      "text/plain": [
       "<Figure size 432x288 with 1 Axes>"
      ]
     },
     "metadata": {
      "needs_background": "light"
     },
     "output_type": "display_data"
    }
   ],
   "source": [
    "# affichage de quatre monts\n",
    "cree_image(donnees, quatre_monts, \"quatre_monts.png\")"
   ]
  },
  {
   "cell_type": "markdown",
   "id": "present-brooks",
   "metadata": {},
   "source": [
    "Ce coloriage confirme notre première observation : les données semblent bien être les mêmes sur une même ligne. On retrouve également une certaine symétrie entre le bas et le haut, mais les données varient peut-être plus que ce que l’on aurait pu penser a priori. De plus elles semblent périodiques verticalement, mais cela est contredit par l’image obtenue à la question 1-a."
   ]
  },
  {
   "cell_type": "code",
   "execution_count": 10,
   "id": "loved-control",
   "metadata": {},
   "outputs": [
    {
     "data": {
      "image/png": "[encoded data removed]",
      "text/plain": [
       "<Figure size 432x288 with 1 Axes>"
      ]
     },
     "metadata": {
      "needs_background": "light"
     },
     "output_type": "display_data"
    }
   ],
   "source": [
    "# affichage de deux_monts_assym\n",
    "cree_image(donnees, deux_monts_assym, \"deux_monts_assym.png\")"
   ]
  },
  {
   "cell_type": "markdown",
   "id": "narrow-atmosphere",
   "metadata": {},
   "source": [
    "Il apparaît cette fois-ci que toutes les données d’une même ligne ne sont pas identiques… du moins à mi-hauteur, il est difficile de voir si cela est conservé en haut et en bas. Il semble que le haut et le bas soient à peu près le symétrique l’un de l'autre."
   ]
  },
  {
   "cell_type": "code",
   "execution_count": 11,
   "id": "naval-brazilian",
   "metadata": {},
   "outputs": [
    {
     "data": {
      "image/png": "[encoded data removed]",
      "text/plain": [
       "<Figure size 432x288 with 1 Axes>"
      ]
     },
     "metadata": {
      "needs_background": "light"
     },
     "output_type": "display_data"
    }
   ],
   "source": [
    "# affichage de couleurs_seuils\n",
    "cree_image(donnees, couleurs_seuils, \"couleurs_seuils.png\")"
   ]
  },
  {
   "cell_type": "markdown",
   "id": "palestinian-genesis",
   "metadata": {},
   "source": [
    "Chouette de la couleur ! \n",
    "\n",
    "Par contre cela ne va plus du tout, il semblerait que cette fois seules les lignes du milieu ne contiendraient qu’une seule valeur... et le haut et le bas ne sont en fait pas symétriques... et les données ne semblent plus continues… On observe par contre une symétrie centrale qui ne contredit aucune observation faite précédemment.\n",
    "\n",
    "\n",
    "Mais pourquoi n’arrive-t-on pas à interpréter ces images ? \n",
    "\n",
    "\n",
    "Parce que l’on n’a pas de légende qui nous permettrait de comprendre ce que représente chaque couleur.\n"
   ]
  },
  {
   "cell_type": "markdown",
   "id": "smooth-sunglasses",
   "metadata": {},
   "source": [
    "## Question 2\n",
    "\n",
    "Générez l'image correspondant à la fonction de coloriage id_niveaux_de_gris. Celle-ci représente les données en niveau de gris : l’intensité lumineuse du pixel est égale à la donnée associée au pixel. L’échelle est donc linéaire 0 étant en noir et 255 en blanc.\n",
    "\n",
    "Que pouvez-vous dire des représentations de la question précédente ?\n"
   ]
  },
  {
   "cell_type": "code",
   "execution_count": 27,
   "id": "formed-batch",
   "metadata": {},
   "outputs": [
    {
     "data": {
      "image/png": "[encoded data removed]",
      "text/plain": [
       "<Figure size 432x288 with 1 Axes>"
      ]
     },
     "metadata": {
      "needs_background": "light"
     },
     "output_type": "display_data"
    }
   ],
   "source": [
    "# affichage de id_niveaux_de_gris\n",
    "cree_image(donnees, id_niveaux_gris, \"id_niveaux_gris.png\")"
   ]
  },
  {
   "cell_type": "markdown",
   "id": "improving-princess",
   "metadata": {},
   "source": [
    "Cette fois nous avons une légende ! Nous pouvons donc lire les données visualisées. On retrouve que celles-ci sont identiques sur une même moitié de ligne (ce dont on est sûr, sauf détail passant inaperçu, car aucun niveau de gris n’est  utilisé pour deux valeurs différentes). On retrouve la symétrie centrale conjecturée à la question précédente."
   ]
  },
  {
   "cell_type": "markdown",
   "id": "aboriginal-notice",
   "metadata": {},
   "source": [
    "## Question 3\n",
    "Conjecturer maintenant l’allure des fonctions de coloriage de la question 1, c'est-à-dire quelle couleur est associée à quelle donnée."
   ]
  },
  {
   "cell_type": "markdown",
   "id": "boolean-darkness",
   "metadata": {},
   "source": [
    "Pour les fonctions de coloriage des questions 1-a et 1-b on peut déjà conjecturer que pour une donnée de valeur n entre 0 et 255, il est associé la même couleur aux données de valeur 255 - n.\n",
    "\n",
    "Pour les fonctions de coloriage des questions 1-a, 1-b et 1-c on peut déduire que le niveau de gris augmente puis diminue en fonction de la donnée. Dans les deux premiers cas cela donne l’illusion que les lignes ne contiennent qu’une seule et même valeur.\n",
    "\n",
    "Pour la fonction de coloriage de la question 1-d, on voit que chaque couleur représente une plage de données.\n",
    "\n",
    "#### Si vous voulez en savoir plus, vous pouvez tracer le niveau de couleur (RGB) de chaque palette de couleur en fonction de la donnée d’entrée.\n"
   ]
  },
  {
   "cell_type": "markdown",
   "id": "scheduled-recording",
   "metadata": {},
   "source": [
    "## Question 4\n",
    "\n",
    "À vous de jouer ! Vous pouvez maintenant créer vos propres fonctions de coloriage afin de voir quelles fonctions peuvent être trompeuses. Pour cela, vous pouvez utiliser la fonction generateur_universel définie dans la première cellule. Les commentaires qui lui sont attribués devraient vous permettre de la comprendre\n",
    "\n",
    "Vous pouvez également créer un autre jeu de données. \n",
    "\n",
    "## Attention à bien respecter le cadre du code qui est indiqué en commentaires.\n"
   ]
  },
  {
   "cell_type": "code",
   "execution_count": 18,
   "id": "sudden-resistance",
   "metadata": {},
   "outputs": [],
   "source": [
    "# A vous de jouer !\n"
   ]
  }
 ],
 "metadata": {
  "kernelspec": {
   "display_name": "Python 3",
   "language": "python",
   "name": "python3"
  },
  "language_info": {
   "codemirror_mode": {
    "name": "ipython",
    "version": 3
   },
   "file_extension": ".py",
   "mimetype": "text/x-python",
   "name": "python",
   "nbconvert_exporter": "python",
   "pygments_lexer": "ipython3",
   "version": "3.8.5"
  }
 },
 "nbformat": 4,
 "nbformat_minor": 5
}
