{
 "cells": [
  {
   "cell_type": "markdown",
   "metadata": {},
   "source": [
    "# Trajectoires des planètes :\n",
    "\n",
    "Dans ce Notebook Jupyter, nous allons étudier les trajectoire du Soleil, de la Terre et de Mars dans les référentiels héliocentrique et géocentrique.\n",
    "\n",
    "On commence par importer les modules pythons nécessaires pour réaliser cette activité :"
   ]
  },
  {
   "cell_type": "code",
   "execution_count": 2,
   "metadata": {},
   "outputs": [],
   "source": [
    "import matplotlib.pyplot as plt\n",
    "from matplotlib.animation import FuncAnimation\n",
    "import math"
   ]
  },
  {
   "cell_type": "markdown",
   "metadata": {},
   "source": [
    "## Constantes des mouvements :\n",
    "\n",
    "La Terre et Mars décrivent une orbite elliptique autour du Soleil. Il s'agit d'un cercle un peu écrasé, conformément à la figure représentée plus tôt. \n",
    "\n",
    "Ces trajectoires sont paramétrées par trois constantes : le demi-grand axe $a$, l'excentricité $e$ (qui caractérise l'écrasement du cercle) et la période de révolution $T$.\n",
    "\n",
    "Voici la valeur de ces constantes pour la Terre (comme c'est la 3ème planète du système solaire, on les notes $a_3$, $e_3$ et $T_3$) :\n",
    "\n",
    "- $a_3 = 1,49598\\times 10^{11}\\ \\mathrm m $\n",
    "- $e_3 = 0,0167$\n",
    "- $T_3 = 365,25 \\ \\mathrm{jours}$\n",
    "\n",
    "\n",
    "Voici la valeur de ces constantes pour Mars (comme c'est la 4ème planète du système solaire, on les notes $a_4$, $e_4$ et $T_4$) :\n",
    "\n",
    "- $a_4 = 2,27937\\times 10^{11} \\ \\mathrm m $\n",
    "- $e_4 = 0,09341$\n",
    "- $T_4 = 686,96 \\ \\mathrm{jours}$\n",
    "\n",
    "Comme annoncé dans la vidéo, on voit que l'excentricité de Mars est plus grande que celle de la Terre.\n",
    "\n",
    "Remplis maintenant les constantes des mouvements des planètes dans la cellule ci-dessus :"
   ]
  },
  {
   "cell_type": "code",
   "execution_count": 3,
   "metadata": {},
   "outputs": [],
   "source": [
    "#pour la Terre\n",
    "a_3 = 1.49598e11 # demi grand axe en mètre\n",
    "e_3 = ... #excentricité sans unité\n",
    "T_3 = 365.256 #période de révolution en jours terrestres\n",
    "\n",
    "#pour Mars\n",
    "a_4 = ... # demi grand axe en mètre\n",
    "e_4 = 0.09341 #excentricité sans unité\n",
    "T_4 = ... #période de révolution en jours terrestres"
   ]
  },
  {
   "cell_type": "markdown",
   "metadata": {},
   "source": [
    "## Obtention des trajectoires dans le référentiel héliocentrique\n",
    "\n",
    "On utilise des listes pythons pour stocker l'évolution des trajectoires. \n",
    "\n",
    "Le nombre d'éléments de ces listes va dépendre de la durée et de la précision du relevé de positions.\n",
    "\n",
    "*On choisit de relever la position une fois par jour pendant 15 ans :*"
   ]
  },
  {
   "cell_type": "code",
   "execution_count": 4,
   "metadata": {},
   "outputs": [],
   "source": [
    "Delta_t = 1 #la position des planètes est enregistrée tous les jours\n",
    "\n",
    "Suivi = 15 #le suivi sera effectué pendant cette durée exprimée en année"
   ]
  },
  {
   "cell_type": "markdown",
   "metadata": {},
   "source": [
    "L'équation des positions pour la Terre et pour Mars est conforme à ce qui est énoncé dans le schéma suivant :\n",
    "\n",
    "![title](schema_ellipse.png)\n",
    "\n",
    "On définit les listes dans lesquels on va stocker les positions de la Terre et de Mars dans le référentiel héliocentrique :"
   ]
  },
  {
   "cell_type": "code",
   "execution_count": 5,
   "metadata": {},
   "outputs": [],
   "source": [
    "X_T_helio = [] #Position de la Terre selon l'axe x\n",
    "Y_T_helio = []\n",
    "X_M_helio = [] #Position de Mars selon l'axe x\n",
    "Y_M_helio = []"
   ]
  },
  {
   "cell_type": "markdown",
   "metadata": {},
   "source": [
    "On remplit itérativement ces listes. Pour cela, on définit un indice $i$ qui va évoluer de 0 à $i_{max}$ :"
   ]
  },
  {
   "cell_type": "code",
   "execution_count": 6,
   "metadata": {},
   "outputs": [],
   "source": [
    "i = 0\n",
    "i_max = math.floor(Suivi*T_3/Delta_t) #le nombre de jour total de la simulation"
   ]
  },
  {
   "cell_type": "markdown",
   "metadata": {},
   "source": [
    "On effectue maintenant l'itération avec une boucle *while*. Complète le script ci-après :"
   ]
  },
  {
   "cell_type": "code",
   "execution_count": 7,
   "metadata": {},
   "outputs": [],
   "source": [
    "while i <= i_max:\n",
    "    theta_3 = 2*math.pi*Delta_t*i/T_3\n",
    "    x_t = ... #la position en x de la Terre au jour i\n",
    "    y_t = a_3*math.sqrt(1-e_3*e_3)*math.sin(theta_3) #la position en y de Mars au jour i\n",
    "        \n",
    "    theta_4 = ...\n",
    "    x_m = a_4*e_4+a_4*math.cos(theta_4) #la position en x de Mars au jour i\n",
    "    y_m = ... #la position en y de Mars au jour i\n",
    "                \n",
    "    #On ajoute toutes les positions calculées aux tableaux des positions\n",
    "    X_T_helio.append(x_t)\n",
    "    Y_T_helio.append(y_t)\n",
    "    X_M_helio.append(x_m)\n",
    "    Y_M_helio.append(y_m)\n",
    "\n",
    "    i += 1 "
   ]
  },
  {
   "cell_type": "markdown",
   "metadata": {},
   "source": [
    "On peut dès à présent tracer les résultats qu'on a obtenu :"
   ]
  },
  {
   "cell_type": "code",
   "execution_count": null,
   "metadata": {},
   "outputs": [],
   "source": [
    "plt.style.use('dark_background') #Pour faire un plot avec un fond noir\n",
    "\n",
    "fig, ax_helio = plt.subplots(1, 1, figsize = (5,5))\n",
    "fig.suptitle('Les trajectoires du soleil, de la Terre et de Mars')\n",
    "\n",
    "ax_helio.axis(\"scaled\") #Pour que l'échelle soit la même sur l'axe x et l'axe y\n",
    "ax_helio.set(xlim=(-4e11, 4e11), ylim=(-4e11, 4e11))\n",
    "\n",
    "ax_helio.plot(0, 0, '.', markersize=25, color=\"yellow\", label = \"Soleil\") #On dessine la position du soleil au centre du référentiel \n",
    "ax_helio.grid(True, lw=0.3)\n",
    "ax_helio.plot(X_T_helio, Y_T_helio, 'g-', label = \"Trajectoire de la Terre\") #On trace la trajectoire de la Terre\n",
    "ax_helio.plot(X_M_helio, Y_M_helio, 'r-', label = \"Trajectoire de Mars\") #On trace la trajectoire de Mars\n",
    "ax_helio.title.set_text(\"Référentiel héliocentrique\")\n",
    "ax_helio.legend()\n",
    "\n",
    "plt.show()\n"
   ]
  },
  {
   "cell_type": "markdown",
   "metadata": {},
   "source": [
    "## Obtention des trajectoires dans le référentiel géocentrique\n",
    "\n",
    "On utilise encore des listes pythons pour stocker l'évolution des trajectoires. \n",
    "\n",
    "On conserve le même $i_{max}$ que précédemment mais on réinitialise $i$:"
   ]
  },
  {
   "cell_type": "code",
   "execution_count": 14,
   "metadata": {},
   "outputs": [],
   "source": [
    "i= 0\n",
    "X_M_geo = [] #Position de la Terre selon l'axe x\n",
    "Y_M_geo = []\n",
    "X_S_geo = [] #Position du Soleil selon l'axe x\n",
    "Y_S_geo = []"
   ]
  },
  {
   "cell_type": "markdown",
   "metadata": {},
   "source": [
    "Pour obtenir les trajectoires du Soleil, de la Terre et de Mars, on fait un changement de référentiel simple :\n",
    "\n",
    "- $X_i'=X_i - X_T$\n",
    "- $Y_i'=Y_i - Y_T$\n",
    "\n",
    "On aura donc pour la Terre :\n",
    "\n",
    "- $X_T'=X_T - X_T=0$\n",
    "- $Y_T'=Y_T - Y_T=0$\n",
    "\n",
    "Cela est logique, puisque la Terre se trouve au centre du référentiel géoentrique, par définition.\n",
    "\n",
    "Pour Mars :\n",
    "- $X_M'=X_M - X_T$\n",
    "- $Y_M'=Y_M - Y_T$\n",
    "\n",
    "Et pour le Soleil : (on rappelle que $X_S = Y_S = 0$ dans le référentiel héliocentrique)\n",
    "- $X_S'=X_S - X_T = - X_T$\n",
    "- $Y_S'=Y_S - Y_T=- Y_T$"
   ]
  },
  {
   "cell_type": "code",
   "execution_count": 15,
   "metadata": {},
   "outputs": [],
   "source": [
    "while i <= i_max: \n",
    "    \n",
    "    xm = X_M_helio[i] - X_T_helio[i] #la position relative en x de Mars par rapport à la Terre\n",
    "    ym = ... #la position relative en y de Mars par rapport à la Terre\n",
    "    \n",
    "    xs = ... #la position relative en x du soleilpar rapport à la Terre\n",
    "    ys = ... #la position relative en y du soleilpar rapport à la Terre\n",
    "    \n",
    "    #On ajoute toutes les positions calculées aux tableaux des positions\n",
    "    X_S_geo.append(xs)\n",
    "    Y_S_geo.append(ys)\n",
    "    X_M_geo.append(xm)\n",
    "    Y_M_geo.append(ym)\n",
    "    \n",
    "    \n",
    "    i += 1 #on incrémente i\" pour passer au jour suivant\n"
   ]
  },
  {
   "cell_type": "markdown",
   "metadata": {},
   "source": [
    "On trace les résultats qu'on a obtenu :"
   ]
  },
  {
   "cell_type": "code",
   "execution_count": null,
   "metadata": {},
   "outputs": [],
   "source": [
    "fig, ax_geo = plt.subplots(1, 1, figsize = (5,5))\n",
    "\n",
    "ax_geo.axis(\"scaled\")\n",
    "ax_geo.set(xlim=(-4e11, 4e11), ylim=(-4e11, 4e11))\n",
    "ax_geo.plot(0, 0, '.', markersize=20, color=\"green\", label=\"Terre\")\n",
    "ax_geo.grid(True, lw=0.3)\n",
    "ax_geo.plot(X_S_geo, Y_S_geo, 'y-', label =\"Trajectoire du Soleil\")\n",
    "ax_geo.plot(X_M_geo, Y_M_geo, 'r-',  label =\"Trajectoire de Mars\")\n",
    "ax_geo.title.set_text(\"Référentiel géocentrique\")\n",
    "\n",
    "ax_geo.legend()\n",
    "\n",
    "plt.show()\n"
   ]
  },
  {
   "cell_type": "markdown",
   "metadata": {},
   "source": [
    "On remarque que la trajectoire de Mars n'est pas fermée. On peut faire durer la simulation plus longtemps et on verrait que la trajectoire de Mars ne retourne jamais sur elle même !"
   ]
  },
  {
   "cell_type": "markdown",
   "metadata": {},
   "source": [
    "## Animation des trajectoires :\n",
    "  \n",
    "On peut animer les trajectoires en utilisant la fonctionnalité *FuncAnimation* de *matplotlib.animation*.\n",
    "\n",
    "Pour cela, on doit définir une fonction qui renvoie un itérable des différents éléments à animer pour la i-ème image. C'est ce que fait la fonction **animate**:"
   ]
  },
  {
   "cell_type": "code",
   "execution_count": null,
   "metadata": {},
   "outputs": [],
   "source": [
    "\"\"\"\n",
    "def animate(i):\n",
    "    earth_helio.set_data(X_T_helio[i], Y_T_helio[i])\n",
    "    mars_helio.set_data(X_M_helio[i], Y_M_helio[i])\n",
    "    sun_geo.set_data(X_S_geo[i], Y_S_geo[i])\n",
    "    mars_geo.set_data(X_M_geo[i], Y_M_geo[i])\n",
    "    return earth_helio,mars_helio,sun_geo,mars_geo\n",
    "\n",
    "anim = FuncAnimation(fig, animate, frames=range(0,Suivi*i_max,4), interval=50, repeat=False, blit = True)\n",
    "\"\"\""
   ]
  },
  {
   "cell_type": "markdown",
   "metadata": {},
   "source": [
    "On peut maintenant tracer les animations côte à côte :"
   ]
  },
  {
   "cell_type": "code",
   "execution_count": null,
   "metadata": {},
   "outputs": [],
   "source": [
    "%matplotlib widget\n",
    "\n",
    "fig, (ax_helio, ax_geo) = plt.subplots(1, 2, figsize = (10,5))\n",
    "fig.suptitle('Les trajectoires du soleil, de la Terre et de Mars')\n",
    "\n",
    "ax_helio.axis(\"scaled\")\n",
    "ax_helio.set(xlim=(-4e11, 4e11), ylim=(-4e11, 4e11))\n",
    "earth_helio, = ax_helio.plot([], [], 'g.', markersize=20, label = \"Terre\")\n",
    "mars_helio, = ax_helio.plot([], [], 'r.', markersize=15, label = \"Mars\")\n",
    "ax_helio.plot(0, 0, '.', markersize=25, color=\"yellow\", label = \"Soleil\")\n",
    "ax_helio.grid(True, lw=0.3)\n",
    "ax_helio.plot(X_T_helio, Y_T_helio, 'g-')\n",
    "ax_helio.plot(X_M_helio, Y_M_helio, 'r-')\n",
    "ax_helio.title.set_text(\"Référentiel héliocentrique\")\n",
    "ax_helio.legend()\n",
    "\n",
    "ax_geo.axis(\"scaled\")\n",
    "ax_geo.set(xlim=(-4e11, 4e11), ylim=(-4e11, 4e11))\n",
    "sun_geo, = ax_geo.plot([], [], 'y.', markersize=25, label =\"Soleil\")\n",
    "mars_geo, = ax_geo.plot([], [], 'r.', markersize=15, label =\"Mars\")\n",
    "ax_geo.plot(0, 0, '.', markersize=20, color=\"green\", label=\"Terre\")\n",
    "ax_geo.grid(True, lw=0.3)\n",
    "ax_geo.plot(X_S_geo, Y_S_geo, 'y-')\n",
    "ax_geo.plot(X_M_geo, Y_M_geo, 'r-')\n",
    "ax_geo.title.set_text(\"Référentiel géocentrique\")\n",
    "\n",
    "ax_geo.legend()\n",
    "\n",
    "def animate(i):\n",
    "    earth_helio.set_data(X_T_helio[i], Y_T_helio[i])\n",
    "    mars_helio.set_data(X_M_helio[i], Y_M_helio[i])\n",
    "    sun_geo.set_data(X_S_geo[i], Y_S_geo[i])\n",
    "    mars_geo.set_data(X_M_geo[i], Y_M_geo[i])\n",
    "    return earth_helio,mars_helio,sun_geo,mars_geo\n",
    "\n",
    "anim = FuncAnimation(fig, animate, frames=range(0,Suivi*i_max,4), interval=50, repeat=False, blit = True)\n",
    "\n",
    "plt.show()\n"
   ]
  },
  {
   "cell_type": "markdown",
   "metadata": {},
   "source": [
    "En voyant cette animation, on comprend mieux pourquoi il est difficile d'envoyer des sondes sur Mars. En effet, la période durant laquelle Mars est proche de la Terre est très courte !"
   ]
  },
  {
   "cell_type": "code",
   "execution_count": null,
   "metadata": {},
   "outputs": [],
   "source": [
    "  "
   ]
  }
 ],
 "metadata": {
  "kernelspec": {
   "display_name": "Python 3",
   "language": "python",
   "name": "python3"
  },
  "language_info": {
   "codemirror_mode": {
    "name": "ipython",
    "version": 3
   },
   "file_extension": ".py",
   "mimetype": "text/x-python",
   "name": "python",
   "nbconvert_exporter": "python",
   "pygments_lexer": "ipython3",
   "version": "3.8.5"
  }
 },
 "nbformat": 4,
 "nbformat_minor": 4
}
